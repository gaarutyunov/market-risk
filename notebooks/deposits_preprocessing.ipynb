{
 "cells": [
  {
   "cell_type": "code",
   "execution_count": 1,
   "metadata": {
    "collapsed": true,
    "pycharm": {
     "name": "#%%\n"
    }
   },
   "outputs": [],
   "source": [
    "from datetime import datetime\n",
    "from pathlib import Path\n",
    "\n",
    "import dateparser\n",
    "import pandas as pd"
   ]
  },
  {
   "cell_type": "code",
   "execution_count": 2,
   "outputs": [
    {
     "name": "stderr",
     "output_type": "stream",
     "text": [
      "/Users/germanarutunov/Projects/ftiad/venv/lib/python3.9/site-packages/dateparser/date_parser.py:35: PytzUsageWarning: The localize method is no longer necessary, as this time zone supports the fold attribute (PEP 495). For more details on migrating to a PEP 495-compliant implementation, see https://pytz-deprecation-shim.readthedocs.io/en/latest/migration.html\n",
      "  date_obj = stz.localize(date_obj)\n"
     ]
    }
   ],
   "source": [
    "__DEPOSITS_PATH__ = Path('..', 'data', 'deposits.xlsx')\n",
    "\n",
    "df = pd.read_excel(__DEPOSITS_PATH__, parse_dates=[0], date_parser=dateparser.parse, header=0, index_col=0, skiprows=4, skipfooter=1)"
   ],
   "metadata": {
    "collapsed": false,
    "pycharm": {
     "name": "#%%\n"
    }
   }
  },
  {
   "cell_type": "code",
   "execution_count": 3,
   "outputs": [],
   "source": [
    "df = df.iloc[:, :11]"
   ],
   "metadata": {
    "collapsed": false,
    "pycharm": {
     "name": "#%%\n"
    }
   }
  },
  {
   "cell_type": "code",
   "execution_count": 4,
   "outputs": [
    {
     "name": "stdout",
     "output_type": "stream",
     "text": [
      "demand: \"до востребова-ния\"**\n",
      "lt_30d_with_demand: до 30 дней, включая \"до востребова-ния\"\n",
      "lt_30d_no_demand: до 30 дней, кроме \"до востребова-ния\"\n",
      "31d_to_90d: от 31 до 90 дней\n",
      "91d_to_180d: от 91 до 180 дней\n",
      "181d_to_1y: от 181 дня до 1 года\n",
      "lt_1y_with_demand: до 1 года, включая \"до востребова-ния\"\n",
      "lt_1y_no_demand: до 1 года, кроме \"до востребова-ния\"\n",
      "1y_to_3y: от 1 года до 3 лет\n",
      "gt_3y: свыше 3 лет\n",
      "gt_1y: свыше 1 года\n"
     ]
    }
   ],
   "source": [
    "columns = ['demand', 'lt_30d_with_demand', 'lt_30d_no_demand', '31d_to_90d', '91d_to_180d', '181d_to_1y', 'lt_1y_with_demand', 'lt_1y_no_demand', '1y_to_3y', 'gt_3y', 'gt_1y']\n",
    "\n",
    "header_mapping = dict(zip(df.columns.values, columns))\n",
    "\n",
    "for meaning, header in header_mapping.items():\n",
    "    print('%s: %s' % (header, meaning.replace(\"''\", \"\\\"\")))"
   ],
   "metadata": {
    "collapsed": false,
    "pycharm": {
     "name": "#%%\n"
    }
   }
  },
  {
   "cell_type": "code",
   "execution_count": 5,
   "outputs": [],
   "source": [
    "renamed = df.rename(columns=header_mapping)"
   ],
   "metadata": {
    "collapsed": false,
    "pycharm": {
     "name": "#%%\n"
    }
   }
  },
  {
   "cell_type": "code",
   "execution_count": 6,
   "outputs": [],
   "source": [
    "renamed.index = renamed.index.map(lambda t: t.replace(day=1))"
   ],
   "metadata": {
    "collapsed": false,
    "pycharm": {
     "name": "#%%\n"
    }
   }
  },
  {
   "cell_type": "code",
   "execution_count": 7,
   "outputs": [
    {
     "data": {
      "text/plain": "(98, 11)"
     },
     "execution_count": 7,
     "metadata": {},
     "output_type": "execute_result"
    }
   ],
   "source": [
    "renamed.shape"
   ],
   "metadata": {
    "collapsed": false,
    "pycharm": {
     "name": "#%%\n"
    }
   }
  },
  {
   "cell_type": "code",
   "execution_count": 8,
   "outputs": [],
   "source": [
    "renamed.to_pickle(str(Path('..', 'data', 'deposits.pickle')))"
   ],
   "metadata": {
    "collapsed": false,
    "pycharm": {
     "name": "#%%\n"
    }
   }
  },
  {
   "cell_type": "code",
   "execution_count": 9,
   "outputs": [],
   "source": [
    "check_df = pd.read_pickle(str(Path('..', 'data', 'deposits.pickle')))"
   ],
   "metadata": {
    "collapsed": false,
    "pycharm": {
     "name": "#%%\n"
    }
   }
  },
  {
   "cell_type": "code",
   "execution_count": 10,
   "outputs": [
    {
     "data": {
      "text/plain": "(98, 11)"
     },
     "execution_count": 10,
     "metadata": {},
     "output_type": "execute_result"
    }
   ],
   "source": [
    "check_df.shape"
   ],
   "metadata": {
    "collapsed": false,
    "pycharm": {
     "name": "#%%\n"
    }
   }
  },
  {
   "cell_type": "code",
   "execution_count": 10,
   "outputs": [],
   "source": [],
   "metadata": {
    "collapsed": false,
    "pycharm": {
     "name": "#%%\n"
    }
   }
  }
 ],
 "metadata": {
  "kernelspec": {
   "display_name": "Python 3",
   "language": "python",
   "name": "python3"
  },
  "language_info": {
   "codemirror_mode": {
    "name": "ipython",
    "version": 2
   },
   "file_extension": ".py",
   "mimetype": "text/x-python",
   "name": "python",
   "nbconvert_exporter": "python",
   "pygments_lexer": "ipython2",
   "version": "2.7.6"
  }
 },
 "nbformat": 4,
 "nbformat_minor": 0
}