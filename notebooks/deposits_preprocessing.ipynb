{
 "cells": [
  {
   "cell_type": "code",
   "execution_count": 5,
   "metadata": {
    "collapsed": true,
    "pycharm": {
     "name": "#%%\n"
    }
   },
   "outputs": [],
   "source": [
    "from datetime import datetime\n",
    "from pathlib import Path\n",
    "\n",
    "import dateparser\n",
    "import pandas as pd"
   ]
  },
  {
   "cell_type": "code",
   "execution_count": 6,
   "outputs": [],
   "source": [
    "__DEPOSITS_PATH__ = Path('..', 'data', 'deposits.xlsx')"
   ],
   "metadata": {
    "collapsed": false,
    "pycharm": {
     "name": "#%%\n"
    }
   }
  },
  {
   "cell_type": "code",
   "execution_count": 7,
   "outputs": [],
   "source": [
    "def parse_currency(currency: str = 'RUB') -> pd.DataFrame:\n",
    "    df = pd.read_excel(__DEPOSITS_PATH__, parse_dates=[0], date_parser=dateparser.parse, header=0, index_col=0, skiprows=4, skipfooter=1, sheet_name=currency)\n",
    "    df = df.iloc[:, :11]\n",
    "    columns = ['demand', 'lt_30d_with_demand', 'lt_30d_no_demand', '31d_to_90d', '91d_to_180d', '181d_to_1y', 'lt_1y_with_demand', 'lt_1y_no_demand', '1y_to_3y', 'gt_3y', 'gt_1y']\n",
    "\n",
    "    header_mapping = dict(zip(df.columns.values, columns))\n",
    "    renamed = df.rename(columns=header_mapping)\n",
    "    renamed.index = renamed.index.map(lambda t: t.replace(day=1))\n",
    "    renamed.to_pickle(str(Path('..', 'data', 'deposits', currency + '.pickle')))\n",
    "\n",
    "    return renamed"
   ],
   "metadata": {
    "collapsed": false,
    "pycharm": {
     "name": "#%%\n"
    }
   }
  },
  {
   "cell_type": "code",
   "execution_count": 8,
   "outputs": [
    {
     "name": "stderr",
     "output_type": "stream",
     "text": [
      "/Users/germanarutunov/Projects/ftiad/venv/lib/python3.9/site-packages/dateparser/date_parser.py:35: PytzUsageWarning: The localize method is no longer necessary, as this time zone supports the fold attribute (PEP 495). For more details on migrating to a PEP 495-compliant implementation, see https://pytz-deprecation-shim.readthedocs.io/en/latest/migration.html\n",
      "  date_obj = stz.localize(date_obj)\n"
     ]
    },
    {
     "data": {
      "text/plain": "            demand  lt_30d_with_demand  lt_30d_no_demand  31d_to_90d  \\\n2014-01-01    1.98                2.18              4.85        5.01   \n2014-02-01    1.77                2.30              4.85        4.98   \n2014-03-01    1.57                1.79              4.74        5.01   \n2014-04-01    1.28                1.84              4.54        5.07   \n2014-05-01    1.10                1.41              5.48        5.10   \n...            ...                 ...               ...         ...   \n2021-10-01    4.29                3.99              3.53        3.51   \n2021-11-01    4.97                4.58              3.94        3.81   \n2021-12-01    5.94                6.31              6.87        4.43   \n2022-01-01    5.45                5.95              6.82        5.03   \n2022-02-01    5.47                6.08              6.76        7.05   \n\n            91d_to_180d  181d_to_1y  lt_1y_with_demand  lt_1y_no_demand  \\\n2014-01-01         5.80        7.17               5.30             6.03   \n2014-02-01         5.75        7.04               5.09             5.94   \n2014-03-01         5.64        7.02               5.07             5.91   \n2014-04-01         5.68        7.20               5.18             6.04   \n2014-05-01         5.79        7.19               5.19             6.06   \n...                 ...         ...                ...              ...   \n2021-10-01         3.82        4.67               4.33             4.34   \n2021-11-01         3.87        4.98               4.62             4.60   \n2021-12-01         4.73        5.05               5.12             5.05   \n2022-01-01         5.16        4.98               5.11             5.08   \n2022-02-01         6.27        6.20               6.31             6.37   \n\n            1y_to_3y  gt_3y  gt_1y  \n2014-01-01      7.32   7.43   7.33  \n2014-02-01      7.30   7.28   7.30  \n2014-03-01      7.17   7.08   7.17  \n2014-04-01      7.61   6.97   7.56  \n2014-05-01      7.85   6.95   7.78  \n...              ...    ...    ...  \n2021-10-01      6.06   6.15   6.07  \n2021-11-01      6.46   7.09   6.50  \n2021-12-01      7.43   7.68   7.44  \n2022-01-01      7.67   7.65   7.67  \n2022-02-01      8.12   8.35   8.13  \n\n[98 rows x 11 columns]",
      "text/html": "<div>\n<style scoped>\n    .dataframe tbody tr th:only-of-type {\n        vertical-align: middle;\n    }\n\n    .dataframe tbody tr th {\n        vertical-align: top;\n    }\n\n    .dataframe thead th {\n        text-align: right;\n    }\n</style>\n<table border=\"1\" class=\"dataframe\">\n  <thead>\n    <tr style=\"text-align: right;\">\n      <th></th>\n      <th>demand</th>\n      <th>lt_30d_with_demand</th>\n      <th>lt_30d_no_demand</th>\n      <th>31d_to_90d</th>\n      <th>91d_to_180d</th>\n      <th>181d_to_1y</th>\n      <th>lt_1y_with_demand</th>\n      <th>lt_1y_no_demand</th>\n      <th>1y_to_3y</th>\n      <th>gt_3y</th>\n      <th>gt_1y</th>\n    </tr>\n  </thead>\n  <tbody>\n    <tr>\n      <th>2014-01-01</th>\n      <td>1.98</td>\n      <td>2.18</td>\n      <td>4.85</td>\n      <td>5.01</td>\n      <td>5.80</td>\n      <td>7.17</td>\n      <td>5.30</td>\n      <td>6.03</td>\n      <td>7.32</td>\n      <td>7.43</td>\n      <td>7.33</td>\n    </tr>\n    <tr>\n      <th>2014-02-01</th>\n      <td>1.77</td>\n      <td>2.30</td>\n      <td>4.85</td>\n      <td>4.98</td>\n      <td>5.75</td>\n      <td>7.04</td>\n      <td>5.09</td>\n      <td>5.94</td>\n      <td>7.30</td>\n      <td>7.28</td>\n      <td>7.30</td>\n    </tr>\n    <tr>\n      <th>2014-03-01</th>\n      <td>1.57</td>\n      <td>1.79</td>\n      <td>4.74</td>\n      <td>5.01</td>\n      <td>5.64</td>\n      <td>7.02</td>\n      <td>5.07</td>\n      <td>5.91</td>\n      <td>7.17</td>\n      <td>7.08</td>\n      <td>7.17</td>\n    </tr>\n    <tr>\n      <th>2014-04-01</th>\n      <td>1.28</td>\n      <td>1.84</td>\n      <td>4.54</td>\n      <td>5.07</td>\n      <td>5.68</td>\n      <td>7.20</td>\n      <td>5.18</td>\n      <td>6.04</td>\n      <td>7.61</td>\n      <td>6.97</td>\n      <td>7.56</td>\n    </tr>\n    <tr>\n      <th>2014-05-01</th>\n      <td>1.10</td>\n      <td>1.41</td>\n      <td>5.48</td>\n      <td>5.10</td>\n      <td>5.79</td>\n      <td>7.19</td>\n      <td>5.19</td>\n      <td>6.06</td>\n      <td>7.85</td>\n      <td>6.95</td>\n      <td>7.78</td>\n    </tr>\n    <tr>\n      <th>...</th>\n      <td>...</td>\n      <td>...</td>\n      <td>...</td>\n      <td>...</td>\n      <td>...</td>\n      <td>...</td>\n      <td>...</td>\n      <td>...</td>\n      <td>...</td>\n      <td>...</td>\n      <td>...</td>\n    </tr>\n    <tr>\n      <th>2021-10-01</th>\n      <td>4.29</td>\n      <td>3.99</td>\n      <td>3.53</td>\n      <td>3.51</td>\n      <td>3.82</td>\n      <td>4.67</td>\n      <td>4.33</td>\n      <td>4.34</td>\n      <td>6.06</td>\n      <td>6.15</td>\n      <td>6.07</td>\n    </tr>\n    <tr>\n      <th>2021-11-01</th>\n      <td>4.97</td>\n      <td>4.58</td>\n      <td>3.94</td>\n      <td>3.81</td>\n      <td>3.87</td>\n      <td>4.98</td>\n      <td>4.62</td>\n      <td>4.60</td>\n      <td>6.46</td>\n      <td>7.09</td>\n      <td>6.50</td>\n    </tr>\n    <tr>\n      <th>2021-12-01</th>\n      <td>5.94</td>\n      <td>6.31</td>\n      <td>6.87</td>\n      <td>4.43</td>\n      <td>4.73</td>\n      <td>5.05</td>\n      <td>5.12</td>\n      <td>5.05</td>\n      <td>7.43</td>\n      <td>7.68</td>\n      <td>7.44</td>\n    </tr>\n    <tr>\n      <th>2022-01-01</th>\n      <td>5.45</td>\n      <td>5.95</td>\n      <td>6.82</td>\n      <td>5.03</td>\n      <td>5.16</td>\n      <td>4.98</td>\n      <td>5.11</td>\n      <td>5.08</td>\n      <td>7.67</td>\n      <td>7.65</td>\n      <td>7.67</td>\n    </tr>\n    <tr>\n      <th>2022-02-01</th>\n      <td>5.47</td>\n      <td>6.08</td>\n      <td>6.76</td>\n      <td>7.05</td>\n      <td>6.27</td>\n      <td>6.20</td>\n      <td>6.31</td>\n      <td>6.37</td>\n      <td>8.12</td>\n      <td>8.35</td>\n      <td>8.13</td>\n    </tr>\n  </tbody>\n</table>\n<p>98 rows × 11 columns</p>\n</div>"
     },
     "execution_count": 8,
     "metadata": {},
     "output_type": "execute_result"
    }
   ],
   "source": [
    "parse_currency('RUB')"
   ],
   "metadata": {
    "collapsed": false,
    "pycharm": {
     "name": "#%%\n"
    }
   }
  },
  {
   "cell_type": "code",
   "execution_count": 9,
   "outputs": [
    {
     "name": "stderr",
     "output_type": "stream",
     "text": [
      "/Users/germanarutunov/Projects/ftiad/venv/lib/python3.9/site-packages/dateparser/date_parser.py:35: PytzUsageWarning: The localize method is no longer necessary, as this time zone supports the fold attribute (PEP 495). For more details on migrating to a PEP 495-compliant implementation, see https://pytz-deprecation-shim.readthedocs.io/en/latest/migration.html\n",
      "  date_obj = stz.localize(date_obj)\n"
     ]
    },
    {
     "data": {
      "text/plain": "            demand  lt_30d_with_demand  lt_30d_no_demand  31d_to_90d  \\\n2014-01-01    0.58                0.60              0.94        1.13   \n2014-02-01    0.29                0.33              0.67        1.29   \n2014-03-01    0.33                0.37              1.12        0.85   \n2014-04-01    0.39                0.66              2.22        0.86   \n2014-05-01    0.30                0.41              1.49        1.00   \n...            ...                 ...               ...         ...   \n2021-10-01    0.23                0.38              0.41        0.36   \n2021-11-01    0.18                0.33              0.40        0.28   \n2021-12-01    0.02                0.38              0.44        0.30   \n2022-01-01    0.05                0.43              0.46        0.36   \n2022-02-01    0.53                0.49              0.47        0.23   \n\n            91d_to_180d  181d_to_1y  lt_1y_with_demand  lt_1y_no_demand  \\\n2014-01-01         1.66        2.92               2.01             2.26   \n2014-02-01         1.59        2.80               1.84             2.20   \n2014-03-01         1.87        2.54               1.66             2.01   \n2014-04-01         1.71        2.87               1.87             2.12   \n2014-05-01         1.71        2.74               1.78             1.99   \n...                 ...         ...                ...              ...   \n2021-10-01         0.27        0.46               0.42             0.43   \n2021-11-01         0.26        0.39               0.36             0.38   \n2021-12-01         0.31        0.42               0.40             0.42   \n2022-01-01         0.30        0.38               0.39             0.40   \n2022-02-01         3.29        0.46               0.83             0.86   \n\n            1y_to_3y  gt_3y  gt_1y  \n2014-01-01      2.75   2.78   2.75  \n2014-02-01      2.89   2.88   2.89  \n2014-03-01      2.59   2.24   2.55  \n2014-04-01      3.34   2.61   3.26  \n2014-05-01      2.94   2.76   2.91  \n...              ...    ...    ...  \n2021-10-01      0.71   1.12   0.76  \n2021-11-01      0.69   1.21   0.85  \n2021-12-01      0.68   1.49   0.83  \n2022-01-01      0.76   1.31   0.83  \n2022-02-01      0.73   1.38   0.78  \n\n[98 rows x 11 columns]",
      "text/html": "<div>\n<style scoped>\n    .dataframe tbody tr th:only-of-type {\n        vertical-align: middle;\n    }\n\n    .dataframe tbody tr th {\n        vertical-align: top;\n    }\n\n    .dataframe thead th {\n        text-align: right;\n    }\n</style>\n<table border=\"1\" class=\"dataframe\">\n  <thead>\n    <tr style=\"text-align: right;\">\n      <th></th>\n      <th>demand</th>\n      <th>lt_30d_with_demand</th>\n      <th>lt_30d_no_demand</th>\n      <th>31d_to_90d</th>\n      <th>91d_to_180d</th>\n      <th>181d_to_1y</th>\n      <th>lt_1y_with_demand</th>\n      <th>lt_1y_no_demand</th>\n      <th>1y_to_3y</th>\n      <th>gt_3y</th>\n      <th>gt_1y</th>\n    </tr>\n  </thead>\n  <tbody>\n    <tr>\n      <th>2014-01-01</th>\n      <td>0.58</td>\n      <td>0.60</td>\n      <td>0.94</td>\n      <td>1.13</td>\n      <td>1.66</td>\n      <td>2.92</td>\n      <td>2.01</td>\n      <td>2.26</td>\n      <td>2.75</td>\n      <td>2.78</td>\n      <td>2.75</td>\n    </tr>\n    <tr>\n      <th>2014-02-01</th>\n      <td>0.29</td>\n      <td>0.33</td>\n      <td>0.67</td>\n      <td>1.29</td>\n      <td>1.59</td>\n      <td>2.80</td>\n      <td>1.84</td>\n      <td>2.20</td>\n      <td>2.89</td>\n      <td>2.88</td>\n      <td>2.89</td>\n    </tr>\n    <tr>\n      <th>2014-03-01</th>\n      <td>0.33</td>\n      <td>0.37</td>\n      <td>1.12</td>\n      <td>0.85</td>\n      <td>1.87</td>\n      <td>2.54</td>\n      <td>1.66</td>\n      <td>2.01</td>\n      <td>2.59</td>\n      <td>2.24</td>\n      <td>2.55</td>\n    </tr>\n    <tr>\n      <th>2014-04-01</th>\n      <td>0.39</td>\n      <td>0.66</td>\n      <td>2.22</td>\n      <td>0.86</td>\n      <td>1.71</td>\n      <td>2.87</td>\n      <td>1.87</td>\n      <td>2.12</td>\n      <td>3.34</td>\n      <td>2.61</td>\n      <td>3.26</td>\n    </tr>\n    <tr>\n      <th>2014-05-01</th>\n      <td>0.30</td>\n      <td>0.41</td>\n      <td>1.49</td>\n      <td>1.00</td>\n      <td>1.71</td>\n      <td>2.74</td>\n      <td>1.78</td>\n      <td>1.99</td>\n      <td>2.94</td>\n      <td>2.76</td>\n      <td>2.91</td>\n    </tr>\n    <tr>\n      <th>...</th>\n      <td>...</td>\n      <td>...</td>\n      <td>...</td>\n      <td>...</td>\n      <td>...</td>\n      <td>...</td>\n      <td>...</td>\n      <td>...</td>\n      <td>...</td>\n      <td>...</td>\n      <td>...</td>\n    </tr>\n    <tr>\n      <th>2021-10-01</th>\n      <td>0.23</td>\n      <td>0.38</td>\n      <td>0.41</td>\n      <td>0.36</td>\n      <td>0.27</td>\n      <td>0.46</td>\n      <td>0.42</td>\n      <td>0.43</td>\n      <td>0.71</td>\n      <td>1.12</td>\n      <td>0.76</td>\n    </tr>\n    <tr>\n      <th>2021-11-01</th>\n      <td>0.18</td>\n      <td>0.33</td>\n      <td>0.40</td>\n      <td>0.28</td>\n      <td>0.26</td>\n      <td>0.39</td>\n      <td>0.36</td>\n      <td>0.38</td>\n      <td>0.69</td>\n      <td>1.21</td>\n      <td>0.85</td>\n    </tr>\n    <tr>\n      <th>2021-12-01</th>\n      <td>0.02</td>\n      <td>0.38</td>\n      <td>0.44</td>\n      <td>0.30</td>\n      <td>0.31</td>\n      <td>0.42</td>\n      <td>0.40</td>\n      <td>0.42</td>\n      <td>0.68</td>\n      <td>1.49</td>\n      <td>0.83</td>\n    </tr>\n    <tr>\n      <th>2022-01-01</th>\n      <td>0.05</td>\n      <td>0.43</td>\n      <td>0.46</td>\n      <td>0.36</td>\n      <td>0.30</td>\n      <td>0.38</td>\n      <td>0.39</td>\n      <td>0.40</td>\n      <td>0.76</td>\n      <td>1.31</td>\n      <td>0.83</td>\n    </tr>\n    <tr>\n      <th>2022-02-01</th>\n      <td>0.53</td>\n      <td>0.49</td>\n      <td>0.47</td>\n      <td>0.23</td>\n      <td>3.29</td>\n      <td>0.46</td>\n      <td>0.83</td>\n      <td>0.86</td>\n      <td>0.73</td>\n      <td>1.38</td>\n      <td>0.78</td>\n    </tr>\n  </tbody>\n</table>\n<p>98 rows × 11 columns</p>\n</div>"
     },
     "execution_count": 9,
     "metadata": {},
     "output_type": "execute_result"
    }
   ],
   "source": [
    "parse_currency('USD')"
   ],
   "metadata": {
    "collapsed": false,
    "pycharm": {
     "name": "#%%\n"
    }
   }
  },
  {
   "cell_type": "code",
   "execution_count": 10,
   "outputs": [
    {
     "name": "stderr",
     "output_type": "stream",
     "text": [
      "/Users/germanarutunov/Projects/ftiad/venv/lib/python3.9/site-packages/dateparser/date_parser.py:35: PytzUsageWarning: The localize method is no longer necessary, as this time zone supports the fold attribute (PEP 495). For more details on migrating to a PEP 495-compliant implementation, see https://pytz-deprecation-shim.readthedocs.io/en/latest/migration.html\n",
      "  date_obj = stz.localize(date_obj)\n"
     ]
    },
    {
     "data": {
      "text/plain": "            demand  lt_30d_with_demand lt_30d_no_demand  31d_to_90d  \\\n2014-01-01    0.38                0.42             1.08        0.80   \n2014-02-01    0.31                0.37             0.77        0.90   \n2014-03-01    0.52                0.54             1.18        0.71   \n2014-04-01    0.56                0.58             0.72        0.68   \n2014-05-01    0.49                0.54             1.18        0.86   \n...            ...                 ...              ...         ...   \n2021-10-01    0.01                0.01                -        0.10   \n2021-11-01    0.01                0.01                -        0.10   \n2021-12-01    0.01                0.01                -        0.10   \n2022-01-01    0.01                0.01                -        0.10   \n2022-02-01    0.01                0.01                -        0.10   \n\n            91d_to_180d  181d_to_1y  lt_1y_with_demand  lt_1y_no_demand  \\\n2014-01-01         1.32        2.37               1.59             1.80   \n2014-02-01         1.33        2.24               1.47             1.70   \n2014-03-01         1.26        2.13               1.35             1.58   \n2014-04-01         1.33        2.46               1.54             1.73   \n2014-05-01         1.38        2.29               1.47             1.64   \n...                 ...         ...                ...              ...   \n2021-10-01         0.11        0.26               0.03             0.24   \n2021-11-01         0.12        0.34               0.02             0.31   \n2021-12-01         0.14        0.26               0.06             0.23   \n2022-01-01         0.12        0.20               0.05             0.20   \n2022-02-01         2.30        0.21               0.11             0.87   \n\n            1y_to_3y gt_3y  gt_1y  \n2014-01-01      2.77  1.91   2.70  \n2014-02-01      2.55  1.92   2.49  \n2014-03-01      2.26  1.69   2.18  \n2014-04-01      2.81  2.06   2.74  \n2014-05-01      2.81  1.89   2.72  \n...              ...   ...    ...  \n2021-10-01      0.40  0.19   0.29  \n2021-11-01      0.39  0.18   0.37  \n2021-12-01      0.39  0.31   0.38  \n2022-01-01      0.37  0.53   0.41  \n2022-02-01      0.40  0.38   0.38  \n\n[98 rows x 11 columns]",
      "text/html": "<div>\n<style scoped>\n    .dataframe tbody tr th:only-of-type {\n        vertical-align: middle;\n    }\n\n    .dataframe tbody tr th {\n        vertical-align: top;\n    }\n\n    .dataframe thead th {\n        text-align: right;\n    }\n</style>\n<table border=\"1\" class=\"dataframe\">\n  <thead>\n    <tr style=\"text-align: right;\">\n      <th></th>\n      <th>demand</th>\n      <th>lt_30d_with_demand</th>\n      <th>lt_30d_no_demand</th>\n      <th>31d_to_90d</th>\n      <th>91d_to_180d</th>\n      <th>181d_to_1y</th>\n      <th>lt_1y_with_demand</th>\n      <th>lt_1y_no_demand</th>\n      <th>1y_to_3y</th>\n      <th>gt_3y</th>\n      <th>gt_1y</th>\n    </tr>\n  </thead>\n  <tbody>\n    <tr>\n      <th>2014-01-01</th>\n      <td>0.38</td>\n      <td>0.42</td>\n      <td>1.08</td>\n      <td>0.80</td>\n      <td>1.32</td>\n      <td>2.37</td>\n      <td>1.59</td>\n      <td>1.80</td>\n      <td>2.77</td>\n      <td>1.91</td>\n      <td>2.70</td>\n    </tr>\n    <tr>\n      <th>2014-02-01</th>\n      <td>0.31</td>\n      <td>0.37</td>\n      <td>0.77</td>\n      <td>0.90</td>\n      <td>1.33</td>\n      <td>2.24</td>\n      <td>1.47</td>\n      <td>1.70</td>\n      <td>2.55</td>\n      <td>1.92</td>\n      <td>2.49</td>\n    </tr>\n    <tr>\n      <th>2014-03-01</th>\n      <td>0.52</td>\n      <td>0.54</td>\n      <td>1.18</td>\n      <td>0.71</td>\n      <td>1.26</td>\n      <td>2.13</td>\n      <td>1.35</td>\n      <td>1.58</td>\n      <td>2.26</td>\n      <td>1.69</td>\n      <td>2.18</td>\n    </tr>\n    <tr>\n      <th>2014-04-01</th>\n      <td>0.56</td>\n      <td>0.58</td>\n      <td>0.72</td>\n      <td>0.68</td>\n      <td>1.33</td>\n      <td>2.46</td>\n      <td>1.54</td>\n      <td>1.73</td>\n      <td>2.81</td>\n      <td>2.06</td>\n      <td>2.74</td>\n    </tr>\n    <tr>\n      <th>2014-05-01</th>\n      <td>0.49</td>\n      <td>0.54</td>\n      <td>1.18</td>\n      <td>0.86</td>\n      <td>1.38</td>\n      <td>2.29</td>\n      <td>1.47</td>\n      <td>1.64</td>\n      <td>2.81</td>\n      <td>1.89</td>\n      <td>2.72</td>\n    </tr>\n    <tr>\n      <th>...</th>\n      <td>...</td>\n      <td>...</td>\n      <td>...</td>\n      <td>...</td>\n      <td>...</td>\n      <td>...</td>\n      <td>...</td>\n      <td>...</td>\n      <td>...</td>\n      <td>...</td>\n      <td>...</td>\n    </tr>\n    <tr>\n      <th>2021-10-01</th>\n      <td>0.01</td>\n      <td>0.01</td>\n      <td>-</td>\n      <td>0.10</td>\n      <td>0.11</td>\n      <td>0.26</td>\n      <td>0.03</td>\n      <td>0.24</td>\n      <td>0.40</td>\n      <td>0.19</td>\n      <td>0.29</td>\n    </tr>\n    <tr>\n      <th>2021-11-01</th>\n      <td>0.01</td>\n      <td>0.01</td>\n      <td>-</td>\n      <td>0.10</td>\n      <td>0.12</td>\n      <td>0.34</td>\n      <td>0.02</td>\n      <td>0.31</td>\n      <td>0.39</td>\n      <td>0.18</td>\n      <td>0.37</td>\n    </tr>\n    <tr>\n      <th>2021-12-01</th>\n      <td>0.01</td>\n      <td>0.01</td>\n      <td>-</td>\n      <td>0.10</td>\n      <td>0.14</td>\n      <td>0.26</td>\n      <td>0.06</td>\n      <td>0.23</td>\n      <td>0.39</td>\n      <td>0.31</td>\n      <td>0.38</td>\n    </tr>\n    <tr>\n      <th>2022-01-01</th>\n      <td>0.01</td>\n      <td>0.01</td>\n      <td>-</td>\n      <td>0.10</td>\n      <td>0.12</td>\n      <td>0.20</td>\n      <td>0.05</td>\n      <td>0.20</td>\n      <td>0.37</td>\n      <td>0.53</td>\n      <td>0.41</td>\n    </tr>\n    <tr>\n      <th>2022-02-01</th>\n      <td>0.01</td>\n      <td>0.01</td>\n      <td>-</td>\n      <td>0.10</td>\n      <td>2.30</td>\n      <td>0.21</td>\n      <td>0.11</td>\n      <td>0.87</td>\n      <td>0.40</td>\n      <td>0.38</td>\n      <td>0.38</td>\n    </tr>\n  </tbody>\n</table>\n<p>98 rows × 11 columns</p>\n</div>"
     },
     "execution_count": 10,
     "metadata": {},
     "output_type": "execute_result"
    }
   ],
   "source": [
    "parse_currency('EUR')"
   ],
   "metadata": {
    "collapsed": false,
    "pycharm": {
     "name": "#%%\n"
    }
   }
  },
  {
   "cell_type": "code",
   "execution_count": 12,
   "outputs": [
    {
     "data": {
      "text/plain": "            demand  lt_30d_with_demand lt_30d_no_demand  31d_to_90d  \\\n2014-01-01    0.38                0.42             1.08        0.80   \n2014-02-01    0.31                0.37             0.77        0.90   \n2014-03-01    0.52                0.54             1.18        0.71   \n2014-04-01    0.56                0.58             0.72        0.68   \n2014-05-01    0.49                0.54             1.18        0.86   \n...            ...                 ...              ...         ...   \n2021-10-01    0.01                0.01                -        0.10   \n2021-11-01    0.01                0.01                -        0.10   \n2021-12-01    0.01                0.01                -        0.10   \n2022-01-01    0.01                0.01                -        0.10   \n2022-02-01    0.01                0.01                -        0.10   \n\n            91d_to_180d  181d_to_1y  lt_1y_with_demand  lt_1y_no_demand  \\\n2014-01-01         1.32        2.37               1.59             1.80   \n2014-02-01         1.33        2.24               1.47             1.70   \n2014-03-01         1.26        2.13               1.35             1.58   \n2014-04-01         1.33        2.46               1.54             1.73   \n2014-05-01         1.38        2.29               1.47             1.64   \n...                 ...         ...                ...              ...   \n2021-10-01         0.11        0.26               0.03             0.24   \n2021-11-01         0.12        0.34               0.02             0.31   \n2021-12-01         0.14        0.26               0.06             0.23   \n2022-01-01         0.12        0.20               0.05             0.20   \n2022-02-01         2.30        0.21               0.11             0.87   \n\n            1y_to_3y gt_3y  gt_1y  \n2014-01-01      2.77  1.91   2.70  \n2014-02-01      2.55  1.92   2.49  \n2014-03-01      2.26  1.69   2.18  \n2014-04-01      2.81  2.06   2.74  \n2014-05-01      2.81  1.89   2.72  \n...              ...   ...    ...  \n2021-10-01      0.40  0.19   0.29  \n2021-11-01      0.39  0.18   0.37  \n2021-12-01      0.39  0.31   0.38  \n2022-01-01      0.37  0.53   0.41  \n2022-02-01      0.40  0.38   0.38  \n\n[98 rows x 11 columns]",
      "text/html": "<div>\n<style scoped>\n    .dataframe tbody tr th:only-of-type {\n        vertical-align: middle;\n    }\n\n    .dataframe tbody tr th {\n        vertical-align: top;\n    }\n\n    .dataframe thead th {\n        text-align: right;\n    }\n</style>\n<table border=\"1\" class=\"dataframe\">\n  <thead>\n    <tr style=\"text-align: right;\">\n      <th></th>\n      <th>demand</th>\n      <th>lt_30d_with_demand</th>\n      <th>lt_30d_no_demand</th>\n      <th>31d_to_90d</th>\n      <th>91d_to_180d</th>\n      <th>181d_to_1y</th>\n      <th>lt_1y_with_demand</th>\n      <th>lt_1y_no_demand</th>\n      <th>1y_to_3y</th>\n      <th>gt_3y</th>\n      <th>gt_1y</th>\n    </tr>\n  </thead>\n  <tbody>\n    <tr>\n      <th>2014-01-01</th>\n      <td>0.38</td>\n      <td>0.42</td>\n      <td>1.08</td>\n      <td>0.80</td>\n      <td>1.32</td>\n      <td>2.37</td>\n      <td>1.59</td>\n      <td>1.80</td>\n      <td>2.77</td>\n      <td>1.91</td>\n      <td>2.70</td>\n    </tr>\n    <tr>\n      <th>2014-02-01</th>\n      <td>0.31</td>\n      <td>0.37</td>\n      <td>0.77</td>\n      <td>0.90</td>\n      <td>1.33</td>\n      <td>2.24</td>\n      <td>1.47</td>\n      <td>1.70</td>\n      <td>2.55</td>\n      <td>1.92</td>\n      <td>2.49</td>\n    </tr>\n    <tr>\n      <th>2014-03-01</th>\n      <td>0.52</td>\n      <td>0.54</td>\n      <td>1.18</td>\n      <td>0.71</td>\n      <td>1.26</td>\n      <td>2.13</td>\n      <td>1.35</td>\n      <td>1.58</td>\n      <td>2.26</td>\n      <td>1.69</td>\n      <td>2.18</td>\n    </tr>\n    <tr>\n      <th>2014-04-01</th>\n      <td>0.56</td>\n      <td>0.58</td>\n      <td>0.72</td>\n      <td>0.68</td>\n      <td>1.33</td>\n      <td>2.46</td>\n      <td>1.54</td>\n      <td>1.73</td>\n      <td>2.81</td>\n      <td>2.06</td>\n      <td>2.74</td>\n    </tr>\n    <tr>\n      <th>2014-05-01</th>\n      <td>0.49</td>\n      <td>0.54</td>\n      <td>1.18</td>\n      <td>0.86</td>\n      <td>1.38</td>\n      <td>2.29</td>\n      <td>1.47</td>\n      <td>1.64</td>\n      <td>2.81</td>\n      <td>1.89</td>\n      <td>2.72</td>\n    </tr>\n    <tr>\n      <th>...</th>\n      <td>...</td>\n      <td>...</td>\n      <td>...</td>\n      <td>...</td>\n      <td>...</td>\n      <td>...</td>\n      <td>...</td>\n      <td>...</td>\n      <td>...</td>\n      <td>...</td>\n      <td>...</td>\n    </tr>\n    <tr>\n      <th>2021-10-01</th>\n      <td>0.01</td>\n      <td>0.01</td>\n      <td>-</td>\n      <td>0.10</td>\n      <td>0.11</td>\n      <td>0.26</td>\n      <td>0.03</td>\n      <td>0.24</td>\n      <td>0.40</td>\n      <td>0.19</td>\n      <td>0.29</td>\n    </tr>\n    <tr>\n      <th>2021-11-01</th>\n      <td>0.01</td>\n      <td>0.01</td>\n      <td>-</td>\n      <td>0.10</td>\n      <td>0.12</td>\n      <td>0.34</td>\n      <td>0.02</td>\n      <td>0.31</td>\n      <td>0.39</td>\n      <td>0.18</td>\n      <td>0.37</td>\n    </tr>\n    <tr>\n      <th>2021-12-01</th>\n      <td>0.01</td>\n      <td>0.01</td>\n      <td>-</td>\n      <td>0.10</td>\n      <td>0.14</td>\n      <td>0.26</td>\n      <td>0.06</td>\n      <td>0.23</td>\n      <td>0.39</td>\n      <td>0.31</td>\n      <td>0.38</td>\n    </tr>\n    <tr>\n      <th>2022-01-01</th>\n      <td>0.01</td>\n      <td>0.01</td>\n      <td>-</td>\n      <td>0.10</td>\n      <td>0.12</td>\n      <td>0.20</td>\n      <td>0.05</td>\n      <td>0.20</td>\n      <td>0.37</td>\n      <td>0.53</td>\n      <td>0.41</td>\n    </tr>\n    <tr>\n      <th>2022-02-01</th>\n      <td>0.01</td>\n      <td>0.01</td>\n      <td>-</td>\n      <td>0.10</td>\n      <td>2.30</td>\n      <td>0.21</td>\n      <td>0.11</td>\n      <td>0.87</td>\n      <td>0.40</td>\n      <td>0.38</td>\n      <td>0.38</td>\n    </tr>\n  </tbody>\n</table>\n<p>98 rows × 11 columns</p>\n</div>"
     },
     "execution_count": 12,
     "metadata": {},
     "output_type": "execute_result"
    }
   ],
   "source": [
    "from parsing.deposits import get_deposit_rates\n",
    "\n",
    "get_deposit_rates('EUR')"
   ],
   "metadata": {
    "collapsed": false,
    "pycharm": {
     "name": "#%%\n"
    }
   }
  },
  {
   "cell_type": "code",
   "execution_count": null,
   "outputs": [],
   "source": [],
   "metadata": {
    "collapsed": false,
    "pycharm": {
     "name": "#%%\n"
    }
   }
  }
 ],
 "metadata": {
  "kernelspec": {
   "display_name": "Python 3",
   "language": "python",
   "name": "python3"
  },
  "language_info": {
   "codemirror_mode": {
    "name": "ipython",
    "version": 2
   },
   "file_extension": ".py",
   "mimetype": "text/x-python",
   "name": "python",
   "nbconvert_exporter": "python",
   "pygments_lexer": "ipython2",
   "version": "2.7.6"
  }
 },
 "nbformat": 4,
 "nbformat_minor": 0
}