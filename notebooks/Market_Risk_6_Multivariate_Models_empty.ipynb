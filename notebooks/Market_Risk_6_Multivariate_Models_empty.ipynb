{
 "cells": [
  {
   "cell_type": "code",
   "metadata": {
    "id": "i6c7_d9SqLkC",
    "cell_id": "c27fba43-4fda-463b-91a0-8429871192a6",
    "deepnote_to_be_reexecuted": false,
    "source_hash": "123d2eed",
    "execution_start": 1646493455479,
    "execution_millis": 1592,
    "deepnote_cell_type": "code",
    "pycharm": {
     "name": "#%%\n"
    }
   },
   "source": [
    "    import numpy as np\n",
    "import pandas as pd\n",
    "import datetime as dt\n",
    "import scipy.stats as ss\n",
    "import matplotlib.pyplot as plt\n",
    "import seaborn as sns"
   ],
   "outputs": [],
   "execution_count": null
  },
  {
   "cell_type": "markdown",
   "source": [
    "Эта функция загрузит реальную историю процентных ставок с сайта ЦБ РФ"
   ],
   "metadata": {
    "id": "ePpqmnM6dOQq",
    "cell_id": "00001-6f36950a-11e2-4a03-a636-6ec1375593a2",
    "deepnote_cell_type": "markdown",
    "pycharm": {
     "name": "#%% md\n"
    }
   }
  },
  {
   "cell_type": "code",
   "metadata": {
    "cell_id": "00002-9232d677-ac50-46f9-b5a5-57555b528c22",
    "deepnote_cell_type": "code",
    "pycharm": {
     "name": "#%%\n"
    }
   },
   "source": [
    "!pip install bs4 html5lib"
   ],
   "outputs": [
    {
     "name": "stdout",
     "output_type": "stream",
     "text": "Requirement already satisfied: bs4 in c:\\programs\\miniconda3\\envs\\riskmanagement\\lib\\site-packages (0.0.1)\nCollecting html5lib\n  Downloading html5lib-1.1-py2.py3-none-any.whl (112 kB)\nRequirement already satisfied: beautifulsoup4 in c:\\programs\\miniconda3\\envs\\riskmanagement\\lib\\site-packages (from bs4) (4.10.0)\nRequirement already satisfied: webencodings in c:\\programs\\miniconda3\\envs\\riskmanagement\\lib\\site-packages (from html5lib) (0.5.1)\nRequirement already satisfied: six>=1.9 in c:\\programs\\miniconda3\\envs\\riskmanagement\\lib\\site-packages (from html5lib) (1.15.0)\nRequirement already satisfied: soupsieve>1.2 in c:\\programs\\miniconda3\\envs\\riskmanagement\\lib\\site-packages (from beautifulsoup4->bs4) (2.3.1)\nInstalling collected packages: html5lib\nSuccessfully installed html5lib-1.1\n"
    }
   ],
   "execution_count": null
  },
  {
   "cell_type": "code",
   "metadata": {
    "id": "lLVyoOxYqYaj",
    "cell_id": "00003-c88f7f21-ad53-4f01-9d47-d3eb4dd30bfb",
    "deepnote_to_be_reexecuted": false,
    "source_hash": "eb7fe8f0",
    "execution_start": 1646493461860,
    "execution_millis": 156,
    "deepnote_cell_type": "code",
    "pycharm": {
     "name": "#%%\n"
    }
   },
   "source": [
    "import requests\n",
    "from bs4 import BeautifulSoup\n",
    "\n",
    "# This does not work anymore :-(\n",
    "def fetch_CBR_rates(date_from, date_to):\n",
    "    def convert_date(date):\n",
    "        if isinstance(date, dt.datetime):\n",
    "            return date.strftime(\"%d.%m.%Y\")\n",
    "        elif isinstance(date, str):\n",
    "            return date\n",
    "        else:\n",
    "            raise \"fetch_CBR_rates: date arguments must be a DD.MM.YYYY string or a datetime\"\n",
    "\n",
    "    date_from = convert_date(date_from)\n",
    "    date_to = convert_date(date_to)\n",
    "\n",
    "    URL = f\"http://www.cbr.ru/hd_base/zcyc_params/?UniDbQuery.Posted=True&UniDbQuery.From={date_from}&UniDbQuery.To={date_to}\"\n",
    "    page = requests.get(URL)\n",
    "    soup = BeautifulSoup(page.content, \"html.parser\")\n",
    "    res = soup.find(\"table\", {\"class\": \"data\"})\n",
    "    df = pd.read_html(str(res).replace(\",\", \".\"))[0]\n",
    "    df = df.droplevel(0, \"columns\").rename(columns={\"Дата\": \"Date\"})\n",
    "    df[\"Date\"] = pd.to_datetime(df[\"Date\"])\n",
    "    df = df.set_index(\"Date\").astype(float)\n",
    "    df.columns = df.columns.astype(float)\n",
    "    df /= 100\n",
    "\n",
    "    return df"
   ],
   "outputs": [],
   "execution_count": null
  },
  {
   "cell_type": "code",
   "metadata": {
    "cell_id": "00004-cbeb1179-a180-479f-a20a-954a0d44bd39",
    "deepnote_to_be_reexecuted": false,
    "source_hash": "12710e3e",
    "execution_start": 1646493465385,
    "execution_millis": 847,
    "deepnote_cell_type": "code",
    "pycharm": {
     "name": "#%%\n"
    }
   },
   "source": [
    "with open(\"cbr.html\", encoding=\"utf-8\") as f:\n",
    "    page = f.read()\n",
    "\n",
    "soup = BeautifulSoup(page, \"html.parser\")\n",
    "res = soup.find(\"table\", {\"class\": \"data\"})\n",
    "df = pd.read_html(str(res).replace(\",\", \".\"))[0]\n",
    "df = df.droplevel(0, \"columns\").rename(columns={\"Дата\": \"Date\"})\n",
    "df[\"Date\"] = pd.to_datetime(df[\"Date\"], format=\"%d.%m.%Y\")\n",
    "df = df.set_index(\"Date\").astype(float)\n",
    "df.columns = df.columns.astype(float)\n",
    "df /= 100\n"
   ],
   "outputs": [],
   "execution_count": null
  },
  {
   "cell_type": "code",
   "metadata": {
    "colab": {
     "base_uri": "https://localhost:8080/"
    },
    "id": "_ih2p5e6tuNh",
    "outputId": "b90504e4-a4fd-4183-acf0-c8494b2f6128",
    "cell_id": "00005-ba1ab97f-c07d-44e9-96ee-9ce14674390f",
    "deepnote_to_be_reexecuted": false,
    "source_hash": "1a6c58ab",
    "execution_start": 1646493468210,
    "execution_millis": 469,
    "deepnote_cell_type": "code",
    "pycharm": {
     "name": "#%%\n"
    }
   },
   "source": [
    "print(df)\n",
    "current_rates = df.loc[df.index.max()]\n",
    "print(current_rates)"
   ],
   "outputs": [
    {
     "name": "stdout",
     "text": "             0.25    0.50    0.75    1.00    2.00    3.00    5.00    7.00   \\\nDate                                                                         \n2020-12-30  0.0368  0.0387  0.0405  0.0418  0.0457  0.0491  0.0547  0.0587   \n2020-12-29  0.0390  0.0400  0.0411  0.0421  0.0460  0.0494  0.0546  0.0584   \n2020-12-28  0.0411  0.0418  0.0425  0.0433  0.0465  0.0497  0.0549  0.0586   \n2020-12-25  0.0416  0.0423  0.0430  0.0437  0.0468  0.0500  0.0551  0.0588   \n2020-12-24  0.0420  0.0426  0.0432  0.0439  0.0470  0.0503  0.0554  0.0589   \n...            ...     ...     ...     ...     ...     ...     ...     ...   \n2018-01-10  0.0639  0.0645  0.0652  0.0658  0.0675  0.0684  0.0704  0.0726   \n2018-01-09  0.0637  0.0641  0.0645  0.0650  0.0668  0.0680  0.0703  0.0726   \n2018-01-05  0.0641  0.0643  0.0647  0.0652  0.0673  0.0688  0.0711  0.0731   \n2018-01-04  0.0579  0.0599  0.0618  0.0635  0.0675  0.0689  0.0709  0.0729   \n2018-01-03  0.0616  0.0627  0.0638  0.0649  0.0679  0.0693  0.0715  0.0735   \n\n             10.00   15.00   20.00   30.00  \nDate                                        \n2020-12-30  0.0627  0.0662  0.0680  0.0696  \n2020-12-29  0.0624  0.0665  0.0687  0.0707  \n2020-12-28  0.0626  0.0663  0.0682  0.0700  \n2020-12-25  0.0626  0.0661  0.0679  0.0696  \n2020-12-24  0.0627  0.0665  0.0685  0.0706  \n...            ...     ...     ...     ...  \n2018-01-10  0.0756  0.0802  0.0842  0.0909  \n2018-01-09  0.0755  0.0798  0.0837  0.0904  \n2018-01-05  0.0760  0.0804  0.0845  0.0914  \n2018-01-04  0.0758  0.0805  0.0848  0.0923  \n2018-01-03  0.0763  0.0806  0.0849  0.0925  \n\n[753 rows x 12 columns]\n0.25     0.0368\n0.50     0.0387\n0.75     0.0405\n1.00     0.0418\n2.00     0.0457\n3.00     0.0491\n5.00     0.0547\n7.00     0.0587\n10.00    0.0627\n15.00    0.0662\n20.00    0.0680\n30.00    0.0696\nName: 2020-12-30 00:00:00, dtype: float64\n",
     "output_type": "stream"
    }
   ],
   "execution_count": null
  },
  {
   "cell_type": "code",
   "metadata": {
    "colab": {
     "base_uri": "https://localhost:8080/",
     "height": 281
    },
    "id": "6tvSCun6t0pa",
    "outputId": "4cba5f3e-44d0-44b5-c078-9a91fec3b567",
    "cell_id": "00006-e25fd9c8-9e50-484f-8532-02d0e5a48b1e",
    "deepnote_to_be_reexecuted": false,
    "source_hash": "41a46516",
    "execution_start": 1646493471824,
    "execution_millis": 1446,
    "deepnote_cell_type": "code",
    "pycharm": {
     "name": "#%%\n"
    }
   },
   "source": [
    "df.T.plot(legend=None)\n",
    "plt.title(\"All term structures\");"
   ],
   "outputs": [
    {
     "data": {
      "text/plain": "<Figure size 432x288 with 1 Axes>",
      "image/png": "[encoded data removed]"
     },
     "metadata": {
      "needs_background": "light",
      "image/png": {
       "width": 378,
       "height": 264
      }
     },
     "output_type": "display_data"
    }
   ],
   "execution_count": null
  },
  {
   "cell_type": "code",
   "source": [
    "df.diff().T.plot(legend=None)"
   ],
   "metadata": {
    "cell_id": "5f870da2-18da-4842-a72e-d40cdca300b3",
    "tags": [],
    "deepnote_to_be_reexecuted": false,
    "source_hash": "1abae4ef",
    "execution_start": 1646493582745,
    "execution_millis": 1313,
    "deepnote_cell_type": "code",
    "pycharm": {
     "name": "#%%\n"
    }
   },
   "outputs": [
    {
     "output_type": "execute_result",
     "execution_count": 25,
     "data": {
      "text/plain": "<AxesSubplot:>"
     },
     "metadata": {}
    },
    {
     "data": {
      "text/plain": "<Figure size 432x288 with 1 Axes>",
      "image/png": "[encoded data removed]"
     },
     "metadata": {
      "needs_background": "light",
      "image/png": {
       "width": 392,
       "height": 249
      }
     },
     "output_type": "display_data"
    }
   ],
   "execution_count": null
  },
  {
   "cell_type": "code",
   "metadata": {
    "colab": {
     "base_uri": "https://localhost:8080/"
    },
    "id": "P2Lg-8_2uCm7",
    "outputId": "8e42b7ec-e7dc-493c-e3d3-0bbfb750d298",
    "cell_id": "00007-96dd0eaf-0d7a-4da4-b776-8fa683887f9f",
    "deepnote_to_be_reexecuted": false,
    "source_hash": "77ca1f92",
    "execution_start": 1646493476213,
    "execution_millis": 50,
    "deepnote_cell_type": "code",
    "pycharm": {
     "name": "#%%\n"
    }
   },
   "source": [
    "def bond_cashflows(maturity, coupon_rate, coupon_frequency):\n",
    "    if coupon_frequency == 0:\n",
    "        assert coupon_rate == 0, \"Bond must be zero-coupon for zero frequency\"\n",
    "        return pd.DataFrame([1], index=[maturity])\n",
    "\n",
    "    assert maturity * coupon_frequency == np.round(\n",
    "        maturity * coupon_frequency\n",
    "    ), \"This is a very simple function, it does not calculate the accrued interest\"\n",
    "\n",
    "    cashflows = np.full(maturity * coupon_frequency, coupon_rate / coupon_frequency)\n",
    "    cashflows[-1] += 1\n",
    "    times = np.linspace(0, maturity, maturity * coupon_frequency + 1)[1:]\n",
    "    df = pd.Series(cashflows, index=times)\n",
    "    return df\n",
    "\n",
    "\n",
    "bond_maturity = 3  # years\n",
    "bond_coupon_rate = 5 / 100  # as a fraction\n",
    "bond_frequency = 2  # per year\n",
    "\n",
    "cashflows = bond_cashflows(bond_maturity, bond_coupon_rate, bond_frequency)\n",
    "cashflows"
   ],
   "outputs": [
    {
     "output_type": "execute_result",
     "execution_count": 7,
     "data": {
      "text/plain": "0.5    0.025\n1.0    0.025\n1.5    0.025\n2.0    0.025\n2.5    0.025\n3.0    1.025\ndtype: float64"
     },
     "metadata": {}
    }
   ],
   "execution_count": null
  },
  {
   "cell_type": "code",
   "metadata": {
    "colab": {
     "base_uri": "https://localhost:8080/"
    },
    "id": "SzctNiPNuOPF",
    "outputId": "544eda51-fc89-4617-d828-53777b68be8c",
    "cell_id": "00008-ceae69d7-1a15-4056-a4f0-8c3c97b29103",
    "deepnote_to_be_reexecuted": false,
    "source_hash": "6a85a51f",
    "execution_start": 1646493476773,
    "execution_millis": 8,
    "deepnote_cell_type": "code",
    "pycharm": {
     "name": "#%%\n"
    }
   },
   "source": [
    "# This function does the same thing but tries to calculate the accrued interest\n",
    "# For actual calculations this should be fine-tuned still a bit more to include\n",
    "# correct year fractions between the payment dates\n",
    "def bond_cashflows_better(maturity, coupon_rate, coupon_frequency):\n",
    "    time_delta = 1 / coupon_frequency\n",
    "    coupon = coupon_rate * time_delta\n",
    "    cashflow_times = np.arange(maturity, 0, step=-time_delta)[::-1]\n",
    "    # accrued interest is in fact paid right away\n",
    "    AI = (time_delta - cashflow_times[0]) * coupon\n",
    "    cashflow_amounts = np.full(cashflow_times.size, coupon)\n",
    "    cashflow_amounts[-1] += 1\n",
    "    cashflow_amounts = np.hstack([-AI, cashflow_amounts])\n",
    "    cashflow_times = np.hstack([0, cashflow_times])\n",
    "    return pd.Series(cashflow_amounts, index=cashflow_times)\n",
    "\n",
    "\n",
    "bond_cashflows_better(2.25, 0.2, 2)"
   ],
   "outputs": [
    {
     "output_type": "execute_result",
     "execution_count": 8,
     "data": {
      "text/plain": "0.00   -0.025\n0.25    0.100\n0.75    0.100\n1.25    0.100\n1.75    0.100\n2.25    1.100\ndtype: float64"
     },
     "metadata": {}
    }
   ],
   "execution_count": null
  },
  {
   "cell_type": "code",
   "metadata": {
    "colab": {
     "base_uri": "https://localhost:8080/"
    },
    "id": "M0-UZz0Cuxr8",
    "outputId": "450e2cc4-edaa-4afe-f422-2f4190af1870",
    "cell_id": "00009-cfbb97b9-82c3-48eb-a2cd-696f6354b489",
    "deepnote_to_be_reexecuted": false,
    "source_hash": "a02e12af",
    "execution_start": 1646493477411,
    "execution_millis": 5,
    "deepnote_cell_type": "code",
    "pycharm": {
     "name": "#%%\n"
    }
   },
   "source": [
    "def discount_factors(interest_rates, period):\n",
    "    terms = interest_rates.index.to_numpy()\n",
    "    if period == -1:  # continuous compounding\n",
    "        return np.exp(-interest_rates * terms)\n",
    "    elif period == 0:  # simple interest\n",
    "        return 1.0 / (1.0 + interest_rates * terms)\n",
    "    else:  # compound interest `period` times a year\n",
    "        return 1.0 / (1.0 + interest_rates / period) ** (terms * period)\n",
    "\n",
    "\n",
    "print(discount_factors(current_rates, 1))\n",
    "# 365 times a year should be pretty close to continuous\n",
    "assert np.all(np.isclose(discount_factors(current_rates, 365), discount_factors(current_rates, -1), rtol=0.01))"
   ],
   "outputs": [
    {
     "name": "stdout",
     "text": "0.25     0.991006\n0.50     0.981194\n0.75     0.970663\n1.00     0.959877\n2.00     0.914504\n3.00     0.866063\n5.00     0.766223\n7.00     0.670795\n10.00    0.544369\n15.00    0.382314\n20.00    0.268272\n30.00    0.132849\nName: 2020-12-30 00:00:00, dtype: float64\n",
     "output_type": "stream"
    }
   ],
   "execution_count": null
  },
  {
   "cell_type": "code",
   "metadata": {
    "colab": {
     "base_uri": "https://localhost:8080/"
    },
    "id": "8MifMliHvYh9",
    "outputId": "58f3dbda-7c59-47be-e43d-aa8cf9e8edcb",
    "cell_id": "00010-6bdff1bb-de55-4376-8600-0396ed869f3e",
    "deepnote_to_be_reexecuted": false,
    "source_hash": "d4a640ec",
    "execution_start": 1646493477832,
    "execution_millis": 3,
    "deepnote_cell_type": "code",
    "pycharm": {
     "name": "#%%\n"
    }
   },
   "source": [
    "def interpolate_term_structure(interest_rates, terms):\n",
    "    # we are OK with the very short rates being equal to the shortest rate in the sample\n",
    "    # however very long rates probably need a special function to interpolate\n",
    "    rates = np.interp(terms, interest_rates.index, interest_rates, right=np.nan)\n",
    "    return pd.Series(rates, index=terms, dtype=interest_rates.dtype)\n",
    "\n",
    "\n",
    "print(interpolate_term_structure(current_rates, cashflows.index))"
   ],
   "outputs": [
    {
     "name": "stdout",
     "text": "0.5    0.03870\n1.0    0.04180\n1.5    0.04375\n2.0    0.04570\n2.5    0.04740\n3.0    0.04910\ndtype: float64\n",
     "output_type": "stream"
    }
   ],
   "execution_count": null
  },
  {
   "cell_type": "code",
   "metadata": {
    "colab": {
     "base_uri": "https://localhost:8080/"
    },
    "id": "MWgR2cUAvtNu",
    "outputId": "600e60ca-38f9-4b9c-dba0-c5f1c198e2d4",
    "cell_id": "00011-c938708c-a79c-41b9-ba9f-62db02facce6",
    "deepnote_to_be_reexecuted": false,
    "source_hash": "91fe6425",
    "execution_start": 1646493478274,
    "execution_millis": 9,
    "deepnote_cell_type": "code",
    "pycharm": {
     "name": "#%%\n"
    }
   },
   "source": [
    "def bond_price(cashflows, interest_rates, period=-1):\n",
    "    d = discount_factors(interpolate_term_structure(interest_rates, cashflows.index), period=period)\n",
    "    return (cashflows * d).sum(skipna=False)\n",
    "\n",
    "\n",
    "bond_price(cashflows, current_rates)"
   ],
   "outputs": [
    {
     "output_type": "execute_result",
     "execution_count": 11,
     "data": {
      "text/plain": "1.0015430026431889"
     },
     "metadata": {}
    }
   ],
   "execution_count": null
  },
  {
   "cell_type": "code",
   "metadata": {
    "colab": {
     "base_uri": "https://localhost:8080/"
    },
    "id": "1Oh0KgDHv21B",
    "outputId": "a0895672-794d-4510-dbad-d4b44f788786",
    "cell_id": "00012-8119df70-b58c-444e-8bab-8107a64974f7",
    "deepnote_to_be_reexecuted": false,
    "source_hash": "cd7de450",
    "execution_start": 1646493478808,
    "execution_millis": 6,
    "deepnote_cell_type": "code",
    "pycharm": {
     "name": "#%%\n"
    }
   },
   "source": [
    "# this shouldn't work as we don't have a 40-year rate\n",
    "bond_price(bond_cashflows(40, 0.12, 1), current_rates)"
   ],
   "outputs": [
    {
     "output_type": "execute_result",
     "execution_count": 12,
     "data": {
      "text/plain": "nan"
     },
     "metadata": {}
    }
   ],
   "execution_count": null
  },
  {
   "cell_type": "code",
   "metadata": {
    "colab": {
     "base_uri": "https://localhost:8080/"
    },
    "id": "_dw_DTZNw8HO",
    "outputId": "5ff0d06c-3386-4032-f818-16767a138d91",
    "cell_id": "00013-f31c5fd4-4b88-482a-904a-68e6593d8e8a",
    "deepnote_to_be_reexecuted": false,
    "source_hash": "f5b82690",
    "execution_start": 1646493479313,
    "execution_millis": 5,
    "deepnote_cell_type": "code",
    "pycharm": {
     "name": "#%%\n"
    }
   },
   "source": [
    "def bond_duration(cashflows, interest_rates, period=-1):\n",
    "    d = discount_factors(interpolate_term_structure(interest_rates, cashflows.index), period=period)\n",
    "    terms = pd.Series(cashflows.index, index=cashflows.index)\n",
    "    return (cashflows * terms * d).sum() / bond_price(cashflows, interest_rates, period)\n",
    "\n",
    "\n",
    "bond_duration(cashflows, current_rates)"
   ],
   "outputs": [
    {
     "output_type": "execute_result",
     "execution_count": 13,
     "data": {
      "text/plain": "2.8219818169077064"
     },
     "metadata": {}
    }
   ],
   "execution_count": null
  },
  {
   "cell_type": "code",
   "metadata": {
    "colab": {
     "base_uri": "https://localhost:8080/"
    },
    "id": "OfC2GoTdxGSR",
    "outputId": "15ed111c-0bff-419e-db67-61893dcc90e9",
    "cell_id": "00014-7a3dd0ea-2d80-4309-a818-1a1a9d08f708",
    "deepnote_to_be_reexecuted": false,
    "source_hash": "1027d3c9",
    "execution_start": 1646493479826,
    "execution_millis": 4,
    "deepnote_cell_type": "code",
    "pycharm": {
     "name": "#%%\n"
    }
   },
   "source": [
    "# check the definition of duration\n",
    "dr = 1e-10\n",
    "D = - (bond_price(cashflows, current_rates + dr) - bond_price(cashflows, current_rates)) / dr / bond_price(cashflows, current_rates)\n",
    "print(D)\n",
    "assert np.isclose(D, bond_duration(cashflows, current_rates), rtol=1e-5)"
   ],
   "outputs": [
    {
     "name": "stdout",
     "text": "2.821980398603076\n",
     "output_type": "stream"
    }
   ],
   "execution_count": null
  },
  {
   "cell_type": "code",
   "metadata": {
    "colab": {
     "base_uri": "https://localhost:8080/"
    },
    "id": "fvnKCSY5xCcd",
    "outputId": "6e180bb3-74b0-4e8c-bf73-a1bfc2a30e73",
    "cell_id": "00015-05a3a784-1bf0-48a8-8e9b-2e09b893f203",
    "deepnote_to_be_reexecuted": false,
    "source_hash": "80467327",
    "execution_start": 1646493480494,
    "execution_millis": 4,
    "deepnote_cell_type": "code",
    "pycharm": {
     "name": "#%%\n"
    }
   },
   "source": [
    "def bond_convexity(cashflows, interest_rates, period=-1):\n",
    "    d = discount_factors(interpolate_term_structure(interest_rates, cashflows.index), period=period)\n",
    "    terms = pd.Series(cashflows.index, index=cashflows.index)\n",
    "    return (cashflows * terms ** 2 * d).sum() / bond_price(cashflows, interest_rates, period)\n",
    "\n",
    "\n",
    "bond_convexity(cashflows, current_rates)"
   ],
   "outputs": [
    {
     "output_type": "execute_result",
     "execution_count": 15,
     "data": {
      "text/plain": "8.261588959933205"
     },
     "metadata": {}
    }
   ],
   "execution_count": null
  },
  {
   "cell_type": "markdown",
   "source": [
    "## Now let's estimate VaR for a bond"
   ],
   "metadata": {
    "id": "HpxWSzOExYJk",
    "cell_id": "00016-a84eab5a-07a1-46ca-8ee8-d4b2cc26281e",
    "deepnote_cell_type": "markdown",
    "pycharm": {
     "name": "#%% md\n"
    }
   }
  },
  {
   "cell_type": "markdown",
   "source": [
    "True historical simulations"
   ],
   "metadata": {
    "id": "48D-OvwFxicF",
    "cell_id": "00017-185fd494-85c7-4ba2-8679-c8003e20516d",
    "deepnote_cell_type": "markdown",
    "pycharm": {
     "name": "#%% md\n"
    }
   }
  },
  {
   "cell_type": "code",
   "metadata": {
    "colab": {
     "base_uri": "https://localhost:8080/",
     "height": 402
    },
    "id": "yfGbs3dMxCww",
    "outputId": "1126bc81-646d-49da-c1e3-02790a95c6a8",
    "cell_id": "00018-d24e0df2-dc58-4ce0-88cb-cddc69d43d3c",
    "deepnote_to_be_reexecuted": false,
    "source_hash": "780f0be8",
    "execution_start": 1646493484755,
    "execution_millis": 1339,
    "deepnote_cell_type": "code",
    "pycharm": {
     "name": "#%%\n"
    }
   },
   "source": [
    "current_price = bond_price(cashflows, current_rates)\n",
    "\n",
    "dr = df.diff().dropna()\n",
    "scenario_rates = (current_rates + dr).reset_index().drop(\"Date\", axis=1)\n",
    "scenario_prices = scenario_rates.apply(lambda x: bond_price(cashflows, x), axis=1, raw=False)\n",
    "scenario_returns = (scenario_prices - current_price) / current_price\n",
    "\n",
    "sns.displot(scenario_returns, kind=\"hist\")\n",
    "VaR = -scenario_returns.quantile(0.01, interpolation=\"higher\")\n",
    "plt.axvline(-VaR, color=\"r\")\n",
    "plt.title(\"Historical Portfolio P&L\")\n",
    "print(f\"VaR is {VaR*100:.2f}%\")"
   ],
   "outputs": [
    {
     "name": "stdout",
     "text": "VaR is 0.48%\n",
     "output_type": "stream"
    },
    {
     "data": {
      "text/plain": "<Figure size 360x360 with 1 Axes>",
      "image/png": "[encoded data removed]"
     },
     "metadata": {
      "needs_background": "light",
      "image/png": {
       "width": 352,
       "height": 368
      }
     },
     "output_type": "display_data"
    }
   ],
   "execution_count": null
  },
  {
   "cell_type": "markdown",
   "source": [
    "## Parallel shift approximation"
   ],
   "metadata": {
    "id": "Ka5KeAZLyATP",
    "cell_id": "00019-7de2d2a2-48a8-4873-a17d-2d0d2a357627",
    "deepnote_cell_type": "markdown",
    "pycharm": {
     "name": "#%% md\n"
    }
   }
  },
  {
   "cell_type": "code",
   "metadata": {
    "colab": {
     "base_uri": "https://localhost:8080/",
     "height": 421
    },
    "id": "25fqQUHrx9aQ",
    "outputId": "c291caae-40a7-43fc-a313-e6fd88a81793",
    "cell_id": "00020-8e5f3f2f-bdc6-48fd-bd21-1bc4fc5a792e",
    "deepnote_to_be_reexecuted": false,
    "source_hash": "4f0b683a",
    "execution_start": 1646493487073,
    "execution_millis": 801,
    "deepnote_cell_type": "code",
    "pycharm": {
     "name": "#%%\n"
    }
   },
   "source": [
    "def parallel_shift_approximation(rates, aggregation_function):\n",
    "    dr = aggregation_function(self=df.diff().dropna(), axis=1)\n",
    "    max_rate_change = dr.quantile(0.99, interpolation=\"lower\")\n",
    "\n",
    "    sns.histplot(dr)\n",
    "    plt.axvline(max_rate_change, color=\"r\")\n",
    "    plt.xlabel(\"Interest rate changes\")\n",
    "    return max_rate_change\n",
    "\n",
    "\n",
    "plt.figure(figsize=(15, 6))\n",
    "plt.subplot(1, 2, 1)\n",
    "change_max = parallel_shift_approximation(df, pd.DataFrame.max)\n",
    "plt.title(\"Historical Parallel Shifts (MAX)\")\n",
    "plt.subplot(1, 2, 2)\n",
    "change_mean = parallel_shift_approximation(df, pd.DataFrame.mean)\n",
    "plt.title(\"Historical Parallel Shifts (MEAN)\")\n",
    "print(f\"Possible changes with MAX: {change_max*100:.2f}%, possible changes with MEAN: {change_mean*100:.2f}%\")"
   ],
   "outputs": [
    {
     "name": "stdout",
     "text": "Possible changes with MAX: 0.33%, possible changes with MEAN: 0.18%\n",
     "output_type": "stream"
    },
    {
     "data": {
      "text/plain": "<Figure size 1080x432 with 2 Axes>",
      "image/png": "[encoded data removed]"
     },
     "metadata": {
      "needs_background": "light",
      "image/png": {
       "width": 891,
       "height": 387
      }
     },
     "output_type": "display_data"
    }
   ],
   "execution_count": null
  },
  {
   "cell_type": "markdown",
   "source": [
    "Now we can use durations!"
   ],
   "metadata": {
    "id": "THccuAULAAT0",
    "cell_id": "00021-6e770bf6-d056-4a56-8f67-cc3df79974f7",
    "deepnote_cell_type": "markdown",
    "pycharm": {
     "name": "#%% md\n"
    }
   }
  },
  {
   "cell_type": "code",
   "metadata": {
    "colab": {
     "base_uri": "https://localhost:8080/"
    },
    "id": "NL73PaXXABxS",
    "outputId": "e28b1d85-49c6-48d8-a1d8-0c6b0fde86d5",
    "cell_id": "00022-2c71d887-4062-4c2d-8efa-42fe9b3363d2",
    "deepnote_to_be_reexecuted": false,
    "source_hash": "15780b38",
    "execution_start": 1646493488516,
    "execution_millis": 33,
    "deepnote_cell_type": "code",
    "pycharm": {
     "name": "#%%\n"
    }
   },
   "source": [
    "current_duration = bond_duration(cashflows, current_rates)\n",
    "VaR_max = change_max * current_duration\n",
    "VaR_mean = change_mean * current_duration\n",
    "print(f\"VaR with MAX: {VaR_max*100:.2f}%, VaR with MEAN: {VaR_mean*100:.2f}%\")"
   ],
   "outputs": [
    {
     "name": "stdout",
     "text": "VaR with MAX: 0.93%, VaR with MEAN: 0.51%\n",
     "output_type": "stream"
    }
   ],
   "execution_count": null
  },
  {
   "cell_type": "markdown",
   "source": [
    "Actually, we can just take all rates as risk factors -- as we did according to the Historical Simulation approach.\n"
   ],
   "metadata": {
    "id": "sA4CMXGsDQ3N",
    "cell_id": "00023-060ba7d4-dfc1-4393-b246-55bebeec73d5",
    "deepnote_cell_type": "markdown",
    "pycharm": {
     "name": "#%% md\n"
    }
   }
  },
  {
   "cell_type": "code",
   "metadata": {
    "id": "f-of9hIeXoei",
    "cell_id": "00024-9e01cb49-762f-442f-a9f7-087fb58cf52d",
    "deepnote_to_be_reexecuted": false,
    "source_hash": "d8bd1daf",
    "execution_start": 1646493490137,
    "execution_millis": 2,
    "deepnote_cell_type": "code",
    "pycharm": {
     "name": "#%%\n"
    }
   },
   "source": [
    "# sensitivities = ...?"
   ],
   "outputs": [],
   "execution_count": null
  },
  {
   "cell_type": "markdown",
   "source": [
    "We need the sensitivities. For this, we'll calculate the **Key Rate Durations**, which are just exactly what we want."
   ],
   "metadata": {
    "id": "_FaONmUOS8nN",
    "cell_id": "00025-97f89801-43ee-480a-abb6-7e97bf762320",
    "deepnote_cell_type": "markdown",
    "pycharm": {
     "name": "#%% md\n"
    }
   }
  },
  {
   "cell_type": "code",
   "metadata": {
    "colab": {
     "base_uri": "https://localhost:8080/"
    },
    "id": "4cN5A5zRTPTL",
    "outputId": "d66c9a30-6443-4f03-a1ce-9127c3fa4d04",
    "cell_id": "00026-3cabfcf5-d89e-4332-9d23-b4d4ee5e8c08",
    "deepnote_to_be_reexecuted": false,
    "source_hash": "3df50715",
    "execution_start": 1646493493388,
    "execution_millis": 317,
    "deepnote_cell_type": "code",
    "pycharm": {
     "name": "#%%\n"
    }
   },
   "source": [
    "dr = 1e-8\n",
    "term_structure_shifts = np.eye(current_rates.size)  # only change 1 rate at a time\n",
    "key_rate_durations = pd.Series(\n",
    "    [\n",
    "        (\n",
    "            bond_price(cashflows, current_rates + dr * term_structure_shifts[k])\n",
    "            - bond_price(cashflows, current_rates - dr * term_structure_shifts[k])\n",
    "        )\n",
    "        / (2 * dr)\n",
    "        / current_price\n",
    "        for k in range(term_structure_shifts.shape[0])\n",
    "    ],\n",
    "    index=df.columns,\n",
    ")\n",
    "key_rate_durations"
   ],
   "outputs": [
    {
     "output_type": "execute_result",
     "execution_count": 20,
     "data": {
      "text/plain": "0.25     0.000000\n0.50    -0.012242\n0.75     0.000000\n1.00    -0.041472\n2.00    -0.090809\n3.00    -2.677459\n5.00     0.000000\n7.00     0.000000\n10.00    0.000000\n15.00    0.000000\n20.00    0.000000\n30.00    0.000000\ndtype: float64"
     },
     "metadata": {}
    }
   ],
   "execution_count": null
  },
  {
   "cell_type": "code",
   "metadata": {
    "colab": {
     "base_uri": "https://localhost:8080/"
    },
    "id": "9p29w5OpYYf3",
    "outputId": "f9d3dd7f-86f4-4890-d128-26b25bda9ff7",
    "cell_id": "00027-e53a36be-df0a-4701-a0a4-59d29f09ed1a",
    "deepnote_to_be_reexecuted": false,
    "source_hash": "d94971d9",
    "execution_start": 1646493494762,
    "execution_millis": 10,
    "deepnote_cell_type": "code",
    "pycharm": {
     "name": "#%%\n"
    }
   },
   "source": [
    "mean_rate_changes = df.diff().dropna().mean()\n",
    "portfolio_mu = - (key_rate_durations @ mean_rate_changes)\n",
    "portfolio_sigma = np.sqrt(key_rate_durations @ df.diff().cov() @ key_rate_durations)\n",
    "VaR = - ss.norm(portfolio_mu, portfolio_sigma).ppf(0.01)\n",
    "print(f\"Delta-normal VaR: {VaR*100:.2f}%\")"
   ],
   "outputs": [
    {
     "name": "stdout",
     "text": "Delta-normal VaR: 0.46%\n",
     "output_type": "stream"
    }
   ],
   "execution_count": null
  },
  {
   "cell_type": "markdown",
   "source": [
    "However, there is a slight problem."
   ],
   "metadata": {
    "id": "NgZuRC1OXn34",
    "cell_id": "00028-c6721917-3be4-4190-866b-15d39060feb1",
    "deepnote_cell_type": "markdown",
    "pycharm": {
     "name": "#%% md\n"
    }
   }
  },
  {
   "cell_type": "code",
   "metadata": {
    "colab": {
     "base_uri": "https://localhost:8080/",
     "height": 286
    },
    "id": "Rc0ukLWuDa31",
    "outputId": "eb534c46-5bc3-43fe-f56d-3e57dc51ddbc",
    "cell_id": "00029-00fbf34d-658f-4d8c-9c9e-8e295433d3e8",
    "deepnote_to_be_reexecuted": false,
    "source_hash": "d8dd9114",
    "execution_start": 1646493497513,
    "execution_millis": 349,
    "deepnote_cell_type": "code",
    "pycharm": {
     "name": "#%%\n"
    }
   },
   "source": [
    "sns.heatmap(df.diff().corr(), cmap='coolwarm')"
   ],
   "outputs": [
    {
     "output_type": "execute_result",
     "execution_count": 22,
     "data": {
      "text/plain": "<AxesSubplot:>"
     },
     "metadata": {}
    },
    {
     "data": {
      "text/plain": "<Figure size 432x288 with 2 Axes>",
      "image/png": "[encoded data removed]"
     },
     "metadata": {
      "needs_background": "light",
      "image/png": {
       "width": 361,
       "height": 252
      }
     },
     "output_type": "display_data"
    }
   ],
   "execution_count": null
  },
  {
   "cell_type": "markdown",
   "source": [
    "They are too dependent (multicollinearity issues). These VIFs are too big!"
   ],
   "metadata": {
    "id": "hvZKg28lD9IX",
    "cell_id": "00030-854c0e83-d6a2-4987-9706-6019b637037e",
    "deepnote_cell_type": "markdown",
    "pycharm": {
     "name": "#%% md\n"
    }
   }
  },
  {
   "cell_type": "code",
   "metadata": {
    "colab": {
     "base_uri": "https://localhost:8080/"
    },
    "id": "UcTUNbyKEUo1",
    "outputId": "d10981bb-ca04-4a11-8b70-7849344700e6",
    "cell_id": "00031-471053b3-6a52-4ba3-9eb8-aae6bb71b9bc",
    "deepnote_to_be_reexecuted": false,
    "source_hash": "71ca8397",
    "execution_start": 1646493532020,
    "execution_millis": 144,
    "deepnote_cell_type": "code",
    "pycharm": {
     "name": "#%%\n"
    }
   },
   "source": [
    "from statsmodels.stats.outliers_influence import variance_inflation_factor\n",
    "\n",
    "[variance_inflation_factor(df.diff().dropna().values, k) for k in range(df.shape[1])]"
   ],
   "outputs": [
    {
     "output_type": "execute_result",
     "execution_count": 23,
     "data": {
      "text/plain": "[91.18719619635071,\n 292.5126211236135,\n 205.0919378749434,\n 158.0800010916588,\n 73.28813207908553,\n 115.40833803111957,\n 172.40747366206904,\n 156.10177897377318,\n 142.91003393527728,\n 193.9733825336091,\n 176.46890746541013,\n 40.708242686628985]"
     },
     "metadata": {}
    }
   ],
   "execution_count": null
  },
  {
   "cell_type": "markdown",
   "source": [
    "So let's conduct a PCA analysis!"
   ],
   "metadata": {
    "id": "c-SB5hAIGGa9",
    "cell_id": "00032-c30b3348-0234-48c5-8fec-226235768815",
    "deepnote_cell_type": "markdown",
    "pycharm": {
     "name": "#%% md\n"
    }
   }
  },
  {
   "cell_type": "code",
   "metadata": {
    "colab": {
     "base_uri": "https://localhost:8080/",
     "height": 282
    },
    "id": "pZHICV7AGILo",
    "outputId": "42ba7c6f-9d66-4b65-fe1c-627538e284bb",
    "cell_id": "00033-f41a430b-c938-4aa5-9a7b-4e199a483f8a",
    "deepnote_to_be_reexecuted": false,
    "source_hash": "60ef1f8b",
    "execution_start": 1646493682338,
    "execution_millis": 278,
    "deepnote_cell_type": "code",
    "pycharm": {
     "name": "#%%\n"
    }
   },
   "source": [
    "from sklearn.decomposition import PCA\n",
    "pca = PCA().fit(df.diff().dropna())\n",
    "plt.plot(np.arange(1, len(pca.components_) + 1), np.cumsum(pca.explained_variance_ratio_))\n",
    "plt.xlabel(\"Number of components\")\n",
    "plt.ylabel(\"Proportion of explained variance\");\n"
   ],
   "outputs": [
    {
     "name": "stderr",
     "text": "/shared-libs/python3.8/py/lib/python3.8/site-packages/sklearn/utils/validation.py:1688: FutureWarning: Feature names only support names that are all strings. Got feature names with dtypes: ['float']. An error will be raised in 1.2.\n  warnings.warn(\n",
     "output_type": "stream"
    },
    {
     "data": {
      "text/plain": "<Figure size 432x288 with 1 Axes>",
      "image/png": "[encoded data removed]"
     },
     "metadata": {
      "needs_background": "light",
      "image/png": {
       "width": 392,
       "height": 262
      }
     },
     "output_type": "display_data"
    }
   ],
   "execution_count": null
  },
  {
   "cell_type": "markdown",
   "source": [
    "Seems like 3 components would be quite enough..."
   ],
   "metadata": {
    "id": "YID0QcANGOO1",
    "cell_id": "00034-fafff4da-e222-4d30-928b-58d85bf4b0cc",
    "deepnote_cell_type": "markdown",
    "pycharm": {
     "name": "#%% md\n"
    }
   }
  },
  {
   "cell_type": "code",
   "metadata": {
    "id": "0rpot2nuXEZK",
    "cell_id": "00035-11685da1-9045-4176-a8ce-dc31aac7dd47",
    "deepnote_to_be_reexecuted": false,
    "source_hash": "2f9b4d34",
    "execution_start": 1646493695235,
    "execution_millis": 2,
    "deepnote_cell_type": "code",
    "pycharm": {
     "name": "#%%\n"
    }
   },
   "source": [
    "K = 3"
   ],
   "outputs": [],
   "execution_count": null
  },
  {
   "cell_type": "markdown",
   "source": [
    "The 3 factors only explain a fraction of the total variance:"
   ],
   "metadata": {
    "id": "PnbdGVsrG3Ts",
    "cell_id": "00036-553372f7-7d48-4540-a45f-600907d19121",
    "deepnote_cell_type": "markdown",
    "pycharm": {
     "name": "#%% md\n"
    }
   }
  },
  {
   "cell_type": "code",
   "metadata": {
    "colab": {
     "base_uri": "https://localhost:8080/"
    },
    "id": "g6s7kxMKI6Y4",
    "outputId": "91abee34-a49e-413b-a6fb-7e8181feedd0",
    "cell_id": "00037-348f9fa8-f243-44d9-92da-af50776659d2",
    "deepnote_to_be_reexecuted": false,
    "source_hash": "949f3166",
    "execution_start": 1646493761865,
    "execution_millis": 3,
    "deepnote_cell_type": "code",
    "pycharm": {
     "name": "#%%\n"
    }
   },
   "source": [
    "explained_variance = np.sum(pca.explained_variance_[:K])\n",
    "unexplained_variance = np.sum(pca.explained_variance_[K:])\n",
    "np.sqrt(explained_variance), np.sqrt(unexplained_variance)"
   ],
   "outputs": [
    {
     "output_type": "execute_result",
     "execution_count": 32,
     "data": {
      "text/plain": "(0.0026730774319868697, 0.00044210587690029227)"
     },
     "metadata": {}
    }
   ],
   "execution_count": null
  },
  {
   "cell_type": "markdown",
   "source": [
    "We'll add this variance later..."
   ],
   "metadata": {
    "id": "A46P7IAsHTYH",
    "cell_id": "00038-1f158211-696d-4086-9d2c-cb9613013ba3",
    "deepnote_cell_type": "markdown",
    "pycharm": {
     "name": "#%% md\n"
    }
   }
  },
  {
   "cell_type": "code",
   "metadata": {
    "colab": {
     "base_uri": "https://localhost:8080/",
     "height": 298
    },
    "id": "RAvvBN5gGNG0",
    "outputId": "411c8eab-b7ff-4f5d-9301-31a735ba644f",
    "cell_id": "00039-dcdb36f3-72c2-4c90-adbd-c33419339d82",
    "deepnote_to_be_reexecuted": false,
    "source_hash": "ad4986a3",
    "execution_start": 1646495103408,
    "execution_millis": 361,
    "deepnote_cell_type": "code",
    "pycharm": {
     "name": "#%%\n"
    }
   },
   "source": [
    "\n",
    "data = df.diff().dropna()\n",
    "pca = PCA(n_components=K).fit(data)\n",
    "factors = pca.transform(data)\n",
    "plt.plot(data.columns, pca.components_.T)\n",
    "plt.legend([f\"pc$_{i}(t)$\" for i in range(1, K+1)])\n",
    "plt.title(f'First {K} principal components (typical term structure shifts)');"
   ],
   "outputs": [
    {
     "name": "stderr",
     "text": "/shared-libs/python3.8/py/lib/python3.8/site-packages/sklearn/utils/validation.py:1688: FutureWarning: Feature names only support names that are all strings. Got feature names with dtypes: ['float']. An error will be raised in 1.2.\n  warnings.warn(\n/shared-libs/python3.8/py/lib/python3.8/site-packages/sklearn/utils/validation.py:1688: FutureWarning: Feature names only support names that are all strings. Got feature names with dtypes: ['float']. An error will be raised in 1.2.\n  warnings.warn(\n",
     "output_type": "stream"
    },
    {
     "data": {
      "text/plain": "<Figure size 432x288 with 1 Axes>",
      "image/png": "[encoded data removed]"
     },
     "metadata": {
      "needs_background": "light",
      "image/png": {
       "width": 388,
       "height": 264
      }
     },
     "output_type": "display_data"
    }
   ],
   "execution_count": null
  },
  {
   "cell_type": "markdown",
   "source": [
    "$$\n",
    "y = AX\n",
    "$$\n",
    "$$\n",
    "X=A^Ty\n",
    "$$"
   ],
   "metadata": {
    "cell_id": "3e6e70ed-7b52-4427-97f9-a1cfd65bd7f0",
    "tags": [],
    "deepnote_cell_type": "markdown",
    "pycharm": {
     "name": "#%% md\n"
    }
   }
  },
  {
   "cell_type": "code",
   "source": [
    "A = pd.DataFrame(pca.components_, columns=df.columns)\n",
    "print(A)"
   ],
   "metadata": {
    "cell_id": "52f3e7de-ed67-4a34-b842-15d9d92d9fde",
    "tags": [],
    "deepnote_to_be_reexecuted": false,
    "source_hash": "a3b6c4a5",
    "execution_start": 1646495416109,
    "execution_millis": 6,
    "deepnote_cell_type": "code",
    "pycharm": {
     "name": "#%%\n"
    }
   },
   "outputs": [
    {
     "name": "stdout",
     "text": "      0.25      0.50      0.75      1.00      2.00      3.00      5.00   \\\n0 -0.270518 -0.275982 -0.278624 -0.277401 -0.272617 -0.283026 -0.306274   \n1 -0.567863 -0.443459 -0.331337 -0.239669  0.006006  0.107516  0.195814   \n2  0.255592  0.085327 -0.053743 -0.166963 -0.369335 -0.378621 -0.293936   \n\n      7.00      10.00     15.00     20.00     30.00  \n0 -0.315939 -0.313185 -0.299743 -0.289493 -0.276205  \n1  0.225774  0.224959  0.227075  0.230261  0.239891  \n2 -0.178512 -0.017066  0.219721  0.376536  0.555204  \n",
     "output_type": "stream"
    }
   ],
   "execution_count": null
  },
  {
   "cell_type": "code",
   "source": [
    "plt.plot(data.columns, pca.components_[1, :] + pca.components_[2, :])"
   ],
   "metadata": {
    "cell_id": "c8fa9fa3-a36d-4589-bb6d-951f8a180431",
    "tags": [],
    "deepnote_to_be_reexecuted": false,
    "source_hash": "d4b3ebbd",
    "execution_start": 1646493892343,
    "execution_millis": 254,
    "deepnote_cell_type": "code",
    "pycharm": {
     "name": "#%%\n"
    }
   },
   "outputs": [
    {
     "output_type": "execute_result",
     "execution_count": 38,
     "data": {
      "text/plain": "[<matplotlib.lines.Line2D at 0x7f0fec405c40>]"
     },
     "metadata": {}
    },
    {
     "data": {
      "text/plain": "<Figure size 432x288 with 1 Axes>",
      "image/png": "[encoded data removed]"
     },
     "metadata": {
      "needs_background": "light",
      "image/png": {
       "width": 380,
       "height": 248
      }
     },
     "output_type": "display_data"
    }
   ],
   "execution_count": null
  },
  {
   "cell_type": "markdown",
   "source": [
    "We now have 3 risk factors in `factors` and the sensitivities of all rates to them in `pca.components_.T`"
   ],
   "metadata": {
    "id": "VzjT5AIdGfcG",
    "cell_id": "00040-c7be99bd-3499-4158-a3e6-53fbc7472b1d",
    "deepnote_cell_type": "markdown",
    "pycharm": {
     "name": "#%% md\n"
    }
   }
  },
  {
   "cell_type": "code",
   "metadata": {
    "colab": {
     "base_uri": "https://localhost:8080/",
     "height": 421
    },
    "id": "eiomUm0YGai6",
    "outputId": "4b7a085a-55f0-4746-8565-f9feade1830a",
    "cell_id": "00041-38a931fb-04d4-4d52-bddb-33cc63b08407",
    "deepnote_to_be_reexecuted": false,
    "source_hash": "40c295f6",
    "execution_start": 1646493965760,
    "execution_millis": 6,
    "deepnote_cell_type": "code",
    "pycharm": {
     "name": "#%%\n"
    }
   },
   "source": [
    "rate_sensitivities = pd.DataFrame(pca.components_.T, index=df.columns)\n",
    "print(rate_sensitivities)"
   ],
   "outputs": [
    {
     "name": "stdout",
     "text": "              0         1         2\n0.25  -0.270518 -0.567863  0.255592\n0.50  -0.275982 -0.443459  0.085327\n0.75  -0.278624 -0.331337 -0.053743\n1.00  -0.277401 -0.239669 -0.166963\n2.00  -0.272617  0.006006 -0.369335\n3.00  -0.283026  0.107516 -0.378621\n5.00  -0.306274  0.195814 -0.293936\n7.00  -0.315939  0.225774 -0.178512\n10.00 -0.313185  0.224959 -0.017066\n15.00 -0.299743  0.227075  0.219721\n20.00 -0.289493  0.230261  0.376536\n30.00 -0.276205  0.239891  0.555204\n",
     "output_type": "stream"
    }
   ],
   "execution_count": null
  },
  {
   "cell_type": "code",
   "metadata": {
    "colab": {
     "base_uri": "https://localhost:8080/",
     "height": 142
    },
    "id": "jNCNFKQ4IGeK",
    "outputId": "73a654a8-5997-4286-a766-fc45a436e73a",
    "cell_id": "00042-97b7e334-d87b-465b-9103-4ba37dc41db1",
    "deepnote_to_be_reexecuted": false,
    "source_hash": "a141d5b",
    "execution_start": 1646494021905,
    "execution_millis": 4,
    "deepnote_cell_type": "code",
    "pycharm": {
     "name": "#%%\n"
    }
   },
   "source": [
    "# PCA factors are independent by construction\n",
    "factor_covariance = pd.DataFrame(np.diag(pca.explained_variance_))\n",
    "factor_covariance"
   ],
   "outputs": [
    {
     "output_type": "execute_result",
     "execution_count": 41,
     "data": {
      "application/vnd.deepnote.dataframe.v3+json": {
       "column_count": 3,
       "row_count": 3,
       "columns": [
        {
         "name": 0,
         "dtype": "float64",
         "stats": {
          "unique_count": 2,
          "nan_count": 0,
          "min": "0.0",
          "max": "5.249058124896759e-06",
          "histogram": [
           {
            "bin_start": 0,
            "bin_end": 5.24905812489676E-7,
            "count": 2
           },
           {
            "bin_start": 5.24905812489676E-7,
            "bin_end": 1.049811624979352E-6,
            "count": 0
           },
           {
            "bin_start": 1.049811624979352E-6,
            "bin_end": 1.574717437469028E-6,
            "count": 0
           },
           {
            "bin_start": 1.574717437469028E-6,
            "bin_end": 2.099623249958704E-6,
            "count": 0
           },
           {
            "bin_start": 2.099623249958704E-6,
            "bin_end": 2.6245290624483796E-6,
            "count": 0
           },
           {
            "bin_start": 2.6245290624483796E-6,
            "bin_end": 3.149434874938056E-6,
            "count": 0
           },
           {
            "bin_start": 3.149434874938056E-6,
            "bin_end": 3.6743406874277317E-6,
            "count": 0
           },
           {
            "bin_start": 3.6743406874277317E-6,
            "bin_end": 4.199246499917408E-6,
            "count": 0
           },
           {
            "bin_start": 4.199246499917408E-6,
            "bin_end": 4.7241523124070834E-6,
            "count": 0
           },
           {
            "bin_start": 4.7241523124070834E-6,
            "bin_end": 5.249058124896759E-6,
            "count": 1
           }
          ]
         }
        },
        {
         "name": 1,
         "dtype": "float64",
         "stats": {
          "unique_count": 2,
          "nan_count": 0,
          "min": "0.0",
          "max": "1.4741720611094345e-06",
          "histogram": [
           {
            "bin_start": 0,
            "bin_end": 1.4741720611094346E-7,
            "count": 2
           },
           {
            "bin_start": 1.4741720611094346E-7,
            "bin_end": 2.948344122218869E-7,
            "count": 0
           },
           {
            "bin_start": 2.948344122218869E-7,
            "bin_end": 4.422516183328304E-7,
            "count": 0
           },
           {
            "bin_start": 4.422516183328304E-7,
            "bin_end": 5.896688244437738E-7,
            "count": 0
           },
           {
            "bin_start": 5.896688244437738E-7,
            "bin_end": 7.370860305547173E-7,
            "count": 0
           },
           {
            "bin_start": 7.370860305547173E-7,
            "bin_end": 8.845032366656608E-7,
            "count": 0
           },
           {
            "bin_start": 8.845032366656608E-7,
            "bin_end": 1.0319204427766041E-6,
            "count": 0
           },
           {
            "bin_start": 1.0319204427766041E-6,
            "bin_end": 1.1793376488875477E-6,
            "count": 0
           },
           {
            "bin_start": 1.1793376488875477E-6,
            "bin_end": 1.3267548549984912E-6,
            "count": 0
           },
           {
            "bin_start": 1.3267548549984912E-6,
            "bin_end": 1.4741720611094345E-6,
            "count": 1
           }
          ]
         }
        },
        {
         "name": 2,
         "dtype": "float64",
         "stats": {
          "unique_count": 2,
          "nan_count": 0,
          "min": "0.0",
          "max": "4.221127713913271e-07",
          "histogram": [
           {
            "bin_start": 0,
            "bin_end": 4.221127713913271E-8,
            "count": 2
           },
           {
            "bin_start": 4.221127713913271E-8,
            "bin_end": 8.442255427826542E-8,
            "count": 0
           },
           {
            "bin_start": 8.442255427826542E-8,
            "bin_end": 1.2663383141739813E-7,
            "count": 0
           },
           {
            "bin_start": 1.2663383141739813E-7,
            "bin_end": 1.6884510855653084E-7,
            "count": 0
           },
           {
            "bin_start": 1.6884510855653084E-7,
            "bin_end": 2.1105638569566355E-7,
            "count": 0
           },
           {
            "bin_start": 2.1105638569566355E-7,
            "bin_end": 2.5326766283479627E-7,
            "count": 0
           },
           {
            "bin_start": 2.5326766283479627E-7,
            "bin_end": 2.95478939973929E-7,
            "count": 0
           },
           {
            "bin_start": 2.95478939973929E-7,
            "bin_end": 3.376902171130617E-7,
            "count": 0
           },
           {
            "bin_start": 3.376902171130617E-7,
            "bin_end": 3.799014942521944E-7,
            "count": 0
           },
           {
            "bin_start": 3.799014942521944E-7,
            "bin_end": 4.221127713913271E-7,
            "count": 1
           }
          ]
         }
        },
        {
         "name": "_deepnote_index_column",
         "dtype": "int64"
        }
       ],
       "rows": [
        {
         "0": 5.249058124896759E-6,
         "1": 0,
         "2": 0,
         "_deepnote_index_column": 0
        },
        {
         "0": 0,
         "1": 1.4741720611094345E-6,
         "2": 0,
         "_deepnote_index_column": 1
        },
        {
         "0": 0,
         "1": 0,
         "2": 4.221127713913271E-7,
         "_deepnote_index_column": 2
        }
       ]
      },
      "text/plain": "          0         1             2\n0  0.000005  0.000000  0.000000e+00\n1  0.000000  0.000001  0.000000e+00\n2  0.000000  0.000000  4.221128e-07",
      "text/html": "<div>\n<style scoped>\n    .dataframe tbody tr th:only-of-type {\n        vertical-align: middle;\n    }\n\n    .dataframe tbody tr th {\n        vertical-align: top;\n    }\n\n    .dataframe thead th {\n        text-align: right;\n    }\n</style>\n<table border=\"1\" class=\"dataframe\">\n  <thead>\n    <tr style=\"text-align: right;\">\n      <th></th>\n      <th>0</th>\n      <th>1</th>\n      <th>2</th>\n    </tr>\n  </thead>\n  <tbody>\n    <tr>\n      <th>0</th>\n      <td>0.000005</td>\n      <td>0.000000</td>\n      <td>0.000000e+00</td>\n    </tr>\n    <tr>\n      <th>1</th>\n      <td>0.000000</td>\n      <td>0.000001</td>\n      <td>0.000000e+00</td>\n    </tr>\n    <tr>\n      <th>2</th>\n      <td>0.000000</td>\n      <td>0.000000</td>\n      <td>4.221128e-07</td>\n    </tr>\n  </tbody>\n</table>\n</div>"
     },
     "metadata": {}
    }
   ],
   "execution_count": null
  },
  {
   "cell_type": "markdown",
   "source": [
    "$$\n",
    "\\Delta r = Ay+\\sigma\\cdot \\varepsilon,\\quad \\varepsilon\\sim N(0,\\,I)\n",
    "$$\n",
    "$cov(y)=$`factor_covariance`"
   ],
   "metadata": {
    "cell_id": "c75fb44c-d7d1-473c-a730-c4f12752168a",
    "tags": [],
    "deepnote_cell_type": "markdown",
    "pycharm": {
     "name": "#%% md\n"
    }
   }
  },
  {
   "cell_type": "code",
   "source": [
    "pca.n_features_"
   ],
   "metadata": {
    "cell_id": "e4daabf6-e882-4d38-9bb7-1c75c6e9d8ed",
    "tags": [],
    "deepnote_to_be_reexecuted": false,
    "source_hash": "c7a314d9",
    "execution_start": 1646496192563,
    "execution_millis": 5,
    "deepnote_cell_type": "code",
    "pycharm": {
     "name": "#%%\n"
    }
   },
   "outputs": [
    {
     "output_type": "execute_result",
     "execution_count": 83,
     "data": {
      "text/plain": "12"
     },
     "metadata": {}
    }
   ],
   "execution_count": null
  },
  {
   "cell_type": "code",
   "metadata": {
    "colab": {
     "base_uri": "https://localhost:8080/",
     "height": 421
    },
    "id": "PcJxFTQCHY0j",
    "outputId": "b2abc59a-5d2a-4f1f-f5e2-75ccd511ad75",
    "cell_id": "00043-9d4788ba-4b7b-4085-9e76-d19b01110f6f",
    "deepnote_to_be_reexecuted": false,
    "source_hash": "9fa3c118",
    "execution_start": 1646496212387,
    "execution_millis": 15,
    "deepnote_cell_type": "code",
    "pycharm": {
     "name": "#%%\n"
    }
   },
   "source": [
    "term_structure_covariance = rate_sensitivities @ factor_covariance @ rate_sensitivities.T\n",
    "# Now we distribute the unexplained variance evenly across all rates\n",
    "# noise_variance_ is already the average\n",
    "additional_variance = np.eye(pca.n_features_) * pca.noise_variance_ \n",
    "term_structure_covariance += additional_variance\n",
    "# cov(Δr)\n",
    "term_structure_covariance"
   ],
   "outputs": [
    {
     "output_type": "execute_result",
     "execution_count": 84,
     "data": {
      "application/vnd.deepnote.dataframe.v3+json": {
       "column_count": 12,
       "row_count": 12,
       "columns": [
        {
         "name": 0.25,
         "dtype": "float64",
         "stats": {
          "unique_count": 12,
          "nan_count": 0,
          "min": "2.3926568900501494e-07",
          "max": "9.08794363067035e-07",
          "histogram": [
           {
            "bin_start": 2.3926568900501494E-7,
            "bin_end": 3.062185564112169E-7,
            "count": 7
           },
           {
            "bin_start": 3.062185564112169E-7,
            "bin_end": 3.7317142381741895E-7,
            "count": 1
           },
           {
            "bin_start": 3.7317142381741895E-7,
            "bin_end": 4.40124291223621E-7,
            "count": 0
           },
           {
            "bin_start": 4.40124291223621E-7,
            "bin_end": 5.070771586298229E-7,
            "count": 0
           },
           {
            "bin_start": 5.070771586298229E-7,
            "bin_end": 5.74030026036025E-7,
            "count": 0
           },
           {
            "bin_start": 5.74030026036025E-7,
            "bin_end": 6.40982893442227E-7,
            "count": 1
           },
           {
            "bin_start": 6.40982893442227E-7,
            "bin_end": 7.07935760848429E-7,
            "count": 1
           },
           {
            "bin_start": 7.07935760848429E-7,
            "bin_end": 7.74888628254631E-7,
            "count": 1
           },
           {
            "bin_start": 7.74888628254631E-7,
            "bin_end": 8.418414956608331E-7,
            "count": 0
           },
           {
            "bin_start": 8.418414956608331E-7,
            "bin_end": 9.08794363067035E-7,
            "count": 1
           }
          ]
         }
        },
        {
         "name": 0.5,
         "dtype": "float64",
         "stats": {
          "unique_count": 12,
          "nan_count": 0,
          "min": "2.632947133636688e-07",
          "max": "7.723226145614728e-07",
          "histogram": [
           {
            "bin_start": 2.632947133636688E-7,
            "bin_end": 3.141975034834492E-7,
            "count": 6
           },
           {
            "bin_start": 3.141975034834492E-7,
            "bin_end": 3.651002936032296E-7,
            "count": 1
           },
           {
            "bin_start": 3.651002936032296E-7,
            "bin_end": 4.1600308372301E-7,
            "count": 1
           },
           {
            "bin_start": 4.1600308372301E-7,
            "bin_end": 4.669058738427904E-7,
            "count": 0
           },
           {
            "bin_start": 4.669058738427904E-7,
            "bin_end": 5.178086639625708E-7,
            "count": 0
           },
           {
            "bin_start": 5.178086639625708E-7,
            "bin_end": 5.687114540823512E-7,
            "count": 1
           },
           {
            "bin_start": 5.687114540823512E-7,
            "bin_end": 6.196142442021317E-7,
            "count": 1
           },
           {
            "bin_start": 6.196142442021317E-7,
            "bin_end": 6.70517034321912E-7,
            "count": 0
           },
           {
            "bin_start": 6.70517034321912E-7,
            "bin_end": 7.214198244416924E-7,
            "count": 1
           },
           {
            "bin_start": 7.214198244416924E-7,
            "bin_end": 7.723226145614728E-7,
            "count": 1
           }
          ]
         }
        },
        {
         "name": 0.75,
         "dtype": "float64",
         "stats": {
          "unique_count": 12,
          "nan_count": 0,
          "min": "2.7418398019558877e-07",
          "max": "6.672099961762193e-07",
          "histogram": [
           {
            "bin_start": 2.7418398019558877E-7,
            "bin_end": 3.1348658179365184E-7,
            "count": 2
           },
           {
            "bin_start": 3.1348658179365184E-7,
            "bin_end": 3.5278918339171486E-7,
            "count": 2
           },
           {
            "bin_start": 3.5278918339171486E-7,
            "bin_end": 3.9209178498977793E-7,
            "count": 3
           },
           {
            "bin_start": 3.9209178498977793E-7,
            "bin_end": 4.3139438658784095E-7,
            "count": 1
           },
           {
            "bin_start": 4.3139438658784095E-7,
            "bin_end": 4.70696988185904E-7,
            "count": 0
           },
           {
            "bin_start": 4.70696988185904E-7,
            "bin_end": 5.099995897839671E-7,
            "count": 0
           },
           {
            "bin_start": 5.099995897839671E-7,
            "bin_end": 5.4930219138203E-7,
            "count": 1
           },
           {
            "bin_start": 5.4930219138203E-7,
            "bin_end": 5.886047929800931E-7,
            "count": 0
           },
           {
            "bin_start": 5.886047929800931E-7,
            "bin_end": 6.279073945781562E-7,
            "count": 2
           },
           {
            "bin_start": 6.279073945781562E-7,
            "bin_end": 6.672099961762193E-7,
            "count": 1
           }
          ]
         }
        },
        {
         "name": 1,
         "dtype": "float64",
         "stats": {
          "unique_count": 12,
          "nan_count": 0,
          "min": "2.7829403146437686e-07",
          "max": "5.765202408253364e-07",
          "histogram": [
           {
            "bin_start": 2.7829403146437686E-7,
            "bin_end": 3.081166524004728E-7,
            "count": 1
           },
           {
            "bin_start": 3.081166524004728E-7,
            "bin_end": 3.379392733365688E-7,
            "count": 1
           },
           {
            "bin_start": 3.379392733365688E-7,
            "bin_end": 3.677618942726647E-7,
            "count": 1
           },
           {
            "bin_start": 3.677618942726647E-7,
            "bin_end": 3.9758451520876065E-7,
            "count": 3
           },
           {
            "bin_start": 3.9758451520876065E-7,
            "bin_end": 4.274071361448566E-7,
            "count": 2
           },
           {
            "bin_start": 4.274071361448566E-7,
            "bin_end": 4.572297570809525E-7,
            "count": 0
           },
           {
            "bin_start": 4.572297570809525E-7,
            "bin_end": 4.870523780170485E-7,
            "count": 0
           },
           {
            "bin_start": 4.870523780170485E-7,
            "bin_end": 5.168749989531444E-7,
            "count": 0
           },
           {
            "bin_start": 5.168749989531444E-7,
            "bin_end": 5.466976198892403E-7,
            "count": 2
           },
           {
            "bin_start": 5.466976198892403E-7,
            "bin_end": 5.765202408253364E-7,
            "count": 2
           }
          ]
         }
        },
        {
         "name": 2,
         "dtype": "float64",
         "stats": {
          "unique_count": 12,
          "nan_count": 0,
          "min": "3.10811176515801e-07",
          "max": "4.858316746845576e-07",
          "histogram": [
           {
            "bin_start": 3.10811176515801E-7,
            "bin_end": 3.283132263326767E-7,
            "count": 1
           },
           {
            "bin_start": 3.283132263326767E-7,
            "bin_end": 3.458152761495523E-7,
            "count": 1
           },
           {
            "bin_start": 3.458152761495523E-7,
            "bin_end": 3.63317325966428E-7,
            "count": 1
           },
           {
            "bin_start": 3.63317325966428E-7,
            "bin_end": 3.8081937578330367E-7,
            "count": 1
           },
           {
            "bin_start": 3.8081937578330367E-7,
            "bin_end": 3.9832142560017935E-7,
            "count": 1
           },
           {
            "bin_start": 3.9832142560017935E-7,
            "bin_end": 4.1582347541705497E-7,
            "count": 1
           },
           {
            "bin_start": 4.1582347541705497E-7,
            "bin_end": 4.3332552523393064E-7,
            "count": 1
           },
           {
            "bin_start": 4.3332552523393064E-7,
            "bin_end": 4.5082757505080627E-7,
            "count": 0
           },
           {
            "bin_start": 4.5082757505080627E-7,
            "bin_end": 4.6832962486768194E-7,
            "count": 2
           },
           {
            "bin_start": 4.6832962486768194E-7,
            "bin_end": 4.858316746845576E-7,
            "count": 3
           }
          ]
         }
        },
        {
         "name": 3,
         "dtype": "float64",
         "stats": {
          "unique_count": 12,
          "nan_count": 0,
          "min": "2.710339266151594e-07",
          "max": "5.336802484577945e-07",
          "histogram": [
           {
            "bin_start": 2.710339266151594E-7,
            "bin_end": 2.9729855879942287E-7,
            "count": 1
           },
           {
            "bin_start": 2.9729855879942287E-7,
            "bin_end": 3.235631909836864E-7,
            "count": 0
           },
           {
            "bin_start": 3.235631909836864E-7,
            "bin_end": 3.4982782316794995E-7,
            "count": 1
           },
           {
            "bin_start": 3.4982782316794995E-7,
            "bin_end": 3.7609245535221344E-7,
            "count": 2
           },
           {
            "bin_start": 3.7609245535221344E-7,
            "bin_end": 4.023570875364769E-7,
            "count": 1
           },
           {
            "bin_start": 4.023570875364769E-7,
            "bin_end": 4.2862171972074047E-7,
            "count": 1
           },
           {
            "bin_start": 4.2862171972074047E-7,
            "bin_end": 4.54886351905004E-7,
            "count": 1
           },
           {
            "bin_start": 4.54886351905004E-7,
            "bin_end": 4.811509840892675E-7,
            "count": 1
           },
           {
            "bin_start": 4.811509840892675E-7,
            "bin_end": 5.07415616273531E-7,
            "count": 1
           },
           {
            "bin_start": 5.07415616273531E-7,
            "bin_end": 5.336802484577945E-7,
            "count": 3
           }
          ]
         }
        },
        {
         "name": 5,
         "dtype": "float64",
         "stats": {
          "unique_count": 12,
          "nan_count": 0,
          "min": "2.39265689005015e-07",
          "max": "6.070943278454608e-07",
          "histogram": [
           {
            "bin_start": 2.39265689005015E-7,
            "bin_end": 2.760485528890596E-7,
            "count": 1
           },
           {
            "bin_start": 2.760485528890596E-7,
            "bin_end": 3.1283141677310415E-7,
            "count": 1
           },
           {
            "bin_start": 3.1283141677310415E-7,
            "bin_end": 3.4961428065714873E-7,
            "count": 0
           },
           {
            "bin_start": 3.4961428065714873E-7,
            "bin_end": 3.863971445411933E-7,
            "count": 1
           },
           {
            "bin_start": 3.863971445411933E-7,
            "bin_end": 4.231800084252379E-7,
            "count": 1
           },
           {
            "bin_start": 4.231800084252379E-7,
            "bin_end": 4.5996287230928247E-7,
            "count": 1
           },
           {
            "bin_start": 4.5996287230928247E-7,
            "bin_end": 4.967457361933271E-7,
            "count": 2
           },
           {
            "bin_start": 4.967457361933271E-7,
            "bin_end": 5.335286000773716E-7,
            "count": 2
           },
           {
            "bin_start": 5.335286000773716E-7,
            "bin_end": 5.703114639614162E-7,
            "count": 0
           },
           {
            "bin_start": 5.703114639614162E-7,
            "bin_end": 6.070943278454608E-7,
            "count": 3
           }
          ]
         }
        },
        {
         "name": 7,
         "dtype": "float64",
         "stats": {
          "unique_count": 12,
          "nan_count": 0,
          "min": "2.403621025660799e-07",
          "max": "6.342614569807534e-07",
          "histogram": [
           {
            "bin_start": 2.403621025660799E-7,
            "bin_end": 2.7975203800754726E-7,
            "count": 1
           },
           {
            "bin_start": 2.7975203800754726E-7,
            "bin_end": 3.191419734490146E-7,
            "count": 1
           },
           {
            "bin_start": 3.191419734490146E-7,
            "bin_end": 3.58531908890482E-7,
            "count": 1
           },
           {
            "bin_start": 3.58531908890482E-7,
            "bin_end": 3.979218443319493E-7,
            "count": 1
           },
           {
            "bin_start": 3.979218443319493E-7,
            "bin_end": 4.3731177977341666E-7,
            "count": 0
           },
           {
            "bin_start": 4.3731177977341666E-7,
            "bin_end": 4.76701715214884E-7,
            "count": 0
           },
           {
            "bin_start": 4.76701715214884E-7,
            "bin_end": 5.160916506563513E-7,
            "count": 2
           },
           {
            "bin_start": 5.160916506563513E-7,
            "bin_end": 5.554815860978187E-7,
            "count": 2
           },
           {
            "bin_start": 5.554815860978187E-7,
            "bin_end": 5.94871521539286E-7,
            "count": 1
           },
           {
            "bin_start": 5.94871521539286E-7,
            "bin_end": 6.342614569807534E-7,
            "count": 3
           }
          ]
         }
        },
        {
         "name": 10,
         "dtype": "float64",
         "stats": {
          "unique_count": 12,
          "nan_count": 0,
          "min": "2.5455226513331856e-07",
          "max": "6.112978633015064e-07",
          "histogram": [
           {
            "bin_start": 2.5455226513331856E-7,
            "bin_end": 2.9022682495013734E-7,
            "count": 1
           },
           {
            "bin_start": 2.9022682495013734E-7,
            "bin_end": 3.259013847669561E-7,
            "count": 1
           },
           {
            "bin_start": 3.259013847669561E-7,
            "bin_end": 3.6157594458377494E-7,
            "count": 1
           },
           {
            "bin_start": 3.6157594458377494E-7,
            "bin_end": 3.972505044005937E-7,
            "count": 1
           },
           {
            "bin_start": 3.972505044005937E-7,
            "bin_end": 4.329250642174125E-7,
            "count": 0
           },
           {
            "bin_start": 4.329250642174125E-7,
            "bin_end": 4.685996240342313E-7,
            "count": 1
           },
           {
            "bin_start": 4.685996240342313E-7,
            "bin_end": 5.0427418385105E-7,
            "count": 1
           },
           {
            "bin_start": 5.0427418385105E-7,
            "bin_end": 5.399487436678689E-7,
            "count": 1
           },
           {
            "bin_start": 5.399487436678689E-7,
            "bin_end": 5.756233034846877E-7,
            "count": 3
           },
           {
            "bin_start": 5.756233034846877E-7,
            "bin_end": 6.112978633015064E-7,
            "count": 2
           }
          ]
         }
        },
        {
         "name": 15,
         "dtype": "float64",
         "stats": {
          "unique_count": 12,
          "nan_count": 0,
          "min": "2.5923952631283506e-07",
          "max": "5.897143945522701e-07",
          "histogram": [
           {
            "bin_start": 2.5923952631283506E-7,
            "bin_end": 2.9228701313677856E-7,
            "count": 1
           },
           {
            "bin_start": 2.9228701313677856E-7,
            "bin_end": 3.2533449996072206E-7,
            "count": 2
           },
           {
            "bin_start": 3.2533449996072206E-7,
            "bin_end": 3.583819867846656E-7,
            "count": 1
           },
           {
            "bin_start": 3.583819867846656E-7,
            "bin_end": 3.914294736086091E-7,
            "count": 0
           },
           {
            "bin_start": 3.914294736086091E-7,
            "bin_end": 4.244769604325526E-7,
            "count": 1
           },
           {
            "bin_start": 4.244769604325526E-7,
            "bin_end": 4.575244472564961E-7,
            "count": 1
           },
           {
            "bin_start": 4.575244472564961E-7,
            "bin_end": 4.905719340804396E-7,
            "count": 0
           },
           {
            "bin_start": 4.905719340804396E-7,
            "bin_end": 5.236194209043831E-7,
            "count": 1
           },
           {
            "bin_start": 5.236194209043831E-7,
            "bin_end": 5.566669077283266E-7,
            "count": 1
           },
           {
            "bin_start": 5.566669077283266E-7,
            "bin_end": 5.897143945522701E-7,
            "count": 4
           }
          ]
         }
        },
        {
         "name": 20,
         "dtype": "float64",
         "stats": {
          "unique_count": 12,
          "nan_count": 0,
          "min": "2.589362311638423e-07",
          "max": "5.996282839282304e-07",
          "histogram": [
           {
            "bin_start": 2.589362311638423E-7,
            "bin_end": 2.930054364402811E-7,
            "count": 2
           },
           {
            "bin_start": 2.930054364402811E-7,
            "bin_end": 3.270746417167199E-7,
            "count": 2
           },
           {
            "bin_start": 3.270746417167199E-7,
            "bin_end": 3.611438469931588E-7,
            "count": 1
           },
           {
            "bin_start": 3.611438469931588E-7,
            "bin_end": 3.952130522695976E-7,
            "count": 0
           },
           {
            "bin_start": 3.952130522695976E-7,
            "bin_end": 4.2928225754603637E-7,
            "count": 1
           },
           {
            "bin_start": 4.2928225754603637E-7,
            "bin_end": 4.633514628224752E-7,
            "count": 0
           },
           {
            "bin_start": 4.633514628224752E-7,
            "bin_end": 4.974206680989141E-7,
            "count": 1
           },
           {
            "bin_start": 4.974206680989141E-7,
            "bin_end": 5.314898733753528E-7,
            "count": 1
           },
           {
            "bin_start": 5.314898733753528E-7,
            "bin_end": 5.655590786517916E-7,
            "count": 1
           },
           {
            "bin_start": 5.655590786517916E-7,
            "bin_end": 5.996282839282304E-7,
            "count": 3
           }
          ]
         }
        },
        {
         "name": 30,
         "dtype": "float64",
         "stats": {
          "unique_count": 12,
          "nan_count": 0,
          "min": "2.512829462481814e-07",
          "max": "6.37115124888779e-07",
          "histogram": [
           {
            "bin_start": 2.512829462481814E-7,
            "bin_end": 2.898661641122412E-7,
            "count": 4
           },
           {
            "bin_start": 2.898661641122412E-7,
            "bin_end": 3.284493819763009E-7,
            "count": 1
           },
           {
            "bin_start": 3.284493819763009E-7,
            "bin_end": 3.670325998403607E-7,
            "count": 1
           },
           {
            "bin_start": 3.670325998403607E-7,
            "bin_end": 4.056158177044204E-7,
            "count": 0
           },
           {
            "bin_start": 4.056158177044204E-7,
            "bin_end": 4.441990355684802E-7,
            "count": 0
           },
           {
            "bin_start": 4.441990355684802E-7,
            "bin_end": 4.8278225343254E-7,
            "count": 1
           },
           {
            "bin_start": 4.8278225343254E-7,
            "bin_end": 5.213654712965997E-7,
            "count": 1
           },
           {
            "bin_start": 5.213654712965997E-7,
            "bin_end": 5.599486891606595E-7,
            "count": 1
           },
           {
            "bin_start": 5.599486891606595E-7,
            "bin_end": 5.985319070247193E-7,
            "count": 2
           },
           {
            "bin_start": 5.985319070247193E-7,
            "bin_end": 6.37115124888779E-7,
            "count": 1
           }
          ]
         }
        },
        {
         "name": "_deepnote_index_column",
         "dtype": "float64"
        }
       ],
       "rows": [
        {
         "0.25": 9.08794363067035E-7,
         "0.5": 7.723226145614728E-7,
         "0.75": 6.672099961762193E-7,
         "1.0": 5.765202408253364E-7,
         "2.0": 3.4223264294454255E-7,
         "3.0": 2.710339266151594E-7,
         "5.0": 2.39265689005015E-7,
         "7.0": 2.403621025660799E-7,
         "10.0": 2.5455226513331856E-7,
         "15.0": 2.5923952631283506E-7,
         "20.0": 2.589362311638423E-7,
         "30.0": 2.512829462481814E-7,
         "_deepnote_index_column": 0.25
        },
        {
         "0.25": 7.723226145614728E-7,
         "0.5": 7.14494541004537E-7,
         "0.75": 6.182977178000176E-7,
         "1.0": 5.525213851405178E-7,
         "2.0": 3.776962699703159E-7,
         "3.0": 3.2607981694582694E-7,
         "5.0": 3.050850832240851E-7,
         "7.0": 3.0365745118319853E-7,
         "10.0": 3.0601589052019687E-7,
         "15.0": 2.9368754642209946E-7,
         "20.0": 2.8240413648469746E-7,
         "30.0": 2.632947133636688E-7,
         "_deepnote_index_column": 0.5
        },
        {
         "0.25": 6.672099961762192E-7,
         "0.5": 6.182977178000176E-7,
         "0.75": 5.922687921895077E-7,
         "1.0": 5.265559047916194E-7,
         "2.0": 4.0415117904736044E-7,
         "3.0": 3.700026368649487E-7,
         "5.0": 3.5895355475263673E-7,
         "7.0": 3.5583618358919857E-7,
         "10.0": 3.485443021401433E-7,
         "15.0": 3.224790322670151E-7,
         "20.0": 3.0237449060016637E-7,
         "30.0": 2.7418398019558877E-7,
         "_deepnote_index_column": 0.75
        },
        {
         "0.25": 5.765202408253364E-7,
         "0.5": 5.525213851405178E-7,
         "0.75": 5.265559047916195E-7,
         "1.0": 5.220843336947304E-7,
         "2.0": 4.208635290935707E-7,
         "3.0": 4.0080953881174425E-7,
         "5.0": 3.974960458615954E-7,
         "7.0": 3.928489493379564E-7,
         "10.0": 3.777488664516437E-7,
         "15.0": 3.407394046484897E-7,
         "20.0": 3.1363677682364393E-7,
         "30.0": 2.782940314643769E-7,
         "_deepnote_index_column": 1
        },
        {
         "0.25": 3.4223264294454255E-7,
         "0.5": 3.7769626997031596E-7,
         "0.75": 4.041511790473605E-7,
         "1.0": 4.208635290935707E-7,
         "2.0": 4.694603251546259E-7,
         "3.0": 4.649844917335649E-7,
         "5.0": 4.858316746845576E-7,
         "7.0": 4.819324626272194E-7,
         "10.0": 4.5281509757636055E-7,
         "15.0": 3.966822976887545E-7,
         "20.0": 3.575952393629285E-7,
         "30.0": 3.10811176515801E-7,
         "_deepnote_index_column": 2
        },
        {
         "0.25": 2.710339266151594E-7,
         "0.5": 3.2607981694582694E-7,
         "0.75": 3.7000263686494874E-7,
         "1.0": 4.0080953881174425E-7,
         "2.0": 4.6498449173356495E-7,
         "3.0": 5.197392926431097E-7,
         "5.0": 5.330205012364577E-7,
         "7.0": 5.336802484577945E-7,
         "10.0": 5.036576263382178E-7,
         "15.0": 4.461788029793401E-7,
         "20.0": 4.063937892783626E-7,
         "30.0": 3.59624323113258E-7,
         "_deepnote_index_column": 3
        },
        {
         "0.25": 2.3926568900501494E-7,
         "0.5": 3.050850832240851E-7,
         "0.75": 3.589535547526368E-7,
         "1.0": 3.974960458615954E-7,
         "2.0": 4.858316746845576E-7,
         "3.0": 5.330205012364577E-7,
         "5.0": 6.070943278454608E-7,
         "7.0": 5.952417685696412E-7,
         "10.0": 5.70548156028989E-7,
         "15.0": 5.201686368557362E-7,
         "20.0": 4.851531161632524E-7,
         "30.0": 4.444022606138228E-7,
         "_deepnote_index_column": 5
        },
        {
         "0.25": 2.4036210256607997E-7,
         "0.5": 3.0365745118319853E-7,
         "0.75": 3.558361835891986E-7,
         "1.0": 3.928489493379564E-7,
         "2.0": 4.819324626272194E-7,
         "3.0": 5.336802484577945E-7,
         "5.0": 5.952417685696412E-7,
         "7.0": 6.342614569807534E-7,
         "10.0": 5.955406098940169E-7,
         "15.0": 5.561093197211177E-7,
         "20.0": 5.283548707840456E-7,
         "30.0": 4.960602346919799E-7,
         "_deepnote_index_column": 7
        },
        {
         "0.25": 2.5455226513331856E-7,
         "0.5": 3.060158905201969E-7,
         "0.75": 3.4854430214014336E-7,
         "1.0": 3.777488664516437E-7,
         "2.0": 4.5281509757636055E-7,
         "3.0": 5.036576263382178E-7,
         "5.0": 5.70548156028989E-7,
         "7.0": 5.955406098940169E-7,
         "10.0": 6.112978633015064E-7,
         "15.0": 5.664775041643332E-7,
         "20.0": 5.495541044796921E-7,
         "30.0": 5.296158960459917E-7,
         "_deepnote_index_column": 10
        },
        {
         "0.25": 2.5923952631283506E-7,
         "0.5": 2.9368754642209946E-7,
         "0.75": 3.224790322670151E-7,
         "1.0": 3.407394046484897E-7,
         "2.0": 3.966822976887545E-7,
         "3.0": 4.4617880297934E-7,
         "5.0": 5.201686368557362E-7,
         "7.0": 5.561093197211177E-7,
         "10.0": 5.664775041643332E-7,
         "15.0": 5.897143945522701E-7,
         "20.0": 5.674805077821382E-7,
         "30.0": 5.663679500004252E-7,
         "_deepnote_index_column": 15
        }
       ]
      },
      "text/plain": "              0.25          0.50          0.75          1.00          2.00   \\\n0.25   9.087944e-07  7.723226e-07  6.672100e-07  5.765202e-07  3.422326e-07   \n0.50   7.723226e-07  7.144945e-07  6.182977e-07  5.525214e-07  3.776963e-07   \n0.75   6.672100e-07  6.182977e-07  5.922688e-07  5.265559e-07  4.041512e-07   \n1.00   5.765202e-07  5.525214e-07  5.265559e-07  5.220843e-07  4.208635e-07   \n2.00   3.422326e-07  3.776963e-07  4.041512e-07  4.208635e-07  4.694603e-07   \n3.00   2.710339e-07  3.260798e-07  3.700026e-07  4.008095e-07  4.649845e-07   \n5.00   2.392657e-07  3.050851e-07  3.589536e-07  3.974960e-07  4.858317e-07   \n7.00   2.403621e-07  3.036575e-07  3.558362e-07  3.928489e-07  4.819325e-07   \n10.00  2.545523e-07  3.060159e-07  3.485443e-07  3.777489e-07  4.528151e-07   \n15.00  2.592395e-07  2.936875e-07  3.224790e-07  3.407394e-07  3.966823e-07   \n20.00  2.589362e-07  2.824041e-07  3.023745e-07  3.136368e-07  3.575952e-07   \n30.00  2.512829e-07  2.632947e-07  2.741840e-07  2.782940e-07  3.108112e-07   \n\n              3.00          5.00          7.00          10.00         15.00  \\\n0.25   2.710339e-07  2.392657e-07  2.403621e-07  2.545523e-07  2.592395e-07   \n0.50   3.260798e-07  3.050851e-07  3.036575e-07  3.060159e-07  2.936875e-07   \n0.75   3.700026e-07  3.589536e-07  3.558362e-07  3.485443e-07  3.224790e-07   \n1.00   4.008095e-07  3.974960e-07  3.928489e-07  3.777489e-07  3.407394e-07   \n2.00   4.649845e-07  4.858317e-07  4.819325e-07  4.528151e-07  3.966823e-07   \n3.00   5.197393e-07  5.330205e-07  5.336802e-07  5.036576e-07  4.461788e-07   \n5.00   5.330205e-07  6.070943e-07  5.952418e-07  5.705482e-07  5.201686e-07   \n7.00   5.336802e-07  5.952418e-07  6.342615e-07  5.955406e-07  5.561093e-07   \n10.00  5.036576e-07  5.705482e-07  5.955406e-07  6.112979e-07  5.664775e-07   \n15.00  4.461788e-07  5.201686e-07  5.561093e-07  5.664775e-07  5.897144e-07   \n20.00  4.063938e-07  4.851531e-07  5.283549e-07  5.495541e-07  5.674805e-07   \n30.00  3.596243e-07  4.444023e-07  4.960602e-07  5.296159e-07  5.663680e-07   \n\n              20.00         30.00  \n0.25   2.589362e-07  2.512829e-07  \n0.50   2.824041e-07  2.632947e-07  \n0.75   3.023745e-07  2.741840e-07  \n1.00   3.136368e-07  2.782940e-07  \n2.00   3.575952e-07  3.108112e-07  \n3.00   4.063938e-07  3.596243e-07  \n5.00   4.851531e-07  4.444023e-07  \n7.00   5.283549e-07  4.960602e-07  \n10.00  5.495541e-07  5.296159e-07  \n15.00  5.674805e-07  5.663680e-07  \n20.00  5.996283e-07  5.893851e-07  \n30.00  5.893851e-07  6.371151e-07  ",
      "text/html": "<div>\n<style scoped>\n    .dataframe tbody tr th:only-of-type {\n        vertical-align: middle;\n    }\n\n    .dataframe tbody tr th {\n        vertical-align: top;\n    }\n\n    .dataframe thead th {\n        text-align: right;\n    }\n</style>\n<table border=\"1\" class=\"dataframe\">\n  <thead>\n    <tr style=\"text-align: right;\">\n      <th></th>\n      <th>0.25</th>\n      <th>0.50</th>\n      <th>0.75</th>\n      <th>1.00</th>\n      <th>2.00</th>\n      <th>3.00</th>\n      <th>5.00</th>\n      <th>7.00</th>\n      <th>10.00</th>\n      <th>15.00</th>\n      <th>20.00</th>\n      <th>30.00</th>\n    </tr>\n  </thead>\n  <tbody>\n    <tr>\n      <th>0.25</th>\n      <td>9.087944e-07</td>\n      <td>7.723226e-07</td>\n      <td>6.672100e-07</td>\n      <td>5.765202e-07</td>\n      <td>3.422326e-07</td>\n      <td>2.710339e-07</td>\n      <td>2.392657e-07</td>\n      <td>2.403621e-07</td>\n      <td>2.545523e-07</td>\n      <td>2.592395e-07</td>\n      <td>2.589362e-07</td>\n      <td>2.512829e-07</td>\n    </tr>\n    <tr>\n      <th>0.50</th>\n      <td>7.723226e-07</td>\n      <td>7.144945e-07</td>\n      <td>6.182977e-07</td>\n      <td>5.525214e-07</td>\n      <td>3.776963e-07</td>\n      <td>3.260798e-07</td>\n      <td>3.050851e-07</td>\n      <td>3.036575e-07</td>\n      <td>3.060159e-07</td>\n      <td>2.936875e-07</td>\n      <td>2.824041e-07</td>\n      <td>2.632947e-07</td>\n    </tr>\n    <tr>\n      <th>0.75</th>\n      <td>6.672100e-07</td>\n      <td>6.182977e-07</td>\n      <td>5.922688e-07</td>\n      <td>5.265559e-07</td>\n      <td>4.041512e-07</td>\n      <td>3.700026e-07</td>\n      <td>3.589536e-07</td>\n      <td>3.558362e-07</td>\n      <td>3.485443e-07</td>\n      <td>3.224790e-07</td>\n      <td>3.023745e-07</td>\n      <td>2.741840e-07</td>\n    </tr>\n    <tr>\n      <th>1.00</th>\n      <td>5.765202e-07</td>\n      <td>5.525214e-07</td>\n      <td>5.265559e-07</td>\n      <td>5.220843e-07</td>\n      <td>4.208635e-07</td>\n      <td>4.008095e-07</td>\n      <td>3.974960e-07</td>\n      <td>3.928489e-07</td>\n      <td>3.777489e-07</td>\n      <td>3.407394e-07</td>\n      <td>3.136368e-07</td>\n      <td>2.782940e-07</td>\n    </tr>\n    <tr>\n      <th>2.00</th>\n      <td>3.422326e-07</td>\n      <td>3.776963e-07</td>\n      <td>4.041512e-07</td>\n      <td>4.208635e-07</td>\n      <td>4.694603e-07</td>\n      <td>4.649845e-07</td>\n      <td>4.858317e-07</td>\n      <td>4.819325e-07</td>\n      <td>4.528151e-07</td>\n      <td>3.966823e-07</td>\n      <td>3.575952e-07</td>\n      <td>3.108112e-07</td>\n    </tr>\n    <tr>\n      <th>3.00</th>\n      <td>2.710339e-07</td>\n      <td>3.260798e-07</td>\n      <td>3.700026e-07</td>\n      <td>4.008095e-07</td>\n      <td>4.649845e-07</td>\n      <td>5.197393e-07</td>\n      <td>5.330205e-07</td>\n      <td>5.336802e-07</td>\n      <td>5.036576e-07</td>\n      <td>4.461788e-07</td>\n      <td>4.063938e-07</td>\n      <td>3.596243e-07</td>\n    </tr>\n    <tr>\n      <th>5.00</th>\n      <td>2.392657e-07</td>\n      <td>3.050851e-07</td>\n      <td>3.589536e-07</td>\n      <td>3.974960e-07</td>\n      <td>4.858317e-07</td>\n      <td>5.330205e-07</td>\n      <td>6.070943e-07</td>\n      <td>5.952418e-07</td>\n      <td>5.705482e-07</td>\n      <td>5.201686e-07</td>\n      <td>4.851531e-07</td>\n      <td>4.444023e-07</td>\n    </tr>\n    <tr>\n      <th>7.00</th>\n      <td>2.403621e-07</td>\n      <td>3.036575e-07</td>\n      <td>3.558362e-07</td>\n      <td>3.928489e-07</td>\n      <td>4.819325e-07</td>\n      <td>5.336802e-07</td>\n      <td>5.952418e-07</td>\n      <td>6.342615e-07</td>\n      <td>5.955406e-07</td>\n      <td>5.561093e-07</td>\n      <td>5.283549e-07</td>\n      <td>4.960602e-07</td>\n    </tr>\n    <tr>\n      <th>10.00</th>\n      <td>2.545523e-07</td>\n      <td>3.060159e-07</td>\n      <td>3.485443e-07</td>\n      <td>3.777489e-07</td>\n      <td>4.528151e-07</td>\n      <td>5.036576e-07</td>\n      <td>5.705482e-07</td>\n      <td>5.955406e-07</td>\n      <td>6.112979e-07</td>\n      <td>5.664775e-07</td>\n      <td>5.495541e-07</td>\n      <td>5.296159e-07</td>\n    </tr>\n    <tr>\n      <th>15.00</th>\n      <td>2.592395e-07</td>\n      <td>2.936875e-07</td>\n      <td>3.224790e-07</td>\n      <td>3.407394e-07</td>\n      <td>3.966823e-07</td>\n      <td>4.461788e-07</td>\n      <td>5.201686e-07</td>\n      <td>5.561093e-07</td>\n      <td>5.664775e-07</td>\n      <td>5.897144e-07</td>\n      <td>5.674805e-07</td>\n      <td>5.663680e-07</td>\n    </tr>\n    <tr>\n      <th>20.00</th>\n      <td>2.589362e-07</td>\n      <td>2.824041e-07</td>\n      <td>3.023745e-07</td>\n      <td>3.136368e-07</td>\n      <td>3.575952e-07</td>\n      <td>4.063938e-07</td>\n      <td>4.851531e-07</td>\n      <td>5.283549e-07</td>\n      <td>5.495541e-07</td>\n      <td>5.674805e-07</td>\n      <td>5.996283e-07</td>\n      <td>5.893851e-07</td>\n    </tr>\n    <tr>\n      <th>30.00</th>\n      <td>2.512829e-07</td>\n      <td>2.632947e-07</td>\n      <td>2.741840e-07</td>\n      <td>2.782940e-07</td>\n      <td>3.108112e-07</td>\n      <td>3.596243e-07</td>\n      <td>4.444023e-07</td>\n      <td>4.960602e-07</td>\n      <td>5.296159e-07</td>\n      <td>5.663680e-07</td>\n      <td>5.893851e-07</td>\n      <td>6.371151e-07</td>\n    </tr>\n  </tbody>\n</table>\n</div>"
     },
     "metadata": {}
    }
   ],
   "execution_count": null
  },
  {
   "cell_type": "code",
   "source": [
    "print(rate_sensitivities @ factor_covariance @ rate_sensitivities.T)"
   ],
   "metadata": {
    "cell_id": "e5c5dcc1-329f-4229-907d-1abcea3584e1",
    "tags": [],
    "deepnote_to_be_reexecuted": false,
    "source_hash": "cb12560c",
    "execution_start": 1646495662934,
    "execution_millis": 9,
    "deepnote_table_state": {
     "pageSize": 10,
     "pageIndex": 0,
     "filters": [],
     "sortBy": []
    },
    "deepnote_table_loading": false,
    "deepnote_cell_type": "code",
    "pycharm": {
     "name": "#%%\n"
    }
   },
   "outputs": [
    {
     "name": "stdout",
     "text": "              0.25          0.50          0.75          1.00          2.00   \\\n0.25   8.870769e-07  7.723226e-07  6.672100e-07  5.765202e-07  3.422326e-07   \n0.50   7.723226e-07  6.927770e-07  6.182977e-07  5.525214e-07  3.776963e-07   \n0.75   6.672100e-07  6.182977e-07  5.705513e-07  5.265559e-07  4.041512e-07   \n1.00   5.765202e-07  5.525214e-07  5.265559e-07  5.003668e-07  4.208635e-07   \n2.00   3.422326e-07  3.776963e-07  4.041512e-07  4.208635e-07  4.477428e-07   \n3.00   2.710339e-07  3.260798e-07  3.700026e-07  4.008095e-07  4.649845e-07   \n5.00   2.392657e-07  3.050851e-07  3.589536e-07  3.974960e-07  4.858317e-07   \n7.00   2.403621e-07  3.036575e-07  3.558362e-07  3.928489e-07  4.819325e-07   \n10.00  2.545523e-07  3.060159e-07  3.485443e-07  3.777489e-07  4.528151e-07   \n15.00  2.592395e-07  2.936875e-07  3.224790e-07  3.407394e-07  3.966823e-07   \n20.00  2.589362e-07  2.824041e-07  3.023745e-07  3.136368e-07  3.575952e-07   \n30.00  2.512829e-07  2.632947e-07  2.741840e-07  2.782940e-07  3.108112e-07   \n\n              3.00          5.00          7.00          10.00         15.00  \\\n0.25   2.710339e-07  2.392657e-07  2.403621e-07  2.545523e-07  2.592395e-07   \n0.50   3.260798e-07  3.050851e-07  3.036575e-07  3.060159e-07  2.936875e-07   \n0.75   3.700026e-07  3.589536e-07  3.558362e-07  3.485443e-07  3.224790e-07   \n1.00   4.008095e-07  3.974960e-07  3.928489e-07  3.777489e-07  3.407394e-07   \n2.00   4.649845e-07  4.858317e-07  4.819325e-07  4.528151e-07  3.966823e-07   \n3.00   4.980218e-07  5.330205e-07  5.336802e-07  5.036576e-07  4.461788e-07   \n5.00   5.330205e-07  5.853768e-07  5.952418e-07  5.705482e-07  5.201686e-07   \n7.00   5.336802e-07  5.952418e-07  6.125439e-07  5.955406e-07  5.561093e-07   \n10.00  5.036576e-07  5.705482e-07  5.955406e-07  5.895804e-07  5.664775e-07   \n15.00  4.461788e-07  5.201686e-07  5.561093e-07  5.664775e-07  5.679969e-07   \n20.00  4.063938e-07  4.851531e-07  5.283549e-07  5.495541e-07  5.674805e-07   \n30.00  3.596243e-07  4.444023e-07  4.960602e-07  5.296159e-07  5.663680e-07   \n\n              20.00         30.00  \n0.25   2.589362e-07  2.512829e-07  \n0.50   2.824041e-07  2.632947e-07  \n0.75   3.023745e-07  2.741840e-07  \n1.00   3.136368e-07  2.782940e-07  \n2.00   3.575952e-07  3.108112e-07  \n3.00   4.063938e-07  3.596243e-07  \n5.00   4.851531e-07  4.444023e-07  \n7.00   5.283549e-07  4.960602e-07  \n10.00  5.495541e-07  5.296159e-07  \n15.00  5.674805e-07  5.663680e-07  \n20.00  5.779108e-07  5.893851e-07  \n30.00  5.893851e-07  6.153976e-07  \n",
     "output_type": "stream"
    }
   ],
   "execution_count": null
  },
  {
   "cell_type": "code",
   "source": [
    "np.eye(pca.n_features_) * pca.noise_variance_ "
   ],
   "metadata": {
    "cell_id": "1d9a45e1-9375-4cfa-a81f-0b938cea5dca",
    "tags": [],
    "deepnote_to_be_reexecuted": false,
    "source_hash": "bde90ffa",
    "execution_start": 1646495860002,
    "execution_millis": 266,
    "deepnote_cell_type": "code",
    "pycharm": {
     "name": "#%%\n"
    }
   },
   "outputs": [
    {
     "output_type": "execute_result",
     "execution_count": 68,
     "data": {
      "text/plain": "array([[2.17175118e-08, 0.00000000e+00, 0.00000000e+00, 0.00000000e+00,\n        0.00000000e+00, 0.00000000e+00, 0.00000000e+00, 0.00000000e+00,\n        0.00000000e+00, 0.00000000e+00, 0.00000000e+00, 0.00000000e+00],\n       [0.00000000e+00, 2.17175118e-08, 0.00000000e+00, 0.00000000e+00,\n        0.00000000e+00, 0.00000000e+00, 0.00000000e+00, 0.00000000e+00,\n        0.00000000e+00, 0.00000000e+00, 0.00000000e+00, 0.00000000e+00],\n       [0.00000000e+00, 0.00000000e+00, 2.17175118e-08, 0.00000000e+00,\n        0.00000000e+00, 0.00000000e+00, 0.00000000e+00, 0.00000000e+00,\n        0.00000000e+00, 0.00000000e+00, 0.00000000e+00, 0.00000000e+00],\n       [0.00000000e+00, 0.00000000e+00, 0.00000000e+00, 2.17175118e-08,\n        0.00000000e+00, 0.00000000e+00, 0.00000000e+00, 0.00000000e+00,\n        0.00000000e+00, 0.00000000e+00, 0.00000000e+00, 0.00000000e+00],\n       [0.00000000e+00, 0.00000000e+00, 0.00000000e+00, 0.00000000e+00,\n        2.17175118e-08, 0.00000000e+00, 0.00000000e+00, 0.00000000e+00,\n        0.00000000e+00, 0.00000000e+00, 0.00000000e+00, 0.00000000e+00],\n       [0.00000000e+00, 0.00000000e+00, 0.00000000e+00, 0.00000000e+00,\n        0.00000000e+00, 2.17175118e-08, 0.00000000e+00, 0.00000000e+00,\n        0.00000000e+00, 0.00000000e+00, 0.00000000e+00, 0.00000000e+00],\n       [0.00000000e+00, 0.00000000e+00, 0.00000000e+00, 0.00000000e+00,\n        0.00000000e+00, 0.00000000e+00, 2.17175118e-08, 0.00000000e+00,\n        0.00000000e+00, 0.00000000e+00, 0.00000000e+00, 0.00000000e+00],\n       [0.00000000e+00, 0.00000000e+00, 0.00000000e+00, 0.00000000e+00,\n        0.00000000e+00, 0.00000000e+00, 0.00000000e+00, 2.17175118e-08,\n        0.00000000e+00, 0.00000000e+00, 0.00000000e+00, 0.00000000e+00],\n       [0.00000000e+00, 0.00000000e+00, 0.00000000e+00, 0.00000000e+00,\n        0.00000000e+00, 0.00000000e+00, 0.00000000e+00, 0.00000000e+00,\n        2.17175118e-08, 0.00000000e+00, 0.00000000e+00, 0.00000000e+00],\n       [0.00000000e+00, 0.00000000e+00, 0.00000000e+00, 0.00000000e+00,\n        0.00000000e+00, 0.00000000e+00, 0.00000000e+00, 0.00000000e+00,\n        0.00000000e+00, 2.17175118e-08, 0.00000000e+00, 0.00000000e+00],\n       [0.00000000e+00, 0.00000000e+00, 0.00000000e+00, 0.00000000e+00,\n        0.00000000e+00, 0.00000000e+00, 0.00000000e+00, 0.00000000e+00,\n        0.00000000e+00, 0.00000000e+00, 2.17175118e-08, 0.00000000e+00],\n       [0.00000000e+00, 0.00000000e+00, 0.00000000e+00, 0.00000000e+00,\n        0.00000000e+00, 0.00000000e+00, 0.00000000e+00, 0.00000000e+00,\n        0.00000000e+00, 0.00000000e+00, 0.00000000e+00, 2.17175118e-08]])"
     },
     "metadata": {}
    }
   ],
   "execution_count": null
  },
  {
   "cell_type": "code",
   "source": [],
   "metadata": {
    "cell_id": "691907ff-9173-46b6-8755-43fb2c4822d2",
    "tags": [],
    "deepnote_cell_type": "code",
    "pycharm": {
     "name": "#%%\n"
    }
   },
   "outputs": [],
   "execution_count": null
  },
  {
   "cell_type": "markdown",
   "source": [
    "We can now proceed as usual... We'll still need the **Key Rate Durations** discussed above.\n"
   ],
   "metadata": {
    "id": "sHThOf4MK1zt",
    "cell_id": "00044-8277064c-fe2b-44f8-9d27-d528380df18e",
    "deepnote_cell_type": "markdown",
    "pycharm": {
     "name": "#%% md\n"
    }
   }
  },
  {
   "cell_type": "code",
   "metadata": {
    "colab": {
     "base_uri": "https://localhost:8080/"
    },
    "id": "bgpHoHUqZ2a3",
    "outputId": "a49d4f1c-24a8-40cc-c26a-e5f7cda81cd8",
    "cell_id": "00045-ec37028b-f66d-4b8b-a774-d4067121212a",
    "deepnote_cell_type": "code",
    "pycharm": {
     "name": "#%%\n"
    }
   },
   "source": [
    "portfolio_mu = \n",
    "portfolio_sigma = \n",
    "VaR = - ss.norm(portfolio_mu, portfolio_sigma).ppf(0.01)\n",
    "print(f\"VaR computed via PCA is {VaR*100:.2f}%\")"
   ],
   "outputs": [
    {
     "name": "stdout",
     "output_type": "stream",
     "text": "VaR computed via PCA is 0.46%\n"
    }
   ],
   "execution_count": null
  },
  {
   "cell_type": "markdown",
   "source": [
    "But there is an easier way!"
   ],
   "metadata": {
    "id": "XBwuDIMVZ1Q4",
    "cell_id": "00046-eb0cf338-bdc9-432e-9607-c50a1f109e89",
    "deepnote_cell_type": "markdown",
    "pycharm": {
     "name": "#%% md\n"
    }
   }
  },
  {
   "cell_type": "markdown",
   "source": [
    "Let's calculate the so-called **Partial Durations** -- these are the sensitivities to a small non-parallel term structure shift specified by a given factor:"
   ],
   "metadata": {
    "id": "IED3lfHALG6n",
    "cell_id": "00047-8fe75151-8a0c-4dee-899f-7b36a4f88060",
    "deepnote_cell_type": "markdown",
    "pycharm": {
     "name": "#%% md\n"
    }
   }
  },
  {
   "cell_type": "markdown",
   "source": [
    "$$\n",
    "-\\left(\\frac{PV(r(\\cdot)+h\\,f(\\cdot))-PV(r(\\cdot))}{h}\\right)/PV(r(\\cdot))\n",
    "$$"
   ],
   "metadata": {
    "cell_id": "5f30dbf9-6241-4012-9bc3-05875a94c68e",
    "tags": [],
    "deepnote_cell_type": "markdown",
    "pycharm": {
     "name": "#%% md\n"
    }
   }
  },
  {
   "cell_type": "code",
   "metadata": {
    "id": "QDWyaAugLF5t",
    "cell_id": "00048-5a3d5e46-b095-4471-852c-c33ea00f045a",
    "deepnote_to_be_reexecuted": false,
    "source_hash": "785b4a22",
    "execution_start": 1646496801574,
    "execution_millis": 3,
    "deepnote_cell_type": "code",
    "pycharm": {
     "name": "#%%\n"
    }
   },
   "source": [
    "def partial_duration(pricing_function, term_structure, factor, h=1e-8):\n",
    "#                        PV(.)               r(.)        f(.)    h\n",
    "    return -(pricing_function(term_structure + h * factor) - pricing_function(term_structure)) / h / pricing_function(term_structure)"
   ],
   "outputs": [],
   "execution_count": null
  },
  {
   "cell_type": "code",
   "source": [
    "def partial_duration(pricing_function, term_structure, factor, h=1e-8):\n",
    "#                        PV(.)               r(.)        f(.)    h\n",
    "    pricing_function()"
   ],
   "metadata": {
    "cell_id": "2de618d7-9382-4b13-9300-246e86e00e9f",
    "tags": [],
    "deepnote_cell_type": "code",
    "pycharm": {
     "name": "#%%\n"
    }
   },
   "outputs": [],
   "execution_count": null
  },
  {
   "cell_type": "code",
   "metadata": {
    "colab": {
     "base_uri": "https://localhost:8080/"
    },
    "id": "QySlgupvNfWC",
    "outputId": "36d83dbe-abb2-440b-fc92-0d7a5097891a",
    "cell_id": "00049-c37ad3bd-f8f5-44f1-a888-d56600724259",
    "deepnote_to_be_reexecuted": false,
    "source_hash": "71706e83",
    "execution_start": 1646496804684,
    "execution_millis": 76,
    "deepnote_cell_type": "code",
    "pycharm": {
     "name": "#%%\n"
    }
   },
   "source": [
    "partial_durations = pd.Series([\n",
    "  partial_duration(lambda rates: bond_price(cashflows, rates), current_rates, pca.components_[k])\n",
    "  for k in range(K)\n",
    "])\n",
    "partial_durations"
   ],
   "outputs": [
    {
     "output_type": "execute_result",
     "execution_count": 87,
     "data": {
      "text/plain": "0   -0.797430\n1    0.273048\n2   -1.053161\ndtype: float64"
     },
     "metadata": {}
    }
   ],
   "execution_count": null
  },
  {
   "cell_type": "code",
   "metadata": {
    "id": "tYKFp6OOThzy",
    "cell_id": "00050-d2ddfc79-ddd0-4caf-9038-d09ad7af6aeb",
    "deepnote_to_be_reexecuted": false,
    "source_hash": "dce84e5d",
    "execution_start": 1646497495154,
    "execution_millis": 291,
    "deepnote_cell_type": "code",
    "pycharm": {
     "name": "#%%\n"
    }
   },
   "source": [
    "mean_factor_changes = np.diff(pca.transform(df), axis=0).mean(axis=0)\n",
    "portfolio_mu = - partial_durations.T @ mean_factor_changes\n",
    "portfolio_sigma = np.sqrt(partial_durations @ (rate_sensitivities.T @ term_structure_covariance @ rate_sensitivities) @ partial_durations)"
   ],
   "outputs": [
    {
     "name": "stderr",
     "text": "/shared-libs/python3.8/py/lib/python3.8/site-packages/sklearn/utils/validation.py:1688: FutureWarning: Feature names only support names that are all strings. Got feature names with dtypes: ['float']. An error will be raised in 1.2.\n  warnings.warn(\n",
     "output_type": "stream"
    }
   ],
   "execution_count": null
  },
  {
   "cell_type": "code",
   "source": [
    "partial_durations"
   ],
   "metadata": {
    "cell_id": "af44c534-68ec-4b97-b03f-fae13214e514",
    "tags": [],
    "deepnote_to_be_reexecuted": false,
    "source_hash": "7cc889af",
    "execution_start": 1646497343841,
    "execution_millis": 7,
    "deepnote_cell_type": "code",
    "pycharm": {
     "name": "#%%\n"
    }
   },
   "outputs": [
    {
     "output_type": "execute_result",
     "execution_count": 108,
     "data": {
      "text/plain": "0   -0.797430\n1    0.273048\n2   -1.053161\ndtype: float64"
     },
     "metadata": {}
    }
   ],
   "execution_count": null
  },
  {
   "cell_type": "markdown",
   "source": [
    "Now finally -- our VaR:"
   ],
   "metadata": {
    "id": "IG05Cqe7UU93",
    "cell_id": "00051-22015008-c924-465c-83bf-b4b7b087091a",
    "deepnote_cell_type": "markdown",
    "pycharm": {
     "name": "#%% md\n"
    }
   }
  },
  {
   "cell_type": "code",
   "metadata": {
    "colab": {
     "base_uri": "https://localhost:8080/"
    },
    "id": "npxGuIryUe5g",
    "outputId": "9d18522a-d82e-4036-cbcb-a9797629a377",
    "cell_id": "00052-a6f5c388-0d8c-4352-b668-1883975b630f",
    "deepnote_to_be_reexecuted": false,
    "source_hash": "157f5887",
    "execution_start": 1646497504091,
    "execution_millis": 5,
    "deepnote_cell_type": "code",
    "pycharm": {
     "name": "#%%\n"
    }
   },
   "source": [
    "VaR = - ss.norm(portfolio_mu, portfolio_sigma).ppf(0.01)\n",
    "print(f\"VaR computed via PCA is {VaR*100:.2f}%\")"
   ],
   "outputs": [
    {
     "name": "stdout",
     "text": "VaR computed via PCA is 0.47%\n",
     "output_type": "stream"
    }
   ],
   "execution_count": null
  },
  {
   "cell_type": "code",
   "metadata": {
    "id": "lIB1__VDWf2e",
    "cell_id": "00053-19efdbef-1a1e-4fec-817b-98a967cb08e6",
    "deepnote_cell_type": "code",
    "pycharm": {
     "name": "#%%\n"
    }
   },
   "source": [],
   "outputs": [],
   "execution_count": null
  },
  {
   "cell_type": "markdown",
   "source": [
    "<a style='text-decoration:none;line-height:16px;display:flex;color:#5B5B62;padding:10px;justify-content:end;' href='https://deepnote.com?utm_source=created-in-deepnote-cell&projectId=dc69f171-f4bb-4c21-8857-3bf9aef78ad4' target=\"_blank\">\n",
    "<img alt='Created in deepnote.com' style='display:inline;max-height:16px;margin:0px;margin-right:7.5px;' src='data:image/svg+xml;base64,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' > </img>\n",
    "Created in <span style='font-weight:600;margin-left:4px;'>Deepnote</span></a>"
   ],
   "metadata": {
    "tags": [],
    "created_in_deepnote_cell": true,
    "deepnote_cell_type": "markdown",
    "pycharm": {
     "name": "#%% md\n"
    }
   }
  }
 ],
 "nbformat": 4,
 "nbformat_minor": 4,
 "metadata": {
  "colab": {
   "collapsed_sections": [],
   "name": "Market Risk 5 - Bond Portfolios.ipynb",
   "provenance": []
  },
  "kernelspec": {
   "display_name": "Python 3 (ipykernel)",
   "language": "python",
   "name": "python3"
  },
  "language_info": {
   "codemirror_mode": {
    "name": "ipython",
    "version": 3
   },
   "file_extension": ".py",
   "mimetype": "text/x-python",
   "name": "python",
   "nbconvert_exporter": "python",
   "pygments_lexer": "ipython3",
   "version": "3.9.6"
  },
  "deepnote_notebook_id": "fac1115d-7635-480e-9f88-35de7c22fd2f",
  "deepnote": {},
  "deepnote_execution_queue": []
 }
}