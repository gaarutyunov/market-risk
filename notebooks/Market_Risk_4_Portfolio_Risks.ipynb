{
 "cells": [
  {
   "cell_type": "code",
   "metadata": {
    "colab": {
     "base_uri": "https://localhost:8080/"
    },
    "id": "0XhfPtrejKhj",
    "outputId": "afb84160-f5b2-4d94-c009-297463763c33",
    "cell_id": "0f6aa4ec-5dfd-4208-b322-6e5dbc5f9ed4",
    "deepnote_to_be_reexecuted": false,
    "source_hash": "22b3f6d2",
    "execution_start": 1645462178369,
    "execution_millis": 4419,
    "deepnote_cell_type": "code",
    "pycharm": {
     "name": "#%%\n"
    }
   },
   "source": [
    "import numpy as np\n",
    "import pandas as pd\n",
    "import matplotlib.pyplot as plt\n",
    "import scipy.stats as ss\n",
    "!pip install yfinance\n",
    "import yfinance as yf"
   ],
   "execution_count": 1,
   "outputs": [
    {
     "name": "stdout",
     "output_type": "stream",
     "text": [
      "Collecting yfinance\r\n",
      "  Downloading yfinance-0.1.70-py2.py3-none-any.whl (26 kB)\r\n",
      "Collecting multitasking>=0.0.7\r\n",
      "  Downloading multitasking-0.0.10.tar.gz (8.2 kB)\r\n",
      "  Preparing metadata (setup.py) ... \u001B[?25ldone\r\n",
      "\u001B[?25hRequirement already satisfied: requests>=2.26 in /Users/germanarutunov/Projects/ftiad/venv/lib/python3.9/site-packages (from yfinance) (2.26.0)\r\n",
      "Requirement already satisfied: pandas>=0.24.0 in /Users/germanarutunov/Projects/ftiad/venv/lib/python3.9/site-packages (from yfinance) (1.3.3)\r\n",
      "Requirement already satisfied: numpy>=1.15 in /Users/germanarutunov/Projects/ftiad/venv/lib/python3.9/site-packages (from yfinance) (1.22.3)\r\n",
      "Requirement already satisfied: lxml>=4.5.1 in /Users/germanarutunov/Projects/ftiad/venv/lib/python3.9/site-packages (from yfinance) (4.6.4)\r\n",
      "Requirement already satisfied: pytz>=2017.3 in /Users/germanarutunov/Projects/ftiad/venv/lib/python3.9/site-packages (from pandas>=0.24.0->yfinance) (2021.3)\r\n",
      "Requirement already satisfied: python-dateutil>=2.7.3 in /Users/germanarutunov/Projects/ftiad/venv/lib/python3.9/site-packages (from pandas>=0.24.0->yfinance) (2.8.2)\r\n",
      "Requirement already satisfied: urllib3<1.27,>=1.21.1 in /Users/germanarutunov/Projects/ftiad/venv/lib/python3.9/site-packages (from requests>=2.26->yfinance) (1.26.7)\r\n",
      "Requirement already satisfied: idna<4,>=2.5 in /Users/germanarutunov/Projects/ftiad/venv/lib/python3.9/site-packages (from requests>=2.26->yfinance) (3.2)\r\n",
      "Requirement already satisfied: charset-normalizer~=2.0.0 in /Users/germanarutunov/Projects/ftiad/venv/lib/python3.9/site-packages (from requests>=2.26->yfinance) (2.0.6)\r\n",
      "Requirement already satisfied: certifi>=2017.4.17 in /Users/germanarutunov/Projects/ftiad/venv/lib/python3.9/site-packages (from requests>=2.26->yfinance) (2021.5.30)\r\n",
      "Requirement already satisfied: six>=1.5 in /Users/germanarutunov/Projects/ftiad/venv/lib/python3.9/site-packages (from python-dateutil>=2.7.3->pandas>=0.24.0->yfinance) (1.16.0)\r\n",
      "Building wheels for collected packages: multitasking\r\n",
      "  Building wheel for multitasking (setup.py) ... \u001B[?25ldone\r\n",
      "\u001B[?25h  Created wheel for multitasking: filename=multitasking-0.0.10-py3-none-any.whl size=8500 sha256=978e59baafc39d2951a2bc6084537717b492e5d136c954de023b6a8b685ae3d9\r\n",
      "  Stored in directory: /Users/germanarutunov/Library/Caches/pip/wheels/f2/b5/2c/59ba95dcf854e542944c75fe3da584e4e3833b319735a0546c\r\n",
      "Successfully built multitasking\r\n",
      "Installing collected packages: multitasking, yfinance\r\n",
      "Successfully installed multitasking-0.0.10 yfinance-0.1.70\r\n"
     ]
    }
   ]
  },
  {
   "cell_type": "markdown",
   "source": [
    "## Чувствительности\n",
    "Зависимость цены актива $P$ от двух риск-факторов $X,\\,Y$  моделируется функцией\n",
    "$$\n",
    "P(x,\\,y) = \\frac{x - F}{(1+y)^2},\n",
    "$$\n",
    "$F=55$. Факторы $X, Y$ нестационарны и положительны, так что имеет смысл переходить к доходностям. Текущие значения риск-факторов: $X=50,\\,y=0.05$. Найдите текущие чувствительности доходности актива к доходностям этих двух факторов.\n",
    "\n",
    "\n",
    "1. Переходим к доходностям (или разностям). Факторы риска -- доходности $\\frac{X-X_0}{X_0}$ и $\\frac{Y-Y_0}{Y_0}$. Вместо цены -- тоже доходность: $\\frac{P-P_0}{P_0}$.\n",
    "\n",
    "2. Считаем чувствительность:\n",
    "$$\n",
    "\\frac{\\partial\\left(\\frac{P(x,y)-P(x_0,y_0)}{P(x_0,y_0)}\\right)}{\\partial\\left(\\frac{x-x_0}{x_0}\\right)}=\\frac{\\partial P(x,y)}{\\partial x}\\cdot\\frac{x_0}{P(x_0,y_0)}\n",
    "$$"
   ],
   "metadata": {
    "id": "JCh1pwLSnbM7",
    "cell_id": "00001-98314969-e524-4f05-acad-daa7a19e8734",
    "deepnote_cell_type": "markdown",
    "pycharm": {
     "name": "#%% md\n"
    }
   }
  },
  {
   "cell_type": "code",
   "metadata": {
    "cell_id": "0b7ddcc5-b89b-447e-8ab9-7b69f4aea970",
    "tags": [],
    "deepnote_to_be_reexecuted": false,
    "source_hash": "cf3baa32",
    "execution_start": 1645462440264,
    "execution_millis": 3904,
    "deepnote_cell_type": "code",
    "pycharm": {
     "name": "#%%\n"
    }
   },
   "source": [
    "!pip install autograd==1.3"
   ],
   "execution_count": 2,
   "outputs": [
    {
     "name": "stdout",
     "output_type": "stream",
     "text": [
      "Requirement already satisfied: autograd==1.3 in /Users/germanarutunov/Projects/ftiad/venv/lib/python3.9/site-packages (1.3)\r\n",
      "Requirement already satisfied: future>=0.15.2 in /Users/germanarutunov/Projects/ftiad/venv/lib/python3.9/site-packages (from autograd==1.3) (0.18.2)\r\n",
      "Requirement already satisfied: numpy>=1.12 in /Users/germanarutunov/Projects/ftiad/venv/lib/python3.9/site-packages (from autograd==1.3) (1.22.3)\r\n"
     ]
    }
   ]
  },
  {
   "cell_type": "code",
   "metadata": {
    "cell_id": "00002-69323bf0-a1b9-491c-8197-b27cd7be288d",
    "deepnote_to_be_reexecuted": false,
    "source_hash": "68474ceb",
    "execution_start": 1645462446767,
    "execution_millis": 28,
    "deepnote_cell_type": "code",
    "pycharm": {
     "name": "#%%\n"
    }
   },
   "source": [
    "F = 55\n",
    "x0 = 50\n",
    "y0 = 0.05\n",
    "\n",
    "def price_asset(x, y):\n",
    "    return (x - F) / (1 + y) ** 2\n",
    "\n",
    "def return_asset(ret_x, ret_y):\n",
    "    x1 = x0 * (1 + ret_x)\n",
    "    y1 = y0 * (1 + ret_y)\n",
    "    return price_asset(x1, y1) / price_asset(x0, y0) - 1\n",
    "\n",
    "from autograd import grad\n",
    "grad(return_asset, [0, 1])(0.0, 0.0)"
   ],
   "execution_count": 3,
   "outputs": [
    {
     "data": {
      "text/plain": "(array(-10.), array(-0.0952381))"
     },
     "execution_count": 3,
     "metadata": {},
     "output_type": "execute_result"
    }
   ]
  },
  {
   "cell_type": "code",
   "metadata": {
    "cell_id": "a93e1a78-9ea3-4558-945e-ab5bb04cd8b7",
    "tags": [],
    "deepnote_to_be_reexecuted": false,
    "source_hash": "df89b6e6",
    "execution_start": 1645462293646,
    "execution_millis": 4,
    "deepnote_cell_type": "code",
    "pycharm": {
     "name": "#%%\n"
    }
   },
   "source": [
    "(50*((1+0.05)**2)/(-5))*(1/((1+0.05+0.00000001)**2))"
   ],
   "execution_count": 4,
   "outputs": [
    {
     "data": {
      "text/plain": "-9.999999809523814"
     },
     "execution_count": 4,
     "metadata": {},
     "output_type": "execute_result"
    }
   ]
  },
  {
   "cell_type": "markdown",
   "source": [
    "## Факторы\n",
    "Портфель состоит из одной акции JP Morgan Chase, двух акций Microsoft и трёх акций Pfizer. Рассматривается два риск-фактора -- индекс S&P 500 и курс евро к доллару. Временной период -- с 1 января по 31 декабря 2020 года."
   ],
   "metadata": {
    "id": "bZZK8s75qFxD",
    "cell_id": "00003-c05a064f-dafd-49b6-9384-32fe952c6b1a",
    "deepnote_cell_type": "markdown",
    "pycharm": {
     "name": "#%% md\n"
    }
   }
  },
  {
   "cell_type": "code",
   "metadata": {
    "colab": {
     "base_uri": "https://localhost:8080/"
    },
    "id": "Bz1EncBMqE1C",
    "outputId": "b4d2d558-6b3a-4f94-a97d-2e32caa3ba36",
    "cell_id": "00004-156628db-a919-4a7a-82da-8af912a2c3f3",
    "deepnote_to_be_reexecuted": false,
    "source_hash": "d7fd7ff",
    "execution_start": 1645462496178,
    "execution_millis": 3,
    "deepnote_cell_type": "code",
    "pycharm": {
     "name": "#%%\n"
    }
   },
   "source": [
    "tickers = {\n",
    "    \"JPMorgan\": \"JPM\",\n",
    "    \"Microsoft\": \"MSFT\",\n",
    "    \"Pfizer\": \"PFE\",\n",
    "    \"SnP\": \"^GSPC\",\n",
    "    \"FX\": \"EURUSD=X\"\n",
    "}\n",
    "portfolio = {\n",
    "    \"JPMorgan\": 1,\n",
    "    \"Microsoft\": 2,\n",
    "    \"Pfizer\": 3\n",
    "}\n",
    "factors = [\"SnP\", \"FX\"]\n",
    "portfolio_composition = pd.Series(portfolio)\n",
    "portfolio_composition"
   ],
   "execution_count": 5,
   "outputs": [
    {
     "data": {
      "text/plain": "JPMorgan     1\nMicrosoft    2\nPfizer       3\ndtype: int64"
     },
     "execution_count": 5,
     "metadata": {},
     "output_type": "execute_result"
    }
   ]
  },
  {
   "cell_type": "code",
   "metadata": {
    "colab": {
     "base_uri": "https://localhost:8080/",
     "height": 795
    },
    "id": "3vnTj2owqzEU",
    "outputId": "505550a7-8e5a-47ce-a03f-f0e7fb9f9635",
    "cell_id": "00005-e4a447e8-6386-4fed-ae3b-ec2465387452",
    "deepnote_to_be_reexecuted": false,
    "source_hash": "a104b45d",
    "execution_start": 1645462522953,
    "execution_millis": 1666,
    "deepnote_cell_type": "code",
    "pycharm": {
     "name": "#%%\n"
    }
   },
   "source": [
    "quote_data = pd.DataFrame(\n",
    "    {\n",
    "        factor: yf.download(ticker, \"2020-01-01\", \"2020-12-31\")['Adj Close']\n",
    "        for factor, ticker in tickers.items()\n",
    "    }\n",
    ")\n",
    "quote_data.dropna(inplace=True)\n",
    "quote_data.plot()\n",
    "quote_data"
   ],
   "execution_count": 6,
   "outputs": [
    {
     "name": "stdout",
     "output_type": "stream",
     "text": [
      "[*********************100%***********************]  1 of 1 completed\n",
      "[*********************100%***********************]  1 of 1 completed\n",
      "[*********************100%***********************]  1 of 1 completed\n",
      "[*********************100%***********************]  1 of 1 completed\n",
      "[*********************100%***********************]  1 of 1 completed\n"
     ]
    },
    {
     "data": {
      "text/plain": "              JPMorgan   Microsoft     Pfizer          SnP        FX\nDate                                                                \n2019-12-31  129.478256  154.430435  34.109665  3230.780029  1.120230\n2020-01-02  131.047989  157.289856  34.074844  3257.850098  1.122083\n2020-01-03  129.318604  155.331345  33.892025  3234.850098  1.117144\n2020-01-06  129.215805  155.732864  33.848488  3246.280029  1.116196\n2020-01-07  127.019043  154.312912  33.735317  3237.179932  1.119799\n...                ...         ...        ...          ...       ...\n2020-12-23  120.386833  218.730469  35.758362  3690.010010  1.218665\n2020-12-24  119.857414  220.442535  35.595997  3703.060059  1.219141\n2020-12-28  120.646706  222.629669  35.166210  3735.360107  1.220510\n2020-12-29  120.329079  221.828049  35.385880  3727.040039  1.222345\n2020-12-30  120.665970  219.383621  35.089802  3732.040039  1.225295\n\n[253 rows x 5 columns]",
      "text/html": "<div>\n<style scoped>\n    .dataframe tbody tr th:only-of-type {\n        vertical-align: middle;\n    }\n\n    .dataframe tbody tr th {\n        vertical-align: top;\n    }\n\n    .dataframe thead th {\n        text-align: right;\n    }\n</style>\n<table border=\"1\" class=\"dataframe\">\n  <thead>\n    <tr style=\"text-align: right;\">\n      <th></th>\n      <th>JPMorgan</th>\n      <th>Microsoft</th>\n      <th>Pfizer</th>\n      <th>SnP</th>\n      <th>FX</th>\n    </tr>\n    <tr>\n      <th>Date</th>\n      <th></th>\n      <th></th>\n      <th></th>\n      <th></th>\n      <th></th>\n    </tr>\n  </thead>\n  <tbody>\n    <tr>\n      <th>2019-12-31</th>\n      <td>129.478256</td>\n      <td>154.430435</td>\n      <td>34.109665</td>\n      <td>3230.780029</td>\n      <td>1.120230</td>\n    </tr>\n    <tr>\n      <th>2020-01-02</th>\n      <td>131.047989</td>\n      <td>157.289856</td>\n      <td>34.074844</td>\n      <td>3257.850098</td>\n      <td>1.122083</td>\n    </tr>\n    <tr>\n      <th>2020-01-03</th>\n      <td>129.318604</td>\n      <td>155.331345</td>\n      <td>33.892025</td>\n      <td>3234.850098</td>\n      <td>1.117144</td>\n    </tr>\n    <tr>\n      <th>2020-01-06</th>\n      <td>129.215805</td>\n      <td>155.732864</td>\n      <td>33.848488</td>\n      <td>3246.280029</td>\n      <td>1.116196</td>\n    </tr>\n    <tr>\n      <th>2020-01-07</th>\n      <td>127.019043</td>\n      <td>154.312912</td>\n      <td>33.735317</td>\n      <td>3237.179932</td>\n      <td>1.119799</td>\n    </tr>\n    <tr>\n      <th>...</th>\n      <td>...</td>\n      <td>...</td>\n      <td>...</td>\n      <td>...</td>\n      <td>...</td>\n    </tr>\n    <tr>\n      <th>2020-12-23</th>\n      <td>120.386833</td>\n      <td>218.730469</td>\n      <td>35.758362</td>\n      <td>3690.010010</td>\n      <td>1.218665</td>\n    </tr>\n    <tr>\n      <th>2020-12-24</th>\n      <td>119.857414</td>\n      <td>220.442535</td>\n      <td>35.595997</td>\n      <td>3703.060059</td>\n      <td>1.219141</td>\n    </tr>\n    <tr>\n      <th>2020-12-28</th>\n      <td>120.646706</td>\n      <td>222.629669</td>\n      <td>35.166210</td>\n      <td>3735.360107</td>\n      <td>1.220510</td>\n    </tr>\n    <tr>\n      <th>2020-12-29</th>\n      <td>120.329079</td>\n      <td>221.828049</td>\n      <td>35.385880</td>\n      <td>3727.040039</td>\n      <td>1.222345</td>\n    </tr>\n    <tr>\n      <th>2020-12-30</th>\n      <td>120.665970</td>\n      <td>219.383621</td>\n      <td>35.089802</td>\n      <td>3732.040039</td>\n      <td>1.225295</td>\n    </tr>\n  </tbody>\n</table>\n<p>253 rows × 5 columns</p>\n</div>"
     },
     "execution_count": 6,
     "metadata": {},
     "output_type": "execute_result"
    },
    {
     "data": {
      "text/plain": "<Figure size 432x288 with 1 Axes>",
      "image/png": "[encoded data removed]"
     },
     "metadata": {},
     "output_type": "display_data"
    }
   ]
  },
  {
   "cell_type": "code",
   "metadata": {
    "colab": {
     "base_uri": "https://localhost:8080/",
     "height": 294
    },
    "id": "GLt-QJXfrUfy",
    "outputId": "a64b832a-4682-42ce-87e4-87389c689c77",
    "cell_id": "00006-720d19b4-d606-4546-8647-210f8489c44c",
    "deepnote_to_be_reexecuted": false,
    "source_hash": "4bfbee5a",
    "execution_start": 1645462538810,
    "execution_millis": 335,
    "deepnote_cell_type": "code",
    "pycharm": {
     "name": "#%%\n"
    }
   },
   "source": [
    "returns = quote_data.pct_change().dropna()\n",
    "returns.plot()"
   ],
   "execution_count": 7,
   "outputs": [
    {
     "data": {
      "text/plain": "<AxesSubplot:xlabel='Date'>"
     },
     "execution_count": 7,
     "metadata": {},
     "output_type": "execute_result"
    },
    {
     "data": {
      "text/plain": "<Figure size 432x288 with 1 Axes>",
      "image/png": "[encoded data removed]"
     },
     "metadata": {},
     "output_type": "display_data"
    }
   ]
  },
  {
   "cell_type": "code",
   "metadata": {
    "colab": {
     "base_uri": "https://localhost:8080/",
     "height": 465
    },
    "id": "S632a0dXraJ7",
    "outputId": "057bad17-871e-4184-a433-bb123651179b",
    "cell_id": "00007-8e701fb5-2920-4b91-b580-a81258e953fe",
    "deepnote_to_be_reexecuted": false,
    "source_hash": "44d7920f",
    "execution_start": 1645464472753,
    "execution_millis": 4,
    "deepnote_cell_type": "code",
    "pycharm": {
     "name": "#%%\n"
    }
   },
   "source": [
    "from statsmodels.formula.api import ols\n",
    "ols(\"Microsoft ~ SnP + FX - 1\", returns).fit().summary()"
   ],
   "execution_count": 8,
   "outputs": [
    {
     "data": {
      "text/plain": "<class 'statsmodels.iolib.summary.Summary'>\n\"\"\"\n                                 OLS Regression Results                                \n=======================================================================================\nDep. Variable:              Microsoft   R-squared (uncentered):                   0.774\nModel:                            OLS   Adj. R-squared (uncentered):              0.772\nMethod:                 Least Squares   F-statistic:                              427.0\nDate:                Sun, 24 Apr 2022   Prob (F-statistic):                    2.36e-81\nTime:                        21:39:08   Log-Likelihood:                          733.31\nNo. Observations:                 252   AIC:                                     -1463.\nDf Residuals:                     250   BIC:                                     -1456.\nDf Model:                           2                                                  \nCovariance Type:            nonrobust                                                  \n==============================================================================\n                 coef    std err          t      P>|t|      [0.025      0.975]\n------------------------------------------------------------------------------\nSnP            1.1248      0.039     29.191      0.000       1.049       1.201\nFX            -0.1589      0.175     -0.906      0.366      -0.504       0.186\n==============================================================================\nOmnibus:                        6.616   Durbin-Watson:                   1.888\nProb(Omnibus):                  0.037   Jarque-Bera (JB):                7.492\nSkew:                           0.251   Prob(JB):                       0.0236\nKurtosis:                       3.680   Cond. No.                         4.57\n==============================================================================\n\nNotes:\n[1] R² is computed without centering (uncentered) since the model does not contain a constant.\n[2] Standard Errors assume that the covariance matrix of the errors is correctly specified.\n\"\"\"",
      "text/html": "<table class=\"simpletable\">\n<caption>OLS Regression Results</caption>\n<tr>\n  <th>Dep. Variable:</th>        <td>Microsoft</td>    <th>  R-squared (uncentered):</th>      <td>   0.774</td>\n</tr>\n<tr>\n  <th>Model:</th>                   <td>OLS</td>       <th>  Adj. R-squared (uncentered):</th> <td>   0.772</td>\n</tr>\n<tr>\n  <th>Method:</th>             <td>Least Squares</td>  <th>  F-statistic:       </th>          <td>   427.0</td>\n</tr>\n<tr>\n  <th>Date:</th>             <td>Sun, 24 Apr 2022</td> <th>  Prob (F-statistic):</th>          <td>2.36e-81</td>\n</tr>\n<tr>\n  <th>Time:</th>                 <td>21:39:08</td>     <th>  Log-Likelihood:    </th>          <td>  733.31</td>\n</tr>\n<tr>\n  <th>No. Observations:</th>      <td>   252</td>      <th>  AIC:               </th>          <td>  -1463.</td>\n</tr>\n<tr>\n  <th>Df Residuals:</th>          <td>   250</td>      <th>  BIC:               </th>          <td>  -1456.</td>\n</tr>\n<tr>\n  <th>Df Model:</th>              <td>     2</td>      <th>                     </th>              <td> </td>   \n</tr>\n<tr>\n  <th>Covariance Type:</th>      <td>nonrobust</td>    <th>                     </th>              <td> </td>   \n</tr>\n</table>\n<table class=\"simpletable\">\n<tr>\n   <td></td>      <th>coef</th>     <th>std err</th>      <th>t</th>      <th>P>|t|</th>  <th>[0.025</th>    <th>0.975]</th>  \n</tr>\n<tr>\n  <th>SnP</th> <td>    1.1248</td> <td>    0.039</td> <td>   29.191</td> <td> 0.000</td> <td>    1.049</td> <td>    1.201</td>\n</tr>\n<tr>\n  <th>FX</th>  <td>   -0.1589</td> <td>    0.175</td> <td>   -0.906</td> <td> 0.366</td> <td>   -0.504</td> <td>    0.186</td>\n</tr>\n</table>\n<table class=\"simpletable\">\n<tr>\n  <th>Omnibus:</th>       <td> 6.616</td> <th>  Durbin-Watson:     </th> <td>   1.888</td>\n</tr>\n<tr>\n  <th>Prob(Omnibus):</th> <td> 0.037</td> <th>  Jarque-Bera (JB):  </th> <td>   7.492</td>\n</tr>\n<tr>\n  <th>Skew:</th>          <td> 0.251</td> <th>  Prob(JB):          </th> <td>  0.0236</td>\n</tr>\n<tr>\n  <th>Kurtosis:</th>      <td> 3.680</td> <th>  Cond. No.          </th> <td>    4.57</td>\n</tr>\n</table><br/><br/>Notes:<br/>[1] R² is computed without centering (uncentered) since the model does not contain a constant.<br/>[2] Standard Errors assume that the covariance matrix of the errors is correctly specified."
     },
     "execution_count": 8,
     "metadata": {},
     "output_type": "execute_result"
    }
   ]
  },
  {
   "cell_type": "markdown",
   "source": [
    "### Найдите чувствительности всех инструментов ко всем риск-факторам\n",
    "(hint: `statsmodels.api` might be better suited for the task)"
   ],
   "metadata": {
    "cell_id": "00008-f061a1d6-1728-4d76-98c6-2a2e88280cd9",
    "deepnote_cell_type": "markdown",
    "pycharm": {
     "name": "#%% md\n"
    }
   }
  },
  {
   "cell_type": "code",
   "metadata": {
    "cell_id": "00009-1915aebe-8a14-41ca-8583-0fa7a27012a6",
    "deepnote_to_be_reexecuted": false,
    "source_hash": "12eaf664",
    "execution_start": 1645463297646,
    "execution_millis": 40,
    "deepnote_cell_type": "code",
    "pycharm": {
     "name": "#%%\n"
    }
   },
   "source": [
    "df = pd.DataFrame()\n",
    "for key in portfolio.keys():\n",
    "    model = ols(f\"{key} ~ SnP + FX - 1\", returns).fit()\n",
    "    df[key] = model.params\n",
    "df=df.T\n"
   ],
   "execution_count": 9,
   "outputs": []
  },
  {
   "cell_type": "markdown",
   "source": [
    "### Найдите VaR на уровне 99% дельта-нормальным методом по этому портфелю"
   ],
   "metadata": {
    "id": "YmvJt1B9sfD5",
    "cell_id": "00010-06594260-3b1e-4f5a-ab12-01a6de70f962",
    "deepnote_cell_type": "markdown",
    "pycharm": {
     "name": "#%% md\n"
    }
   }
  },
  {
   "cell_type": "code",
   "metadata": {
    "cell_id": "00011-979346b0-7e6d-4dfe-bcb8-a8afb9390c9e",
    "deepnote_to_be_reexecuted": false,
    "source_hash": "95000c44",
    "execution_start": 1645466173684,
    "execution_millis": 18,
    "deepnote_cell_type": "code",
    "pycharm": {
     "name": "#%%\n"
    }
   },
   "source": [
    "current_stock_prices = quote_data[portfolio_composition.index].loc[quote_data.index.max()]\n",
    "print(current_stock_prices)\n",
    "\n",
    "# Относительные расчёты (единицы измерения -- процентные доли в портфеле и проценты доходности)\n",
    "\n",
    "portfolio_price = portfolio_composition @ current_stock_prices\n",
    "portfolio_weights = (portfolio_composition * current_stock_prices) / portfolio_price\n",
    "\n",
    "print(portfolio_weights)\n",
    "portfolio_sensitivities = portfolio_weights @ df\n",
    "portfolio_sensitivities\n"
   ],
   "execution_count": 10,
   "outputs": [
    {
     "name": "stdout",
     "output_type": "stream",
     "text": [
      "JPMorgan     120.665970\n",
      "Microsoft    219.383621\n",
      "Pfizer        35.089802\n",
      "Name: 2020-12-30 00:00:00, dtype: float64\n",
      "JPMorgan     0.181534\n",
      "Microsoft    0.660096\n",
      "Pfizer       0.158371\n",
      "dtype: float64\n"
     ]
    },
    {
     "data": {
      "text/plain": "SnP    1.084973\nFX    -0.209001\ndtype: float64"
     },
     "execution_count": 10,
     "metadata": {},
     "output_type": "execute_result"
    }
   ]
  },
  {
   "cell_type": "code",
   "metadata": {
    "cell_id": "52ed65d9-358b-4f45-970b-c1ad6f04bcf1",
    "tags": [],
    "deepnote_to_be_reexecuted": false,
    "source_hash": "ba937319",
    "execution_start": 1645466087496,
    "execution_millis": 6,
    "deepnote_cell_type": "code",
    "pycharm": {
     "name": "#%%\n"
    }
   },
   "source": [
    "# Абсолютные расчёты: единицы измерения -- доллары и штуки акций\n",
    "portfolio_dollar_composition = portfolio_composition * current_stock_prices\n",
    "print(portfolio_dollar_composition)\n",
    "\n",
    "portfolio_dollar_sensitivities = portfolio_dollar_composition @ df\n",
    "portfolio_dollar_sensitivities"
   ],
   "execution_count": 11,
   "outputs": [
    {
     "name": "stdout",
     "output_type": "stream",
     "text": [
      "JPMorgan     120.665970\n",
      "Microsoft    438.767242\n",
      "Pfizer       105.269405\n",
      "dtype: float64\n"
     ]
    },
    {
     "data": {
      "text/plain": "SnP    721.184148\nFX    -138.923190\ndtype: float64"
     },
     "execution_count": 11,
     "metadata": {},
     "output_type": "execute_result"
    }
   ]
  },
  {
   "cell_type": "code",
   "metadata": {
    "cell_id": "cd5d5895-f234-449e-8fde-8fbdca93f418",
    "tags": [],
    "deepnote_to_be_reexecuted": false,
    "source_hash": "36c5a2e0",
    "execution_start": 1645466186863,
    "execution_millis": 1,
    "deepnote_cell_type": "code",
    "pycharm": {
     "name": "#%%\n"
    }
   },
   "source": [
    "w = portfolio_sensitivities"
   ],
   "execution_count": 12,
   "outputs": []
  },
  {
   "cell_type": "code",
   "metadata": {
    "cell_id": "a4a4f399-0af7-4bbb-975c-0153aacdcce3",
    "tags": [],
    "deepnote_to_be_reexecuted": false,
    "source_hash": "56a3af31",
    "execution_start": 1645466198558,
    "execution_millis": 6,
    "deepnote_cell_type": "code",
    "pycharm": {
     "name": "#%%\n"
    }
   },
   "source": [
    "w.T @ returns[['SnP', 'FX']].cov() @ w"
   ],
   "execution_count": 13,
   "outputs": [
    {
     "data": {
      "text/plain": "0.0005533120151891114"
     },
     "execution_count": 13,
     "metadata": {},
     "output_type": "execute_result"
    }
   ]
  },
  {
   "cell_type": "code",
   "metadata": {
    "cell_id": "b1f237d4-ebbb-4127-a7f3-bf11d79f83d4",
    "tags": [],
    "deepnote_to_be_reexecuted": false,
    "source_hash": "b58d983b",
    "execution_start": 1645466198564,
    "execution_millis": 6,
    "deepnote_cell_type": "code",
    "pycharm": {
     "name": "#%%\n"
    }
   },
   "source": [
    "ss.norm.ppf(0.99)"
   ],
   "execution_count": 14,
   "outputs": [
    {
     "data": {
      "text/plain": "2.3263478740408408"
     },
     "execution_count": 14,
     "metadata": {},
     "output_type": "execute_result"
    }
   ]
  },
  {
   "cell_type": "code",
   "metadata": {
    "cell_id": "50234b63-bdcd-4d4b-9037-59fce3625ad9",
    "tags": [],
    "deepnote_to_be_reexecuted": false,
    "source_hash": "5e62d9b9",
    "execution_start": 1645466198573,
    "execution_millis": 9,
    "deepnote_cell_type": "code",
    "pycharm": {
     "name": "#%%\n"
    }
   },
   "source": [
    "np.sqrt(w.T @ returns[['SnP', 'FX']].cov() @ w)*ss.norm.ppf(0.99)"
   ],
   "execution_count": 15,
   "outputs": [
    {
     "data": {
      "text/plain": "0.05472171610647281"
     },
     "execution_count": 15,
     "metadata": {},
     "output_type": "execute_result"
    }
   ]
  },
  {
   "cell_type": "code",
   "metadata": {
    "cell_id": "2c7ff146-d89b-41c1-af56-346f72420e6c",
    "tags": [],
    "deepnote_to_be_reexecuted": false,
    "source_hash": "cad303f5",
    "execution_start": 1645466222908,
    "execution_millis": 10,
    "deepnote_cell_type": "code",
    "pycharm": {
     "name": "#%%\n"
    }
   },
   "source": [
    "np.sqrt(w.T @ returns[['SnP', 'FX']].cov() @ w)*ss.norm.ppf(0.99) * portfolio_price"
   ],
   "execution_count": 16,
   "outputs": [
    {
     "data": {
      "text/plain": "36.37366793801346"
     },
     "execution_count": 16,
     "metadata": {},
     "output_type": "execute_result"
    }
   ]
  },
  {
   "cell_type": "markdown",
   "source": [
    "### Найдите VaR на уровне 99% по этому портфелю историческим методом"
   ],
   "metadata": {
    "id": "-GppsD0buWp1",
    "cell_id": "00012-04de1bb7-1a80-4d24-8ffe-333e13ec923b",
    "deepnote_cell_type": "markdown",
    "pycharm": {
     "name": "#%% md\n"
    }
   }
  },
  {
   "cell_type": "code",
   "metadata": {
    "cell_id": "00013-cf823e2b-96a1-443e-80e1-78acfd0e0b60",
    "deepnote_to_be_reexecuted": false,
    "source_hash": "5f2c14a6",
    "execution_start": 1645464105277,
    "execution_millis": 1,
    "deepnote_cell_type": "code",
    "pycharm": {
     "name": "#%%\n"
    }
   },
   "source": [
    "def calculate_VaR_HS(returns, alpha):\n",
    "    return -np.percentile(returns.values, (1 - alpha) * 100, method=\"inverted_cdf\")\n"
   ],
   "execution_count": 17,
   "outputs": []
  },
  {
   "cell_type": "code",
   "metadata": {
    "cell_id": "0807c815-35d6-4519-a876-2ed91c19db97",
    "tags": [],
    "deepnote_to_be_reexecuted": false,
    "source_hash": "8c136663",
    "execution_start": 1645464111141,
    "execution_millis": 9,
    "deepnote_cell_type": "code",
    "pycharm": {
     "name": "#%%\n"
    }
   },
   "source": [
    "calculate_VaR_HS(returns[factors] @ w, 0.99)"
   ],
   "execution_count": 18,
   "outputs": [
    {
     "data": {
      "text/plain": "0.08544484876789736"
     },
     "execution_count": 18,
     "metadata": {},
     "output_type": "execute_result"
    }
   ]
  },
  {
   "cell_type": "markdown",
   "source": [
    "## Задача хеджирования\n",
    "Дано: чувствительность доходности портфеля: 0.5 к S&P и -0.3 к нефти.\n",
    "\n",
    "2 хеджирующих инструмента: фьючерс на S&P: чувствительность к S&P -- 1.04, фьючерс на нефть: чувствительность к индексу -0.1 и к нефти 0.95.\n",
    "\n",
    "Найти состав хеджирующего портфеля: $x$ фьючерсов на S&P и $y$ фьючерсов на нефть."
   ],
   "metadata": {
    "id": "0hZCzY2cwOmy",
    "cell_id": "00014-993aae0e-6be6-4649-bc17-5dc2196b5da6",
    "deepnote_cell_type": "markdown",
    "pycharm": {
     "name": "#%% md\n"
    }
   }
  },
  {
   "cell_type": "markdown",
   "source": [
    "$$\n",
    "\\begin{cases}\n",
    "0.5 + 1.04x - 0.1y = 0\\\\\n",
    "-0.3 + 0.95y=0\n",
    "\\end{cases},\n",
    "$$\n",
    "$$x, y - \\text{доли стоимости активов}$$"
   ],
   "metadata": {
    "cell_id": "02666e48-9e9b-4a65-8a76-04572eef8934",
    "tags": [],
    "deepnote_cell_type": "markdown",
    "pycharm": {
     "name": "#%% md\n"
    }
   }
  },
  {
   "cell_type": "markdown",
   "source": [],
   "metadata": {
    "collapsed": false,
    "pycharm": {
     "name": "#%% md\n"
    }
   }
  },
  {
   "cell_type": "code",
   "metadata": {
    "cell_id": "00015-f06de71f-7bed-4090-8f3e-0735bc4acb37",
    "deepnote_cell_type": "code",
    "pycharm": {
     "name": "#%%\n"
    }
   },
   "source": [],
   "execution_count": 18,
   "outputs": []
  },
  {
   "cell_type": "markdown",
   "source": [
    "### А теперь то же самое, но в штуках\n",
    "Пусть портфель стоит 10 млн, а номиналы обоих фьючерсов -- по 100 тыс.\n",
    "\n",
    "Дано: чувствительность цены портфеля в млн. долларов: 5 к S&P и -3 к нефти.\n",
    "\n",
    "2 хеджирующих инструмента: фьючерс на S&P: чувствительность к S&P -- 104,000 долларов, фьючерс на нефть: чувствительность к индексу -10,000 долларов и к нефти 95,000 долларов.\n",
    "\n",
    "Найти состав хеджирующего портфеля: $x$ фьючерсов на S&P и $y$ фьючерсов на нефть."
   ],
   "metadata": {
    "id": "6emzVjFeyVXU",
    "cell_id": "00016-fb6ea20d-d544-427e-b05a-776e9131ffa4",
    "deepnote_cell_type": "markdown",
    "pycharm": {
     "name": "#%% md\n"
    }
   }
  },
  {
   "cell_type": "code",
   "metadata": {
    "cell_id": "00017-fabf6bb3-248c-4468-a215-6fab1b02a854",
    "deepnote_cell_type": "code",
    "pycharm": {
     "name": "#%%\n"
    }
   },
   "source": [],
   "execution_count": 18,
   "outputs": []
  },
  {
   "cell_type": "markdown",
   "source": [
    "## Хеджирование\n",
    "Портфель имеет чувствительности в 15 млн и 20 млн к риск-факторам A и B.\n",
    "Дана матрица ковариаций доходностей факторов A и B:\n",
    "\n",
    "| |A|B|\n",
    "|:-|:-:|:-:|\n",
    "|A|0.01|0.005|\n",
    "|B|0.005|0.03|\n",
    "\n",
    "VaR на уровне 99% оценивают дельта-нормальным методом. Лимит на VaR равен 5 млн. Захеджировать портфель инструментом с чувствительностями 1 млн и -2 млн соответственно -- так, чтобы уложиться в лимит."
   ],
   "metadata": {
    "id": "3xIw6pZc0MYf",
    "cell_id": "00018-08250862-a73d-409c-b284-3b18b2531b28",
    "deepnote_cell_type": "markdown",
    "pycharm": {
     "name": "#%% md\n"
    }
   }
  },
  {
   "cell_type": "code",
   "metadata": {
    "cell_id": "00019-f71c0bee-0858-4588-8647-ceac355718a2",
    "deepnote_to_be_reexecuted": false,
    "source_hash": "a2c737ef",
    "execution_start": 1645465793433,
    "execution_millis": 7,
    "deepnote_cell_type": "code",
    "pycharm": {
     "name": "#%%\n"
    }
   },
   "source": [
    "ab = pd.DataFrame([[0.01, 0.005],[0.005, 0.03]], columns = [\"A\", \"B\"], index = [\"A\", \"B\"])\n",
    "w = np.array([15,20])\n",
    "a = np.array([1,-2])\n",
    "x= -(a.T @ ab @ w)/(a.T @ ab @ a)\n",
    "x"
   ],
   "execution_count": 19,
   "outputs": [
    {
     "data": {
      "text/plain": "10.0"
     },
     "execution_count": 19,
     "metadata": {},
     "output_type": "execute_result"
    }
   ]
  },
  {
   "cell_type": "markdown",
   "source": [
    "Пусть $s$ -- вектор чувствительностей портфеля, $a$ -- чувствительности инструмента, $x$ -- количество инструмента в хеджирующем портфеле.\n",
    "$$\n",
    "\\sigma^2=(s + a\\cdot x)^T\\Sigma(s+a\\cdot x)\\to\\min\n",
    "$$\n",
    "$$\n",
    "a^T\\Sigma a\\cdot x^2 + 2a^T\\Sigma s \\cdot x\\to\\min\n",
    "$$\n",
    "$$\n",
    "x = -\\frac{a^T\\Sigma s}{a^T\\Sigma a}\n",
    "$$"
   ],
   "metadata": {
    "id": "70_Wxb811lCH",
    "cell_id": "00020-5609282b-697a-4c16-9a5e-673d01e174cc",
    "deepnote_cell_type": "markdown",
    "pycharm": {
     "name": "#%% md\n"
    }
   }
  },
  {
   "cell_type": "code",
   "metadata": {
    "cell_id": "00021-2880d590-e16b-4917-9bd9-6c7ee7a7b250",
    "deepnote_cell_type": "code",
    "pycharm": {
     "name": "#%%\n"
    }
   },
   "source": [],
   "execution_count": 19,
   "outputs": []
  },
  {
   "cell_type": "markdown",
   "source": [
    "### Дюрация\n",
    "$$\\frac{\\partial P}{\\partial \\Delta r}=-D\\cdot P$$"
   ],
   "metadata": {
    "id": "bII1RksD3-eO",
    "cell_id": "00022-fb15f4fc-6963-45ed-a8ed-8819d21da84b",
    "deepnote_cell_type": "markdown",
    "pycharm": {
     "name": "#%% md\n"
    }
   }
  },
  {
   "cell_type": "markdown",
   "source": [
    "<a style='text-decoration:none;line-height:16px;display:flex;color:#5B5B62;padding:10px;justify-content:end;' href='https://deepnote.com?utm_source=created-in-deepnote-cell&projectId=dc69f171-f4bb-4c21-8857-3bf9aef78ad4' target=\"_blank\">\n",
    "<img alt='Created in deepnote.com' style='display:inline;max-height:16px;margin:0px;margin-right:7.5px;' src='data:image/svg+xml;base64,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' > </img>\n",
    "Created in <span style='font-weight:600;margin-left:4px;'>Deepnote</span></a>"
   ],
   "metadata": {
    "tags": [],
    "created_in_deepnote_cell": true,
    "deepnote_cell_type": "markdown",
    "pycharm": {
     "name": "#%% md\n"
    }
   }
  }
 ],
 "nbformat": 4,
 "nbformat_minor": 4,
 "metadata": {
  "colab": {
   "collapsed_sections": [],
   "name": "Market Risk 4 - Portfolio Risks.ipynb",
   "provenance": []
  },
  "kernelspec": {
   "display_name": "Python 3 (ipykernel)",
   "language": "python",
   "name": "python3"
  },
  "language_info": {
   "codemirror_mode": {
    "name": "ipython",
    "version": 3
   },
   "file_extension": ".py",
   "mimetype": "text/x-python",
   "name": "python",
   "nbconvert_exporter": "python",
   "pygments_lexer": "ipython3",
   "version": "3.9.6"
  },
  "deepnote_notebook_id": "69d043d0-c5c5-4fcc-9082-c7d6f2b7aafa",
  "deepnote": {},
  "deepnote_execution_queue": []
 }
}