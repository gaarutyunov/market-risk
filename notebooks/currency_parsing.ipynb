{
 "cells": [
  {
   "cell_type": "code",
   "execution_count": null,
   "metadata": {
    "collapsed": true,
    "pycharm": {
     "name": "#%%\n"
    }
   },
   "outputs": [],
   "source": [
    "from datetime import date\n",
    "from pathlib import Path\n",
    "\n",
    "import aiohttp\n",
    "import aiomoex\n",
    "import pandas as pd\n",
    "from aiomoex import client\n",
    "from aiomoex.request_helpers import make_url, get_table, make_query\n",
    "import datatable as dt\n",
    "from datatable import f\n",
    "\n",
    "from glob import glob\n",
    "\n",
    "__CURRENCIES_FOLDER__ = Path('..', 'data', 'currencies')\n",
    "\n",
    "from parsing.currencies import get_currencies_history, __SELECTED__CURRENCIES__"
   ]
  },
  {
   "cell_type": "code",
   "execution_count": null,
   "outputs": [],
   "source": [
    "for security in __SELECTED__CURRENCIES__:\n",
    "    url = make_url(engine=\"currency\", market=\"selt\", board=\"CETS\", security=security, history=True)\n",
    "    query = make_query(start='2016-01-01', end='2022-01-01')\n",
    "\n",
    "    async with aiohttp.ClientSession() as session:\n",
    "        iss = client.ISSClient(session, url, query)\n",
    "\n",
    "        data = await iss.get_all()\n",
    "        history = get_table(data, \"history\")\n",
    "        if len(history) == 0:\n",
    "            continue\n",
    "\n",
    "        bond_df = pd.DataFrame(history)\n",
    "        bond_df.to_csv(str(__CURRENCIES_FOLDER__.joinpath('history', security + '.csv')), header=True, index=False)\n"
   ],
   "metadata": {
    "collapsed": false,
    "pycharm": {
     "name": "#%%\n"
    }
   }
  },
  {
   "cell_type": "code",
   "execution_count": null,
   "outputs": [],
   "source": [
    "DT = get_currencies_history()"
   ],
   "metadata": {
    "collapsed": false,
    "pycharm": {
     "name": "#%%\n"
    }
   }
  }
 ],
 "metadata": {
  "kernelspec": {
   "display_name": "Python 3",
   "language": "python",
   "name": "python3"
  },
  "language_info": {
   "codemirror_mode": {
    "name": "ipython",
    "version": 2
   },
   "file_extension": ".py",
   "mimetype": "text/x-python",
   "name": "python",
   "nbconvert_exporter": "python",
   "pygments_lexer": "ipython2",
   "version": "2.7.6"
  }
 },
 "nbformat": 4,
 "nbformat_minor": 0
}