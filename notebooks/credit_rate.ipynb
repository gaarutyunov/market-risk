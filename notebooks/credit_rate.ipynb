{
 "cells": [
  {
   "cell_type": "code",
   "execution_count": 1,
   "outputs": [],
   "source": [
    "from parsing.rates import get_credit_rates"
   ],
   "metadata": {
    "collapsed": false,
    "pycharm": {
     "name": "#%%\n"
    }
   }
  },
  {
   "cell_type": "code",
   "execution_count": 2,
   "outputs": [
    {
     "data": {
      "text/plain": "            rate\n2021-12-30   8.5\n2021-12-29   8.5\n2021-12-28   8.5\n2021-12-27   8.5\n2021-12-24   8.5\n...          ...\n2016-01-14  11.0\n2016-01-13  11.0\n2016-12-01  11.0\n2016-11-01  11.0\n2016-01-01  11.0\n\n[1494 rows x 1 columns]",
      "text/html": "<div>\n<style scoped>\n    .dataframe tbody tr th:only-of-type {\n        vertical-align: middle;\n    }\n\n    .dataframe tbody tr th {\n        vertical-align: top;\n    }\n\n    .dataframe thead th {\n        text-align: right;\n    }\n</style>\n<table border=\"1\" class=\"dataframe\">\n  <thead>\n    <tr style=\"text-align: right;\">\n      <th></th>\n      <th>rate</th>\n    </tr>\n  </thead>\n  <tbody>\n    <tr>\n      <th>2021-12-30</th>\n      <td>8.5</td>\n    </tr>\n    <tr>\n      <th>2021-12-29</th>\n      <td>8.5</td>\n    </tr>\n    <tr>\n      <th>2021-12-28</th>\n      <td>8.5</td>\n    </tr>\n    <tr>\n      <th>2021-12-27</th>\n      <td>8.5</td>\n    </tr>\n    <tr>\n      <th>2021-12-24</th>\n      <td>8.5</td>\n    </tr>\n    <tr>\n      <th>...</th>\n      <td>...</td>\n    </tr>\n    <tr>\n      <th>2016-01-14</th>\n      <td>11.0</td>\n    </tr>\n    <tr>\n      <th>2016-01-13</th>\n      <td>11.0</td>\n    </tr>\n    <tr>\n      <th>2016-12-01</th>\n      <td>11.0</td>\n    </tr>\n    <tr>\n      <th>2016-11-01</th>\n      <td>11.0</td>\n    </tr>\n    <tr>\n      <th>2016-01-01</th>\n      <td>11.0</td>\n    </tr>\n  </tbody>\n</table>\n<p>1494 rows × 1 columns</p>\n</div>"
     },
     "execution_count": 2,
     "metadata": {},
     "output_type": "execute_result"
    }
   ],
   "source": [
    "df = get_credit_rates()\n",
    "df"
   ],
   "metadata": {
    "collapsed": false,
    "pycharm": {
     "name": "#%%\n"
    }
   }
  },
  {
   "cell_type": "code",
   "execution_count": 2,
   "outputs": [],
   "source": [],
   "metadata": {
    "collapsed": false,
    "pycharm": {
     "name": "#%%\n"
    }
   }
  }
 ],
 "metadata": {
  "kernelspec": {
   "display_name": "Python 3",
   "language": "python",
   "name": "python3"
  },
  "language_info": {
   "codemirror_mode": {
    "name": "ipython",
    "version": 2
   },
   "file_extension": ".py",
   "mimetype": "text/x-python",
   "name": "python",
   "nbconvert_exporter": "python",
   "pygments_lexer": "ipython2",
   "version": "2.7.6"
  }
 },
 "nbformat": 4,
 "nbformat_minor": 0
}