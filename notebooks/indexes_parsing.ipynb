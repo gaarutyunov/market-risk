{
 "cells": [
  {
   "cell_type": "code",
   "execution_count": 1,
   "metadata": {
    "collapsed": true,
    "pycharm": {
     "name": "#%%\n"
    }
   },
   "outputs": [
    {
     "data": {
      "text/plain": "<IPython.core.display.HTML object>",
      "text/html": "<style type='text/css'>\n.datatable table.frame { margin-bottom: 0; }\n.datatable table.frame thead { border-bottom: none; }\n.datatable table.frame tr.coltypes td {  color: #FFFFFF;  line-height: 6px;  padding: 0 0.5em;}\n.datatable .bool    { background: #DDDD99; }\n.datatable .object  { background: #565656; }\n.datatable .int     { background: #5D9E5D; }\n.datatable .float   { background: #4040CC; }\n.datatable .str     { background: #CC4040; }\n.datatable .time    { background: #40CC40; }\n.datatable .row_index {  background: var(--jp-border-color3);  border-right: 1px solid var(--jp-border-color0);  color: var(--jp-ui-font-color3);  font-size: 9px;}\n.datatable .frame tbody td { text-align: left; }\n.datatable .frame tr.coltypes .row_index {  background: var(--jp-border-color0);}\n.datatable th:nth-child(2) { padding-left: 12px; }\n.datatable .hellipsis {  color: var(--jp-cell-editor-border-color);}\n.datatable .vellipsis {  background: var(--jp-layout-color0);  color: var(--jp-cell-editor-border-color);}\n.datatable .na {  color: var(--jp-cell-editor-border-color);  font-size: 80%;}\n.datatable .sp {  opacity: 0.25;}\n.datatable .footer { font-size: 9px; }\n.datatable .frame_dimensions {  background: var(--jp-border-color3);  border-top: 1px solid var(--jp-border-color0);  color: var(--jp-ui-font-color3);  display: inline-block;  opacity: 0.6;  padding: 1px 10px 1px 5px;}\n</style>\n"
     },
     "metadata": {},
     "output_type": "display_data"
    }
   ],
   "source": [
    "from datetime import date\n",
    "from pathlib import Path\n",
    "\n",
    "import aiohttp\n",
    "import aiomoex\n",
    "import pandas as pd\n",
    "from aiomoex import client\n",
    "from aiomoex.request_helpers import make_url, get_table, make_query\n",
    "import datatable as dt\n",
    "from datatable import f\n",
    "\n",
    "from glob import glob\n",
    "import seaborn as sns\n",
    "\n",
    "from parsing.indexes import get_indexes_history, __SELECTED_INDEXES__, __INDEX_FOLDER__"
   ]
  },
  {
   "cell_type": "code",
   "execution_count": 2,
   "outputs": [],
   "source": [
    "url = make_url(engine=\"stock\", market=\"index\", board=\"RTSI\", security='RTSI', history=True)\n",
    "query = make_query(start='2016-01-01', end='2022-01-01')\n",
    "\n",
    "async with aiohttp.ClientSession() as session:\n",
    "    iss = client.ISSClient(session, url, query)\n",
    "\n",
    "    data = await iss.get_all()\n",
    "    history = get_table(data, \"history\")\n",
    "    if len(history) > 0:\n",
    "        bond_df = pd.DataFrame(history)\n",
    "        bond_df.to_csv(str(__INDEX_FOLDER__.joinpath('history', 'RTSI.csv')), header=True, index=False)"
   ],
   "metadata": {
    "collapsed": false,
    "pycharm": {
     "name": "#%%\n"
    }
   }
  },
  {
   "cell_type": "code",
   "execution_count": 3,
   "outputs": [],
   "source": [
    "url = make_url(engine=\"stock\", market=\"index\", board=\"SNDX\", security='IMOEX', history=True)\n",
    "query = make_query(start='2016-01-01', end='2022-01-01')\n",
    "\n",
    "async with aiohttp.ClientSession() as session:\n",
    "    iss = client.ISSClient(session, url, query)\n",
    "\n",
    "    data = await iss.get_all()\n",
    "    history = get_table(data, \"history\")\n",
    "    if len(history) > 0:\n",
    "        bond_df = pd.DataFrame(history)\n",
    "        bond_df.to_csv(str(__INDEX_FOLDER__.joinpath('history', 'IMOEX.csv')), header=True, index=False)"
   ],
   "metadata": {
    "collapsed": false,
    "pycharm": {
     "name": "#%%\n"
    }
   }
  },
  {
   "cell_type": "code",
   "execution_count": 4,
   "outputs": [],
   "source": [
    "DT = get_indexes_history()"
   ],
   "metadata": {
    "collapsed": false,
    "pycharm": {
     "name": "#%%\n"
    }
   }
  },
  {
   "cell_type": "code",
   "execution_count": 5,
   "outputs": [
    {
     "data": {
      "text/plain": "     BOARDID  SECID  TRADEDATE        SHORTNAME             NAME    CLOSE  \\\n0       RTSI   RTSI 2016-01-04       Индекс РТС       Индекс РТС   749.28   \n1       RTSI   RTSI 2016-01-05       Индекс РТС       Индекс РТС   752.70   \n2       RTSI   RTSI 2016-01-06       Индекс РТС       Индекс РТС   736.82   \n3       RTSI   RTSI 2016-01-11       Индекс РТС       Индекс РТС   699.13   \n4       RTSI   RTSI 2016-01-12       Индекс РТС       Индекс РТС   695.32   \n...      ...    ...        ...              ...              ...      ...   \n3025    SNDX  IMOEX 2021-12-24  Индекс МосБиржи  Индекс МосБиржи  3702.72   \n3026    SNDX  IMOEX 2021-12-27  Индекс МосБиржи  Индекс МосБиржи  3740.63   \n3027    SNDX  IMOEX 2021-12-28  Индекс МосБиржи  Индекс МосБиржи  3777.56   \n3028    SNDX  IMOEX 2021-12-29  Индекс МосБиржи  Индекс МосБиржи  3741.07   \n3029    SNDX  IMOEX 2021-12-30  Индекс МосБиржи  Индекс МосБиржи  3787.26   \n\n         OPEN     HIGH      LOW         VALUE  DURATION  YIELD  DECIMALS  \\\n0      755.16   761.68   741.67  2.048065e+08       NaN    NaN         2   \n1      747.94   753.97   743.42  2.429300e+08       NaN    NaN         2   \n2      753.06   754.04   735.62  2.109621e+08       NaN    NaN         2   \n3      723.62   723.62   699.13  4.104600e+08       NaN    NaN         2   \n4      693.61   706.31   681.28  4.265443e+08       NaN    NaN         2   \n...       ...      ...      ...           ...       ...    ...       ...   \n3025  3700.34  3703.72  3653.63  4.475676e+10       0.0    0.0         2   \n3026  3711.77  3742.12  3709.19  4.914253e+10       0.0    0.0         2   \n3027  3766.50  3790.44  3751.00  6.403162e+10       0.0    0.0         2   \n3028  3756.54  3770.09  3727.35  6.035917e+10       0.0    0.0         2   \n3029  3753.92  3789.61  3740.93  6.149715e+10       0.0    0.0         2   \n\n      CAPITALIZATION CURRENCYID       DIVISOR  TRADINGSESSION VOLUME  \n0       1.115457e+11        USD  1.488700e+08               3    b''  \n1       1.120537e+11        USD  1.488700e+08               3    b''  \n2       1.096904e+11        USD  1.488700e+08               3    b''  \n3       1.040793e+11        USD  1.488700e+08               3    b''  \n4       1.035122e+11        USD  1.488700e+08               3    b''  \n...              ...        ...           ...             ...    ...  \n3025    1.830937e+13        RUB  4.944847e+09               3    b''  \n3026    1.849686e+13        RUB  4.944847e+09               3    b''  \n3027    1.867948e+13        RUB  4.944847e+09               3    b''  \n3028    1.849903e+13        RUB  4.944847e+09               3    b''  \n3029    1.872741e+13        RUB  4.944847e+09               3    b''  \n\n[3030 rows x 18 columns]",
      "text/html": "<div>\n<style scoped>\n    .dataframe tbody tr th:only-of-type {\n        vertical-align: middle;\n    }\n\n    .dataframe tbody tr th {\n        vertical-align: top;\n    }\n\n    .dataframe thead th {\n        text-align: right;\n    }\n</style>\n<table border=\"1\" class=\"dataframe\">\n  <thead>\n    <tr style=\"text-align: right;\">\n      <th></th>\n      <th>BOARDID</th>\n      <th>SECID</th>\n      <th>TRADEDATE</th>\n      <th>SHORTNAME</th>\n      <th>NAME</th>\n      <th>CLOSE</th>\n      <th>OPEN</th>\n      <th>HIGH</th>\n      <th>LOW</th>\n      <th>VALUE</th>\n      <th>DURATION</th>\n      <th>YIELD</th>\n      <th>DECIMALS</th>\n      <th>CAPITALIZATION</th>\n      <th>CURRENCYID</th>\n      <th>DIVISOR</th>\n      <th>TRADINGSESSION</th>\n      <th>VOLUME</th>\n    </tr>\n  </thead>\n  <tbody>\n    <tr>\n      <th>0</th>\n      <td>RTSI</td>\n      <td>RTSI</td>\n      <td>2016-01-04</td>\n      <td>Индекс РТС</td>\n      <td>Индекс РТС</td>\n      <td>749.28</td>\n      <td>755.16</td>\n      <td>761.68</td>\n      <td>741.67</td>\n      <td>2.048065e+08</td>\n      <td>NaN</td>\n      <td>NaN</td>\n      <td>2</td>\n      <td>1.115457e+11</td>\n      <td>USD</td>\n      <td>1.488700e+08</td>\n      <td>3</td>\n      <td>b''</td>\n    </tr>\n    <tr>\n      <th>1</th>\n      <td>RTSI</td>\n      <td>RTSI</td>\n      <td>2016-01-05</td>\n      <td>Индекс РТС</td>\n      <td>Индекс РТС</td>\n      <td>752.70</td>\n      <td>747.94</td>\n      <td>753.97</td>\n      <td>743.42</td>\n      <td>2.429300e+08</td>\n      <td>NaN</td>\n      <td>NaN</td>\n      <td>2</td>\n      <td>1.120537e+11</td>\n      <td>USD</td>\n      <td>1.488700e+08</td>\n      <td>3</td>\n      <td>b''</td>\n    </tr>\n    <tr>\n      <th>2</th>\n      <td>RTSI</td>\n      <td>RTSI</td>\n      <td>2016-01-06</td>\n      <td>Индекс РТС</td>\n      <td>Индекс РТС</td>\n      <td>736.82</td>\n      <td>753.06</td>\n      <td>754.04</td>\n      <td>735.62</td>\n      <td>2.109621e+08</td>\n      <td>NaN</td>\n      <td>NaN</td>\n      <td>2</td>\n      <td>1.096904e+11</td>\n      <td>USD</td>\n      <td>1.488700e+08</td>\n      <td>3</td>\n      <td>b''</td>\n    </tr>\n    <tr>\n      <th>3</th>\n      <td>RTSI</td>\n      <td>RTSI</td>\n      <td>2016-01-11</td>\n      <td>Индекс РТС</td>\n      <td>Индекс РТС</td>\n      <td>699.13</td>\n      <td>723.62</td>\n      <td>723.62</td>\n      <td>699.13</td>\n      <td>4.104600e+08</td>\n      <td>NaN</td>\n      <td>NaN</td>\n      <td>2</td>\n      <td>1.040793e+11</td>\n      <td>USD</td>\n      <td>1.488700e+08</td>\n      <td>3</td>\n      <td>b''</td>\n    </tr>\n    <tr>\n      <th>4</th>\n      <td>RTSI</td>\n      <td>RTSI</td>\n      <td>2016-01-12</td>\n      <td>Индекс РТС</td>\n      <td>Индекс РТС</td>\n      <td>695.32</td>\n      <td>693.61</td>\n      <td>706.31</td>\n      <td>681.28</td>\n      <td>4.265443e+08</td>\n      <td>NaN</td>\n      <td>NaN</td>\n      <td>2</td>\n      <td>1.035122e+11</td>\n      <td>USD</td>\n      <td>1.488700e+08</td>\n      <td>3</td>\n      <td>b''</td>\n    </tr>\n    <tr>\n      <th>...</th>\n      <td>...</td>\n      <td>...</td>\n      <td>...</td>\n      <td>...</td>\n      <td>...</td>\n      <td>...</td>\n      <td>...</td>\n      <td>...</td>\n      <td>...</td>\n      <td>...</td>\n      <td>...</td>\n      <td>...</td>\n      <td>...</td>\n      <td>...</td>\n      <td>...</td>\n      <td>...</td>\n      <td>...</td>\n      <td>...</td>\n    </tr>\n    <tr>\n      <th>3025</th>\n      <td>SNDX</td>\n      <td>IMOEX</td>\n      <td>2021-12-24</td>\n      <td>Индекс МосБиржи</td>\n      <td>Индекс МосБиржи</td>\n      <td>3702.72</td>\n      <td>3700.34</td>\n      <td>3703.72</td>\n      <td>3653.63</td>\n      <td>4.475676e+10</td>\n      <td>0.0</td>\n      <td>0.0</td>\n      <td>2</td>\n      <td>1.830937e+13</td>\n      <td>RUB</td>\n      <td>4.944847e+09</td>\n      <td>3</td>\n      <td>b''</td>\n    </tr>\n    <tr>\n      <th>3026</th>\n      <td>SNDX</td>\n      <td>IMOEX</td>\n      <td>2021-12-27</td>\n      <td>Индекс МосБиржи</td>\n      <td>Индекс МосБиржи</td>\n      <td>3740.63</td>\n      <td>3711.77</td>\n      <td>3742.12</td>\n      <td>3709.19</td>\n      <td>4.914253e+10</td>\n      <td>0.0</td>\n      <td>0.0</td>\n      <td>2</td>\n      <td>1.849686e+13</td>\n      <td>RUB</td>\n      <td>4.944847e+09</td>\n      <td>3</td>\n      <td>b''</td>\n    </tr>\n    <tr>\n      <th>3027</th>\n      <td>SNDX</td>\n      <td>IMOEX</td>\n      <td>2021-12-28</td>\n      <td>Индекс МосБиржи</td>\n      <td>Индекс МосБиржи</td>\n      <td>3777.56</td>\n      <td>3766.50</td>\n      <td>3790.44</td>\n      <td>3751.00</td>\n      <td>6.403162e+10</td>\n      <td>0.0</td>\n      <td>0.0</td>\n      <td>2</td>\n      <td>1.867948e+13</td>\n      <td>RUB</td>\n      <td>4.944847e+09</td>\n      <td>3</td>\n      <td>b''</td>\n    </tr>\n    <tr>\n      <th>3028</th>\n      <td>SNDX</td>\n      <td>IMOEX</td>\n      <td>2021-12-29</td>\n      <td>Индекс МосБиржи</td>\n      <td>Индекс МосБиржи</td>\n      <td>3741.07</td>\n      <td>3756.54</td>\n      <td>3770.09</td>\n      <td>3727.35</td>\n      <td>6.035917e+10</td>\n      <td>0.0</td>\n      <td>0.0</td>\n      <td>2</td>\n      <td>1.849903e+13</td>\n      <td>RUB</td>\n      <td>4.944847e+09</td>\n      <td>3</td>\n      <td>b''</td>\n    </tr>\n    <tr>\n      <th>3029</th>\n      <td>SNDX</td>\n      <td>IMOEX</td>\n      <td>2021-12-30</td>\n      <td>Индекс МосБиржи</td>\n      <td>Индекс МосБиржи</td>\n      <td>3787.26</td>\n      <td>3753.92</td>\n      <td>3789.61</td>\n      <td>3740.93</td>\n      <td>6.149715e+10</td>\n      <td>0.0</td>\n      <td>0.0</td>\n      <td>2</td>\n      <td>1.872741e+13</td>\n      <td>RUB</td>\n      <td>4.944847e+09</td>\n      <td>3</td>\n      <td>b''</td>\n    </tr>\n  </tbody>\n</table>\n<p>3030 rows × 18 columns</p>\n</div>"
     },
     "execution_count": 5,
     "metadata": {},
     "output_type": "execute_result"
    }
   ],
   "source": [
    "DT.to_pandas()"
   ],
   "metadata": {
    "collapsed": false,
    "pycharm": {
     "name": "#%%\n"
    }
   }
  }
 ],
 "metadata": {
  "kernelspec": {
   "display_name": "Python 3",
   "language": "python",
   "name": "python3"
  },
  "language_info": {
   "codemirror_mode": {
    "name": "ipython",
    "version": 2
   },
   "file_extension": ".py",
   "mimetype": "text/x-python",
   "name": "python",
   "nbconvert_exporter": "python",
   "pygments_lexer": "ipython2",
   "version": "2.7.6"
  }
 },
 "nbformat": 4,
 "nbformat_minor": 0
}