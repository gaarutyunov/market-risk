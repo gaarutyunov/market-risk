{
 "cells": [
  {
   "cell_type": "markdown",
   "metadata": {},
   "source": [
    "3. Для всех инструментов, входящих в портфель, реализовать оценку их справедливой стоимости в зависимости от риск-факторов. Критически обсудить выбор модели. Обязательно проверить точность модели."
   ]
  },
  {
   "cell_type": "markdown",
   "metadata": {},
   "source": [
    "В качестве модели будем "
   ]
  },
  {
   "cell_type": "code",
   "execution_count": 1,
   "metadata": {},
   "outputs": [],
   "source": [
    "import numpy as np\n",
    "import pandas as pd\n",
    "import statsmodels.api as sm"
   ]
  },
  {
   "cell_type": "markdown",
   "metadata": {},
   "source": [
    "#### Облигации"
   ]
  },
  {
   "cell_type": "markdown",
   "metadata": {},
   "source": [
    "В облигации будет оцениваться доходность по средневзвешенной цене, % годовых"
   ]
  },
  {
   "cell_type": "code",
   "execution_count": 9,
   "metadata": {},
   "outputs": [],
   "source": [
    "bonds = [\n",
    "    \"SU26207RMFS9\",\n",
    "    \"SU26209RMFS5\",\n",
    "    \"SU26211RMFS1\",\n",
    "    \"SU26212RMFS9\",\n",
    "    \"SU26215RMFS2\"\n",
    "]\n",
    "\n",
    "bonds_y = []"
   ]
  },
  {
   "cell_type": "code",
   "execution_count": 10,
   "metadata": {},
   "outputs": [],
   "source": [
    "for bond in bonds:\n",
    "    bonds_y.append(pd.read_csv(\"..\\\\data\\\\bonds\\\\history\\\\\" + bond + \".csv\", index_col = 'TRADEDATE')['YIELDATWAP'])"
   ]
  },
  {
   "cell_type": "code",
   "execution_count": 11,
   "metadata": {},
   "outputs": [
    {
     "data": {
      "text/plain": [
       "TRADEDATE\n",
       "2016-01-04     9.56\n",
       "2016-01-05     9.54\n",
       "2016-01-06     9.64\n",
       "2016-01-11     9.89\n",
       "2016-01-12    10.14\n",
       "              ...  \n",
       "2021-12-24     8.44\n",
       "2021-12-27     8.44\n",
       "2021-12-28     8.42\n",
       "2021-12-29     8.43\n",
       "2021-12-30     8.41\n",
       "Name: YIELDATWAP, Length: 1515, dtype: float64"
      ]
     },
     "execution_count": 11,
     "metadata": {},
     "output_type": "execute_result"
    }
   ],
   "source": [
    "bonds_y[0]"
   ]
  },
  {
   "cell_type": "markdown",
   "metadata": {},
   "source": [
    "**Акции и валюта**"
   ]
  },
  {
   "cell_type": "markdown",
   "metadata": {},
   "source": [
    "Строим модель динамики для каждой акции, в качестве **справедливой стоимости** выберем цену [weighted average price](https://www.foxbusiness.com/markets/how-to-calculate-weighted-average-price-per-share#:~:text=In%20order%20to%20calculate%20your%20weighted%20average%20price%20per%20share%2C%20simply%20multiply%20each%20purchase%20price%20by%20the%20amount%20of%20shares%20purchased%20at%20that%20price%2C%20add%20them%20together%2C%20and%20then%20divide%20by%20the%20total%20number%20of%20shares.), так как для долговременного прогноза кажется наименее пере- или недооценённым использовать взвешенную стоимость акции по всем торгам за прошедшее время."
   ]
  },
  {
   "cell_type": "code",
   "execution_count": 28,
   "metadata": {},
   "outputs": [],
   "source": [
    "stocks = [\n",
    "    \"ALRS\",\n",
    "    \"GAZP\",\n",
    "    \"GMKN\",\n",
    "    \"LKOH\",\n",
    "    \"MGNT\",\n",
    "    \"NLMK\",\n",
    "    \"NVTK\",\n",
    "    \"PLZL\",\n",
    "    \"POLY\",\n",
    "    \"ROSN\"\n",
    "]\n",
    "\n",
    "stocks_y = []"
   ]
  },
  {
   "cell_type": "code",
   "execution_count": 29,
   "metadata": {},
   "outputs": [],
   "source": [
    "for stock in stocks:\n",
    "    stocks_y.append(pd.read_csv(\"..\\\\data\\\\stocks\\\\history\\\\\" + stock + \".csv\", index_col = 'TRADEDATE')['WAPRICE'])"
   ]
  },
  {
   "cell_type": "code",
   "execution_count": 32,
   "metadata": {},
   "outputs": [],
   "source": [
    "currs = [\n",
    "    \"CNY000000TOD\",\n",
    "    \"USD000000TOD\"\n",
    "]\n",
    "\n",
    "currs_y = []"
   ]
  },
  {
   "cell_type": "code",
   "execution_count": 38,
   "metadata": {},
   "outputs": [],
   "source": [
    "for curr in currs:\n",
    "    currs_y.append(pd.read_csv(\"..\\\\data\\\\currencies\\\\history\\\\\" + curr + \".csv\", index_col = 'TRADEDATE')['WAPRICE'])\n"
   ]
  },
  {
   "cell_type": "code",
   "execution_count": 41,
   "metadata": {},
   "outputs": [
    {
     "data": {
      "text/plain": [
       "TRADEDATE\n",
       "2016-01-04    11.0123\n",
       "2016-01-05    11.0123\n",
       "2016-01-06    11.0123\n",
       "2016-01-11    11.4625\n",
       "2016-01-12    11.6713\n",
       "               ...   \n",
       "2021-12-24    11.4858\n",
       "2021-12-27    11.5056\n",
       "2021-12-28    11.5275\n",
       "2021-12-29    11.5632\n",
       "2021-12-30    11.6361\n",
       "Name: WAPRICE, Length: 1515, dtype: float64"
      ]
     },
     "execution_count": 41,
     "metadata": {},
     "output_type": "execute_result"
    }
   ],
   "source": [
    "currs_y[0]"
   ]
  },
  {
   "cell_type": "code",
   "execution_count": null,
   "metadata": {},
   "outputs": [],
   "source": []
  },
  {
   "cell_type": "code",
   "execution_count": null,
   "metadata": {},
   "outputs": [],
   "source": []
  },
  {
   "cell_type": "code",
   "execution_count": null,
   "metadata": {},
   "outputs": [],
   "source": []
  },
  {
   "cell_type": "code",
   "execution_count": null,
   "metadata": {},
   "outputs": [],
   "source": []
  },
  {
   "cell_type": "code",
   "execution_count": null,
   "metadata": {},
   "outputs": [],
   "source": []
  },
  {
   "cell_type": "code",
   "execution_count": null,
   "metadata": {},
   "outputs": [],
   "source": []
  },
  {
   "cell_type": "code",
   "execution_count": null,
   "metadata": {},
   "outputs": [],
   "source": []
  },
  {
   "cell_type": "code",
   "execution_count": null,
   "metadata": {},
   "outputs": [],
   "source": []
  }
 ],
 "metadata": {
  "kernelspec": {
   "display_name": "Python 3",
   "language": "python",
   "name": "python3"
  },
  "language_info": {
   "codemirror_mode": {
    "name": "ipython",
    "version": 3
   },
   "file_extension": ".py",
   "mimetype": "text/x-python",
   "name": "python",
   "nbconvert_exporter": "python",
   "pygments_lexer": "ipython3",
   "version": "3.8.5"
  }
 },
 "nbformat": 4,
 "nbformat_minor": 4
}
