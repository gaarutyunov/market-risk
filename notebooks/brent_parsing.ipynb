{
 "cells": [
  {
   "cell_type": "code",
   "execution_count": 1,
   "outputs": [
    {
     "data": {
      "text/plain": "<IPython.core.display.HTML object>",
      "text/html": "<style type='text/css'>\n.datatable table.frame { margin-bottom: 0; }\n.datatable table.frame thead { border-bottom: none; }\n.datatable table.frame tr.coltypes td {  color: #FFFFFF;  line-height: 6px;  padding: 0 0.5em;}\n.datatable .bool    { background: #DDDD99; }\n.datatable .object  { background: #565656; }\n.datatable .int     { background: #5D9E5D; }\n.datatable .float   { background: #4040CC; }\n.datatable .str     { background: #CC4040; }\n.datatable .time    { background: #40CC40; }\n.datatable .row_index {  background: var(--jp-border-color3);  border-right: 1px solid var(--jp-border-color0);  color: var(--jp-ui-font-color3);  font-size: 9px;}\n.datatable .frame tbody td { text-align: left; }\n.datatable .frame tr.coltypes .row_index {  background: var(--jp-border-color0);}\n.datatable th:nth-child(2) { padding-left: 12px; }\n.datatable .hellipsis {  color: var(--jp-cell-editor-border-color);}\n.datatable .vellipsis {  background: var(--jp-layout-color0);  color: var(--jp-cell-editor-border-color);}\n.datatable .na {  color: var(--jp-cell-editor-border-color);  font-size: 80%;}\n.datatable .sp {  opacity: 0.25;}\n.datatable .footer { font-size: 9px; }\n.datatable .frame_dimensions {  background: var(--jp-border-color3);  border-top: 1px solid var(--jp-border-color0);  color: var(--jp-ui-font-color3);  display: inline-block;  opacity: 0.6;  padding: 1px 10px 1px 5px;}\n</style>\n"
     },
     "metadata": {},
     "output_type": "display_data"
    }
   ],
   "source": [
    "from datetime import date\n",
    "from pathlib import Path\n",
    "\n",
    "import aiohttp\n",
    "import aiomoex\n",
    "import pandas as pd\n",
    "from aiomoex import client\n",
    "from aiomoex.request_helpers import make_url, get_table, make_query\n",
    "import datatable as dt\n",
    "from datatable import f\n",
    "\n",
    "from glob import glob\n",
    "import seaborn as sns\n",
    "\n",
    "from parsing.commodities import get_brent_history, __COMMODITIES_FOLDER__"
   ],
   "metadata": {
    "collapsed": false,
    "pycharm": {
     "name": "#%%\n"
    }
   }
  },
  {
   "cell_type": "code",
   "execution_count": 2,
   "metadata": {
    "collapsed": true,
    "pycharm": {
     "name": "#%%\n"
    }
   },
   "outputs": [],
   "source": [
    "PREFIX = 'BR'\n",
    "MONTHS = ('F', 'G', 'H', 'J', 'K', 'M', 'N', 'Q', 'U', 'V', 'X', 'Z')\n",
    "YEARS = range(0, 10)"
   ]
  },
  {
   "cell_type": "code",
   "execution_count": 4,
   "outputs": [],
   "source": [
    "for month in MONTHS:\n",
    "    for year in YEARS:\n",
    "        security = PREFIX + month + str(year)\n",
    "\n",
    "        url = make_url(engine=\"futures\", market=\"forts\", board=\"RFUD\", security=security, history=True)\n",
    "        query = make_query(start='2016-01-01', end='2022-01-01')\n",
    "\n",
    "        async with aiohttp.ClientSession() as session:\n",
    "            iss = client.ISSClient(session, url, query)\n",
    "\n",
    "            data = await iss.get_all()\n",
    "            history = get_table(data, \"history\")\n",
    "            if len(history) == 0:\n",
    "                continue\n",
    "\n",
    "            bond_df = pd.DataFrame(history)\n",
    "            bond_df.to_csv(str(__COMMODITIES_FOLDER__.joinpath('history', security + '.csv')), header=True, index=False)\n"
   ],
   "metadata": {
    "collapsed": false,
    "pycharm": {
     "name": "#%%\n"
    }
   }
  },
  {
   "cell_type": "code",
   "execution_count": 5,
   "outputs": [],
   "source": [
    "DT = get_brent_history()"
   ],
   "metadata": {
    "collapsed": false,
    "pycharm": {
     "name": "#%%\n"
    }
   }
  },
  {
   "cell_type": "code",
   "execution_count": 6,
   "outputs": [
    {
     "data": {
      "text/plain": "      BOARDID  TRADEDATE SECID   OPEN    LOW   HIGH  CLOSE  OPENPOSITIONVALUE  \\\n0        RFUD 2019-09-25  BRV0    NaN    NaN    NaN    NaN       0.000000e+00   \n1        RFUD 2019-09-26  BRV0    NaN    NaN    NaN    NaN       0.000000e+00   \n2        RFUD 2019-09-27  BRV0  59.13  59.13  59.13  59.13       1.509958e+05   \n3        RFUD 2019-09-30  BRV0  59.40  56.79  59.40  56.79       1.512868e+05   \n4        RFUD 2019-10-01  BRV0    NaN    NaN    NaN    NaN       1.507763e+05   \n...       ...        ...   ...    ...    ...    ...    ...                ...   \n17726    RFUD 2016-10-27  BRX6  50.09  49.66  50.77  50.60       1.407277e+10   \n17727    RFUD 2016-10-28  BRX6  50.69  49.91  50.88  49.97       1.425438e+10   \n17728    RFUD 2016-10-31  BRX6  50.00  48.05  50.13  48.16       7.888373e+09   \n17729    RFUD 2016-11-01  BRX6  48.22  47.96  48.34  48.32       0.000000e+00   \n17730    RFUD 2016-11-02  BRX6    NaN    NaN    NaN    NaN       0.000000e+00   \n\n              VALUE     VOLUME  OPENPOSITION  \n0               NaN        NaN           NaN  \n1               NaN        NaN           NaN  \n2      7.611580e+04        2.0           4.0  \n3      7.539035e+04        2.0           4.0  \n4               NaN        NaN           4.0  \n...             ...        ...           ...  \n17726  6.115958e+10  1938058.0      443120.0  \n17727  4.075412e+10  1286571.0      453356.0  \n17728  4.041177e+10  1292924.0      258312.0  \n17729  9.307155e+09   305863.0           0.0  \n17730           NaN        NaN           NaN  \n\n[17731 rows x 11 columns]",
      "text/html": "<div>\n<style scoped>\n    .dataframe tbody tr th:only-of-type {\n        vertical-align: middle;\n    }\n\n    .dataframe tbody tr th {\n        vertical-align: top;\n    }\n\n    .dataframe thead th {\n        text-align: right;\n    }\n</style>\n<table border=\"1\" class=\"dataframe\">\n  <thead>\n    <tr style=\"text-align: right;\">\n      <th></th>\n      <th>BOARDID</th>\n      <th>TRADEDATE</th>\n      <th>SECID</th>\n      <th>OPEN</th>\n      <th>LOW</th>\n      <th>HIGH</th>\n      <th>CLOSE</th>\n      <th>OPENPOSITIONVALUE</th>\n      <th>VALUE</th>\n      <th>VOLUME</th>\n      <th>OPENPOSITION</th>\n    </tr>\n  </thead>\n  <tbody>\n    <tr>\n      <th>0</th>\n      <td>RFUD</td>\n      <td>2019-09-25</td>\n      <td>BRV0</td>\n      <td>NaN</td>\n      <td>NaN</td>\n      <td>NaN</td>\n      <td>NaN</td>\n      <td>0.000000e+00</td>\n      <td>NaN</td>\n      <td>NaN</td>\n      <td>NaN</td>\n    </tr>\n    <tr>\n      <th>1</th>\n      <td>RFUD</td>\n      <td>2019-09-26</td>\n      <td>BRV0</td>\n      <td>NaN</td>\n      <td>NaN</td>\n      <td>NaN</td>\n      <td>NaN</td>\n      <td>0.000000e+00</td>\n      <td>NaN</td>\n      <td>NaN</td>\n      <td>NaN</td>\n    </tr>\n    <tr>\n      <th>2</th>\n      <td>RFUD</td>\n      <td>2019-09-27</td>\n      <td>BRV0</td>\n      <td>59.13</td>\n      <td>59.13</td>\n      <td>59.13</td>\n      <td>59.13</td>\n      <td>1.509958e+05</td>\n      <td>7.611580e+04</td>\n      <td>2.0</td>\n      <td>4.0</td>\n    </tr>\n    <tr>\n      <th>3</th>\n      <td>RFUD</td>\n      <td>2019-09-30</td>\n      <td>BRV0</td>\n      <td>59.40</td>\n      <td>56.79</td>\n      <td>59.40</td>\n      <td>56.79</td>\n      <td>1.512868e+05</td>\n      <td>7.539035e+04</td>\n      <td>2.0</td>\n      <td>4.0</td>\n    </tr>\n    <tr>\n      <th>4</th>\n      <td>RFUD</td>\n      <td>2019-10-01</td>\n      <td>BRV0</td>\n      <td>NaN</td>\n      <td>NaN</td>\n      <td>NaN</td>\n      <td>NaN</td>\n      <td>1.507763e+05</td>\n      <td>NaN</td>\n      <td>NaN</td>\n      <td>4.0</td>\n    </tr>\n    <tr>\n      <th>...</th>\n      <td>...</td>\n      <td>...</td>\n      <td>...</td>\n      <td>...</td>\n      <td>...</td>\n      <td>...</td>\n      <td>...</td>\n      <td>...</td>\n      <td>...</td>\n      <td>...</td>\n      <td>...</td>\n    </tr>\n    <tr>\n      <th>17726</th>\n      <td>RFUD</td>\n      <td>2016-10-27</td>\n      <td>BRX6</td>\n      <td>50.09</td>\n      <td>49.66</td>\n      <td>50.77</td>\n      <td>50.60</td>\n      <td>1.407277e+10</td>\n      <td>6.115958e+10</td>\n      <td>1938058.0</td>\n      <td>443120.0</td>\n    </tr>\n    <tr>\n      <th>17727</th>\n      <td>RFUD</td>\n      <td>2016-10-28</td>\n      <td>BRX6</td>\n      <td>50.69</td>\n      <td>49.91</td>\n      <td>50.88</td>\n      <td>49.97</td>\n      <td>1.425438e+10</td>\n      <td>4.075412e+10</td>\n      <td>1286571.0</td>\n      <td>453356.0</td>\n    </tr>\n    <tr>\n      <th>17728</th>\n      <td>RFUD</td>\n      <td>2016-10-31</td>\n      <td>BRX6</td>\n      <td>50.00</td>\n      <td>48.05</td>\n      <td>50.13</td>\n      <td>48.16</td>\n      <td>7.888373e+09</td>\n      <td>4.041177e+10</td>\n      <td>1292924.0</td>\n      <td>258312.0</td>\n    </tr>\n    <tr>\n      <th>17729</th>\n      <td>RFUD</td>\n      <td>2016-11-01</td>\n      <td>BRX6</td>\n      <td>48.22</td>\n      <td>47.96</td>\n      <td>48.34</td>\n      <td>48.32</td>\n      <td>0.000000e+00</td>\n      <td>9.307155e+09</td>\n      <td>305863.0</td>\n      <td>0.0</td>\n    </tr>\n    <tr>\n      <th>17730</th>\n      <td>RFUD</td>\n      <td>2016-11-02</td>\n      <td>BRX6</td>\n      <td>NaN</td>\n      <td>NaN</td>\n      <td>NaN</td>\n      <td>NaN</td>\n      <td>0.000000e+00</td>\n      <td>NaN</td>\n      <td>NaN</td>\n      <td>NaN</td>\n    </tr>\n  </tbody>\n</table>\n<p>17731 rows × 11 columns</p>\n</div>"
     },
     "execution_count": 6,
     "metadata": {},
     "output_type": "execute_result"
    }
   ],
   "source": [
    "DT.to_pandas()"
   ],
   "metadata": {
    "collapsed": false,
    "pycharm": {
     "name": "#%%\n"
    }
   }
  },
  {
   "cell_type": "code",
   "execution_count": null,
   "outputs": [],
   "source": [],
   "metadata": {
    "collapsed": false,
    "pycharm": {
     "name": "#%%\n"
    }
   }
  }
 ],
 "metadata": {
  "kernelspec": {
   "display_name": "Python 3",
   "language": "python",
   "name": "python3"
  },
  "language_info": {
   "codemirror_mode": {
    "name": "ipython",
    "version": 2
   },
   "file_extension": ".py",
   "mimetype": "text/x-python",
   "name": "python",
   "nbconvert_exporter": "python",
   "pygments_lexer": "ipython2",
   "version": "2.7.6"
  }
 },
 "nbformat": 4,
 "nbformat_minor": 0
}